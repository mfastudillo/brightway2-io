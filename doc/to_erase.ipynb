{
 "cells": [
  {
   "cell_type": "code",
   "execution_count": 1,
   "metadata": {},
   "outputs": [],
   "source": [
    "from bw2io.extractors import ilcd\n",
    "from pathlib import Path"
   ]
  },
  {
   "cell_type": "code",
   "execution_count": 2,
   "metadata": {},
   "outputs": [],
   "source": [
    "path_to_zip = Path('bw2io/data/examples/ilcd_example.zip')"
   ]
  },
  {
   "cell_type": "code",
   "execution_count": 3,
   "metadata": {},
   "outputs": [],
   "source": [
    "etrees_dict = ilcd.extract_zip(path_to_zip)"
   ]
  },
  {
   "cell_type": "code",
   "execution_count": 4,
   "metadata": {},
   "outputs": [],
   "source": [
    "example = {\n",
    " 'categories': ['Wood Product Manufacturing', 'Softwood Veneer and Plywood Mnf.'],\n",
    " 'location': 'RNA',\n",
    " 'name': 'Green veneer, at plywood plant, US PNW',\n",
    " 'type': 'process',\n",
    " 'unit': 'kilogram',\n",
    " 'exchanges': [{\n",
    "   'amount': 1.0,\n",
    "   'code': 6,\n",
    "   'group': 2,\n",
    "   'input': ('US LCI', '6ddb4cc00f9e42aa48515248256c31dc'),\n",
    "   'type': 'production',\n",
    "   'uncertainty type': 0},\n",
    "  {'amount': 7.349999999999999e-06,\n",
    "   'code': 5,\n",
    "   'group': 4,\n",
    "   'input': ('biosphere', '51447e58e03a40a2bbd9abf45214b7d3'),\n",
    "   'type': 'biosphere',\n",
    "   'uncertainty type': 0}],\n",
    "}"
   ]
  },
  {
   "cell_type": "code",
   "execution_count": 5,
   "metadata": {},
   "outputs": [],
   "source": [
    "ilcd_bw_dict = {\n",
    "'basename':'name',\n",
    "'uuid':'code',\n",
    "'location':'location',\n",
    "}"
   ]
  },
  {
   "cell_type": "markdown",
   "metadata": {},
   "source": [
    "## process data\n",
    "\n"
   ]
  },
  {
   "cell_type": "code",
   "execution_count": 6,
   "metadata": {},
   "outputs": [],
   "source": [
    "default_ns = ilcd.namespaces[\"default_process_ns\"]\n",
    "ns = ilcd.namespaces[\"others\"]\n",
    "ns.update(default_ns)\n",
    "\n",
    "for path,etree in etrees_dict['processes'].items():\n",
    "\n",
    "    one_thing = ilcd.get_xml_value(etree, ilcd.xpaths_process[\"basename\"], default_ns, ns)\n",
    "    production = ilcd.apply_xpaths_to_xml_file(ilcd.xpaths_process,etree)"
   ]
  },
  {
   "cell_type": "code",
   "execution_count": 7,
   "metadata": {},
   "outputs": [
    {
     "data": {
      "text/plain": [
       "{'basename': 'Aromatic Polyester Polyols (APP) production mix',\n",
       " 'treatment_standards_routes': 'polycondensation',\n",
       " 'mix_and_location_types': 'production mix, at producer',\n",
       " 'functional_unit_flow_properties': 'Hydroxyl value: 150-360 mg KOH/g, aromatic content: 5-50%; Average gross calorific value 22.5 MJ/kg',\n",
       " 'uuid': 'd2fe899e-7fc0-49d3-a7cc-bbf8cad5439a',\n",
       " 'reference_year': '2019',\n",
       " 'data_set_valid_until': '2026',\n",
       " 'location': 'EU-28',\n",
       " 'reference_to_reference_flow': None}"
      ]
     },
     "execution_count": 7,
     "metadata": {},
     "output_type": "execute_result"
    }
   ],
   "source": [
    "production"
   ]
  },
  {
   "cell_type": "markdown",
   "metadata": {},
   "source": [
    "flows"
   ]
  },
  {
   "cell_type": "code",
   "execution_count": 8,
   "metadata": {},
   "outputs": [],
   "source": [
    "default_ns = ilcd.namespaces['default_flow_ns']\n",
    "ns = ilcd.namespaces[\"others\"]\n",
    "ns.update(default_ns)\n",
    "\n",
    "\n",
    "for path,etree in etrees_dict['flows'].items():\n",
    "    one_thing = ilcd.get_xml_value(etree, ilcd.xpaths_flows['value'], default_ns, ns)\n",
    "    thing = ilcd.apply_xpaths_to_xml_file(ilcd.xpaths_flows,etree)\n",
    "    \n",
    "    break"
   ]
  },
  {
   "cell_type": "code",
   "execution_count": 10,
   "metadata": {},
   "outputs": [
    {
     "data": {
      "text/plain": [
       "{'basename': None,\n",
       " 'uuid': None,\n",
       " 'category': None,\n",
       " 'type': None,\n",
       " 'value': None,\n",
       " 'refobj': None}"
      ]
     },
     "execution_count": 10,
     "metadata": {},
     "output_type": "execute_result"
    }
   ],
   "source": [
    "thing"
   ]
  },
  {
   "cell_type": "markdown",
   "metadata": {},
   "source": [
    "## Exchanges"
   ]
  },
  {
   "cell_type": "code",
   "execution_count": 52,
   "metadata": {},
   "outputs": [
    {
     "data": {
      "text/plain": [
       "{'default_process_ns': {'pns': 'http://lca.jrc.it/ILCD/Process'},\n",
       " 'default_flow_ns': {'fns': 'http://lca.jrc.it/ILCD/Flow'},\n",
       " 'others': {'common': 'http://lca.jrc.it/ILCD/Common',\n",
       "  'pns': 'http://lca.jrc.it/ILCD/Process',\n",
       "  'fns': 'http://lca.jrc.it/ILCD/Flow'}}"
      ]
     },
     "execution_count": 52,
     "metadata": {},
     "output_type": "execute_result"
    }
   ],
   "source": [
    "ilcd.namespaces"
   ]
  },
  {
   "cell_type": "code",
   "execution_count": 12,
   "metadata": {},
   "outputs": [],
   "source": [
    "default_ns = ilcd.namespaces['default_process_ns']\n",
    "ns = ilcd.namespaces[\"others\"]\n",
    "ns.update(default_ns)\n",
    "\n",
    "for path,etree in etrees_dict['processes'].items():\n",
    "    \n",
    "    one_thing = ilcd.get_xml_value(etree,\n",
    "    ilcd.xpaths_process_exchanges['exchange_uuid'],\n",
    "    default_ns, ns)\n",
    "    \n",
    "    dict_of_things = ilcd.apply_xpaths_to_xml_file(ilcd.xpaths_process_exchanges,etree)\n",
    "    break"
   ]
  },
  {
   "cell_type": "code",
   "execution_count": 15,
   "metadata": {},
   "outputs": [],
   "source": [
    "import pandas as pd"
   ]
  },
  {
   "cell_type": "code",
   "execution_count": 16,
   "metadata": {},
   "outputs": [
    {
     "data": {
      "text/html": [
       "<div>\n",
       "<style scoped>\n",
       "    .dataframe tbody tr th:only-of-type {\n",
       "        vertical-align: middle;\n",
       "    }\n",
       "\n",
       "    .dataframe tbody tr th {\n",
       "        vertical-align: top;\n",
       "    }\n",
       "\n",
       "    .dataframe thead th {\n",
       "        text-align: right;\n",
       "    }\n",
       "</style>\n",
       "<table border=\"1\" class=\"dataframe\">\n",
       "  <thead>\n",
       "    <tr style=\"text-align: right;\">\n",
       "      <th></th>\n",
       "      <th>exchange_internal_id</th>\n",
       "      <th>exchange_name</th>\n",
       "      <th>exchange_uuid</th>\n",
       "      <th>exchange_direction</th>\n",
       "      <th>exchange_amount</th>\n",
       "    </tr>\n",
       "  </thead>\n",
       "  <tbody>\n",
       "    <tr>\n",
       "      <th>0</th>\n",
       "      <td>0</td>\n",
       "      <td>forest, used [Land occupation]</td>\n",
       "      <td>c38ef9cf-ae41-40a8-b018-58d9472c7cfa</td>\n",
       "      <td>Input</td>\n",
       "      <td>2.07123030940167E-4</td>\n",
       "    </tr>\n",
       "    <tr>\n",
       "      <th>1</th>\n",
       "      <td>1</td>\n",
       "      <td>Water to turbine</td>\n",
       "      <td>9575e5d0-f865-4ad1-9d98-6b0d6e275780</td>\n",
       "      <td>Input</td>\n",
       "      <td>0.00198039946438739</td>\n",
       "    </tr>\n",
       "    <tr>\n",
       "      <th>2</th>\n",
       "      <td>2</td>\n",
       "      <td>lake water</td>\n",
       "      <td>c506b970-7b92-452f-8d6f-05d4f203d958</td>\n",
       "      <td>Input</td>\n",
       "      <td>5.39622814311519E-7</td>\n",
       "    </tr>\n",
       "    <tr>\n",
       "      <th>3</th>\n",
       "      <td>3</td>\n",
       "      <td>dump site [Land occupation]</td>\n",
       "      <td>616ab5c3-116f-4fbb-bc6b-196318afe5be</td>\n",
       "      <td>Input</td>\n",
       "      <td>1.78796037181025E-8</td>\n",
       "    </tr>\n",
       "    <tr>\n",
       "      <th>4</th>\n",
       "      <td>4</td>\n",
       "      <td>from mineral extraction site [Land transformat...</td>\n",
       "      <td>b129498b-6ff1-4025-95f4-a7f821b341c1</td>\n",
       "      <td>Input</td>\n",
       "      <td>1.62822575680243E-15</td>\n",
       "    </tr>\n",
       "    <tr>\n",
       "      <th>...</th>\n",
       "      <td>...</td>\n",
       "      <td>...</td>\n",
       "      <td>...</td>\n",
       "      <td>...</td>\n",
       "      <td>...</td>\n",
       "    </tr>\n",
       "    <tr>\n",
       "      <th>1964</th>\n",
       "      <td>1964</td>\n",
       "      <td>ethane [Emissions to air, unspecified]</td>\n",
       "      <td>4d9a8790-3ddd-11dd-9219-0050c2490048</td>\n",
       "      <td>Output</td>\n",
       "      <td>1.92570205418868E-4</td>\n",
       "    </tr>\n",
       "    <tr>\n",
       "      <th>1965</th>\n",
       "      <td>1965</td>\n",
       "      <td>cerium-141 [Emissions to air, unspecified]</td>\n",
       "      <td>08a91e70-3ddc-11dd-9260-0050c2490048</td>\n",
       "      <td>Output</td>\n",
       "      <td>2.86689705897183E-18</td>\n",
       "    </tr>\n",
       "    <tr>\n",
       "      <th>1966</th>\n",
       "      <td>1966</td>\n",
       "      <td>cresol [Emissions to sea water]</td>\n",
       "      <td>4d9a8790-3ddd-11dd-8f56-0050c2490048</td>\n",
       "      <td>Output</td>\n",
       "      <td>1.03137066814412E-17</td>\n",
       "    </tr>\n",
       "    <tr>\n",
       "      <th>1967</th>\n",
       "      <td>1967</td>\n",
       "      <td>acifluorfen [Emissions to air, unspecified]</td>\n",
       "      <td>4d9a8790-3ddd-11dd-9274-0050c2490048</td>\n",
       "      <td>Output</td>\n",
       "      <td>3.52106132774714E-23</td>\n",
       "    </tr>\n",
       "    <tr>\n",
       "      <th>1968</th>\n",
       "      <td>1968</td>\n",
       "      <td>potassium-40 [Emissions to fresh water]</td>\n",
       "      <td>08a91e70-3ddc-11dd-97cc-0050c2490048</td>\n",
       "      <td>Output</td>\n",
       "      <td>1.98356512615778E-15</td>\n",
       "    </tr>\n",
       "  </tbody>\n",
       "</table>\n",
       "<p>1969 rows × 5 columns</p>\n",
       "</div>"
      ],
      "text/plain": [
       "     exchange_internal_id                                      exchange_name  \\\n",
       "0                       0                     forest, used [Land occupation]   \n",
       "1                       1                                   Water to turbine   \n",
       "2                       2                                         lake water   \n",
       "3                       3                        dump site [Land occupation]   \n",
       "4                       4  from mineral extraction site [Land transformat...   \n",
       "...                   ...                                                ...   \n",
       "1964                 1964             ethane [Emissions to air, unspecified]   \n",
       "1965                 1965         cerium-141 [Emissions to air, unspecified]   \n",
       "1966                 1966                    cresol [Emissions to sea water]   \n",
       "1967                 1967        acifluorfen [Emissions to air, unspecified]   \n",
       "1968                 1968            potassium-40 [Emissions to fresh water]   \n",
       "\n",
       "                             exchange_uuid exchange_direction  \\\n",
       "0     c38ef9cf-ae41-40a8-b018-58d9472c7cfa              Input   \n",
       "1     9575e5d0-f865-4ad1-9d98-6b0d6e275780              Input   \n",
       "2     c506b970-7b92-452f-8d6f-05d4f203d958              Input   \n",
       "3     616ab5c3-116f-4fbb-bc6b-196318afe5be              Input   \n",
       "4     b129498b-6ff1-4025-95f4-a7f821b341c1              Input   \n",
       "...                                    ...                ...   \n",
       "1964  4d9a8790-3ddd-11dd-9219-0050c2490048             Output   \n",
       "1965  08a91e70-3ddc-11dd-9260-0050c2490048             Output   \n",
       "1966  4d9a8790-3ddd-11dd-8f56-0050c2490048             Output   \n",
       "1967  4d9a8790-3ddd-11dd-9274-0050c2490048             Output   \n",
       "1968  08a91e70-3ddc-11dd-97cc-0050c2490048             Output   \n",
       "\n",
       "           exchange_amount  \n",
       "0      2.07123030940167E-4  \n",
       "1      0.00198039946438739  \n",
       "2      5.39622814311519E-7  \n",
       "3      1.78796037181025E-8  \n",
       "4     1.62822575680243E-15  \n",
       "...                    ...  \n",
       "1964   1.92570205418868E-4  \n",
       "1965  2.86689705897183E-18  \n",
       "1966  1.03137066814412E-17  \n",
       "1967  3.52106132774714E-23  \n",
       "1968  1.98356512615778E-15  \n",
       "\n",
       "[1969 rows x 5 columns]"
      ]
     },
     "execution_count": 16,
     "metadata": {},
     "output_type": "execute_result"
    }
   ],
   "source": [
    "pd.DataFrame(dict_of_things)"
   ]
  },
  {
   "cell_type": "code",
   "execution_count": 67,
   "metadata": {},
   "outputs": [],
   "source": [
    "one_thing"
   ]
  },
  {
   "cell_type": "code",
   "execution_count": 68,
   "metadata": {},
   "outputs": [
    {
     "data": {
      "text/plain": [
       "{'basename': None,\n",
       " 'uuid': None,\n",
       " 'category': None,\n",
       " 'type': None,\n",
       " 'value': None,\n",
       " 'refobj': None}"
      ]
     },
     "execution_count": 68,
     "metadata": {},
     "output_type": "execute_result"
    }
   ],
   "source": [
    "dict_of_things"
   ]
  },
  {
   "cell_type": "code",
   "execution_count": null,
   "metadata": {},
   "outputs": [],
   "source": []
  },
  {
   "cell_type": "markdown",
   "metadata": {},
   "source": [
    "## example of extractor"
   ]
  },
  {
   "cell_type": "code",
   "execution_count": null,
   "metadata": {},
   "outputs": [],
   "source": []
  }
 ],
 "metadata": {
  "kernelspec": {
   "display_name": "Python 3.9.10 ('bw25')",
   "language": "python",
   "name": "python3"
  },
  "language_info": {
   "codemirror_mode": {
    "name": "ipython",
    "version": 3
   },
   "file_extension": ".py",
   "mimetype": "text/x-python",
   "name": "python",
   "nbconvert_exporter": "python",
   "pygments_lexer": "ipython3",
   "version": "3.9.10"
  },
  "orig_nbformat": 4,
  "vscode": {
   "interpreter": {
    "hash": "f5636160fdb1206eee29cc7e23423e5783abcd6f7b41493032bc3a705570987e"
   }
  }
 },
 "nbformat": 4,
 "nbformat_minor": 2
}
