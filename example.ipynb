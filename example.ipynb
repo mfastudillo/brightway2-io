{
 "cells": [
  {
   "cell_type": "code",
   "execution_count": 1,
   "metadata": {},
   "outputs": [],
   "source": [
    "from pathlib import Path\n",
    "import bw2io\n",
    "import bw2calc\n",
    "import bw2data\n",
    "from bw2io.importers.ilcd import ILCDImporter\n",
    "import pandas as pd\n",
    "from collections import Counter"
   ]
  },
  {
   "cell_type": "code",
   "execution_count": 2,
   "metadata": {},
   "outputs": [
    {
     "name": "stdout",
     "output_type": "stream",
     "text": [
      "(0, 9, 'DEV10')\n"
     ]
    }
   ],
   "source": [
    "print(bw2io.__version__)"
   ]
  },
  {
   "cell_type": "code",
   "execution_count": 3,
   "metadata": {},
   "outputs": [
    {
     "name": "stdout",
     "output_type": "stream",
     "text": [
      "Biosphere database already present!!! No setup is needed\n"
     ]
    }
   ],
   "source": [
    "bw2data.projects.set_current('ilcd_import')\n",
    "bw2io.bw2setup()"
   ]
  },
  {
   "cell_type": "markdown",
   "metadata": {},
   "source": [
    "## lcacommons data"
   ]
  },
  {
   "cell_type": "code",
   "execution_count": 4,
   "metadata": {},
   "outputs": [],
   "source": [
    "\n",
    "path_to_example = Path('bw2io/data/examples/ilcd_examples/f29030e5-f681-31ae-9be8-d47f905cb0cb_3281fd83-15b3-4183-997d-dda9ea50dacd.zip')\n",
    "lcacommons = ILCDImporter(dirpath= path_to_example,dbname='example_ilcd_lcacommons')\n"
   ]
  },
  {
   "cell_type": "code",
   "execution_count": 5,
   "metadata": {},
   "outputs": [
    {
     "name": "stdout",
     "output_type": "stream",
     "text": [
      "Applying strategy: rename_activity_keys\n",
      "Applying strategy: get_activity_unit\n",
      "Applying strategy: set_production_exchange\n",
      "Applying strategy: convert_to_default_units\n",
      "Applying strategy: assign_only_product_as_production\n",
      "Applying strategy: map_to_biosphere3\n",
      "Applying strategy: set_default_location\n",
      "Applied 7 strategies in 0.04 seconds\n"
     ]
    }
   ],
   "source": [
    "lcacommons.apply_strategies()"
   ]
  },
  {
   "cell_type": "code",
   "execution_count": 6,
   "metadata": {},
   "outputs": [
    {
     "name": "stdout",
     "output_type": "stream",
     "text": [
      "Applying strategy: link_iterable_by_fields\n",
      "Applying strategy: link_iterable_by_fields\n",
      "1 datasets\n",
      "2128 exchanges\n",
      "2112 unlinked exchanges\n",
      "  Type biosphere: 1135 unique unlinked exchanges\n",
      "  Type technosphere: 88 unique unlinked exchanges\n"
     ]
    },
    {
     "data": {
      "text/plain": [
       "(1, 2128, 2112)"
      ]
     },
     "execution_count": 6,
     "metadata": {},
     "output_type": "execute_result"
    }
   ],
   "source": [
    "\n",
    "lcacommons.match_database('biosphere3',fields=['database','code'])\n",
    "lcacommons.match_database(fields=['database','code',])\n",
    "lcacommons.statistics()"
   ]
  },
  {
   "cell_type": "code",
   "execution_count": 7,
   "metadata": {},
   "outputs": [
    {
     "data": {
      "text/plain": [
       "'coal extraction and processing - Northern Appalachia, WC, Underground'"
      ]
     },
     "execution_count": 7,
     "metadata": {},
     "output_type": "execute_result"
    }
   ],
   "source": [
    "lcacommons.data[0].get('name')"
   ]
  },
  {
   "cell_type": "code",
   "execution_count": 8,
   "metadata": {},
   "outputs": [],
   "source": [
    "lcacommons_df = pd.DataFrame(lcacommons.data[0]['exchanges'])"
   ]
  },
  {
   "cell_type": "markdown",
   "metadata": {},
   "source": [
    "the data used in the ilcd 2 ecoinvent migration is the ones available in the GLAD database"
   ]
  },
  {
   "cell_type": "markdown",
   "metadata": {},
   "source": [
    "Instead of using the ilcd to ecoinvent 3.7 mapping, lets use the `FEDEFL to ecoinvent`"
   ]
  },
  {
   "cell_type": "code",
   "execution_count": 9,
   "metadata": {},
   "outputs": [],
   "source": [
    "fede_ei = pd.read_excel((Path.cwd() /'bw2io'/'data'/'FEDEFLv1.0.3-ecoinventEFv3.7.xlsx'))\n",
    "fede_ei_mapping = fede_ei.set_index('SourceFlowUUID')['TargetFlowUUID'].dropna().to_dict()"
   ]
  },
  {
   "cell_type": "code",
   "execution_count": 10,
   "metadata": {},
   "outputs": [],
   "source": [
    "for e in lcacommons.unlinked:\n",
    "    code = fede_ei_mapping.get(e['uuid'])\n",
    "    if code is not None:\n",
    "        e['code'] = code"
   ]
  },
  {
   "cell_type": "code",
   "execution_count": 11,
   "metadata": {},
   "outputs": [
    {
     "name": "stdout",
     "output_type": "stream",
     "text": [
      "Applying strategy: link_iterable_by_fields\n"
     ]
    }
   ],
   "source": [
    "lcacommons.match_database('biosphere3',fields=['database','code'])"
   ]
  },
  {
   "cell_type": "code",
   "execution_count": 12,
   "metadata": {},
   "outputs": [
    {
     "name": "stdout",
     "output_type": "stream",
     "text": [
      "1 datasets\n",
      "2128 exchanges\n",
      "1542 unlinked exchanges\n",
      "  Type biosphere: 907 unique unlinked exchanges\n",
      "  Type technosphere: 88 unique unlinked exchanges\n"
     ]
    },
    {
     "data": {
      "text/plain": [
       "(1, 2128, 1542)"
      ]
     },
     "execution_count": 12,
     "metadata": {},
     "output_type": "execute_result"
    }
   ],
   "source": [
    "lcacommons.statistics()"
   ]
  },
  {
   "cell_type": "markdown",
   "metadata": {},
   "source": [
    "the biosphere flows do not have a code... ?"
   ]
  },
  {
   "cell_type": "code",
   "execution_count": 13,
   "metadata": {},
   "outputs": [
    {
     "name": "stdout",
     "output_type": "stream",
     "text": [
      "technosphere --- 2,4-DINITROTOLUENE --- d3540cb8-a801-3913-9040-1619ab5b3b46\n",
      "biosphere --- Methyl parathion --- 0cf75565-4164-3e75-b847-4974ebe979fc\n",
      "biosphere --- Bicarbonate --- 1208f3d7-8e09-3e47-9fa8-cbef9b54253d\n",
      "biosphere --- 2,4-D isopropyl ester --- 2fda9070-a8d8-3316-993e-42179ddaf687\n",
      "biosphere --- Nitroglycerin --- 8ee2febb-ace4-38cc-b478-a62b5cf3ed1d\n",
      "biosphere --- Benfluralin --- 076a10b9-d926-33f7-b146-10a1e778d9e7\n",
      "biosphere --- Chromic(VI) acid --- 4717a8b5-2466-3dd1-b856-f639e8442e75\n",
      "biosphere --- Pyrethrin I --- b61e086a-463f-3b36-b45d-649657392231\n",
      "biosphere --- Cupric sulfate --- e9be3546-c54f-3ebc-96a2-a8897de5755f\n",
      "biosphere --- Dimethipin --- 13a4f088-d48e-3c23-bd72-7b74d23a190e\n",
      "biosphere --- (E)-Crotonic acid --- 9d718e3c-b210-3b88-8d2e-27982bcc69e8\n",
      "technosphere --- CORROSIVE WASTE --- d5d165f8-aad3-3b82-a849-1d158c5d031d\n"
     ]
    }
   ],
   "source": [
    "for i,u in enumerate(lcacommons.unlinked):\n",
    "    print(f\"{u['type']} --- {u['name']} --- {u['uuid']}\")\n",
    "\n",
    "    if i > 10: break"
   ]
  },
  {
   "cell_type": "code",
   "execution_count": 14,
   "metadata": {},
   "outputs": [
    {
     "data": {
      "text/plain": [
       "Counter({'biosphere': 2024, 'technosphere': 103, 'production': 1})"
      ]
     },
     "execution_count": 14,
     "metadata": {},
     "output_type": "execute_result"
    }
   ],
   "source": [
    "Counter(lcacommons_df['type'])"
   ]
  },
  {
   "cell_type": "code",
   "execution_count": 15,
   "metadata": {},
   "outputs": [
    {
     "name": "stdout",
     "output_type": "stream",
     "text": [
      "Applying strategy: drop_unlinked\n",
      "Applied 1 strategies in 0.00 seconds\n"
     ]
    }
   ],
   "source": [
    "lcacommons.drop_unlinked(True)"
   ]
  },
  {
   "cell_type": "code",
   "execution_count": 16,
   "metadata": {},
   "outputs": [],
   "source": [
    "postdrop_df = pd.DataFrame(lcacommons.data[0]['exchanges'])"
   ]
  },
  {
   "cell_type": "code",
   "execution_count": 17,
   "metadata": {},
   "outputs": [
    {
     "data": {
      "text/plain": [
       "Counter({'biosphere': 570, 'technosphere': 15, 'production': 1})"
      ]
     },
     "execution_count": 17,
     "metadata": {},
     "output_type": "execute_result"
    }
   ],
   "source": [
    "Counter(postdrop_df['type'])"
   ]
  },
  {
   "cell_type": "code",
   "execution_count": 18,
   "metadata": {},
   "outputs": [
    {
     "data": {
      "text/html": [
       "<div>\n",
       "<style scoped>\n",
       "    .dataframe tbody tr th:only-of-type {\n",
       "        vertical-align: middle;\n",
       "    }\n",
       "\n",
       "    .dataframe tbody tr th {\n",
       "        vertical-align: top;\n",
       "    }\n",
       "\n",
       "    .dataframe thead th {\n",
       "        text-align: right;\n",
       "    }\n",
       "</style>\n",
       "<table border=\"1\" class=\"dataframe\">\n",
       "  <thead>\n",
       "    <tr style=\"text-align: right;\">\n",
       "      <th></th>\n",
       "      <th>380</th>\n",
       "      <th>200</th>\n",
       "      <th>96</th>\n",
       "    </tr>\n",
       "  </thead>\n",
       "  <tbody>\n",
       "    <tr>\n",
       "      <th>uuid</th>\n",
       "      <td>f7005ea1-d3f3-3df4-a992-60bfed8f12a8</td>\n",
       "      <td>362bf489-6818-38e9-94e5-e2bec93b7f06</td>\n",
       "      <td>35f65662-33c7-302d-854e-51a9cb08a35d</td>\n",
       "    </tr>\n",
       "    <tr>\n",
       "      <th>category_0</th>\n",
       "      <td>Elementary flows</td>\n",
       "      <td>Elementary flows</td>\n",
       "      <td>Elementary flows</td>\n",
       "    </tr>\n",
       "    <tr>\n",
       "      <th>category_1</th>\n",
       "      <td>emission</td>\n",
       "      <td>emission</td>\n",
       "      <td>emission</td>\n",
       "    </tr>\n",
       "    <tr>\n",
       "      <th>category_2</th>\n",
       "      <td>water</td>\n",
       "      <td>water</td>\n",
       "      <td>water</td>\n",
       "    </tr>\n",
       "    <tr>\n",
       "      <th>type</th>\n",
       "      <td>biosphere</td>\n",
       "      <td>biosphere</td>\n",
       "      <td>biosphere</td>\n",
       "    </tr>\n",
       "    <tr>\n",
       "      <th>refobj</th>\n",
       "      <td>93a60a56-a3c8-11da-a746-0800200b9a66</td>\n",
       "      <td>93a60a56-a3c8-11da-a746-0800200b9a66</td>\n",
       "      <td>93a60a56-a3c8-11da-a746-0800200b9a66</td>\n",
       "    </tr>\n",
       "    <tr>\n",
       "      <th>exchanges_internal_id</th>\n",
       "      <td>823</td>\n",
       "      <td>50</td>\n",
       "      <td>222</td>\n",
       "    </tr>\n",
       "    <tr>\n",
       "      <th>exchanges_name</th>\n",
       "      <td>Terbacil</td>\n",
       "      <td>Sodium chlorate</td>\n",
       "      <td>2,4-D dimethylamine salt</td>\n",
       "    </tr>\n",
       "    <tr>\n",
       "      <th>exchanges_direction</th>\n",
       "      <td>Output</td>\n",
       "      <td>Output</td>\n",
       "      <td>Output</td>\n",
       "    </tr>\n",
       "    <tr>\n",
       "      <th>amount</th>\n",
       "      <td>0.0</td>\n",
       "      <td>0.0</td>\n",
       "      <td>0.0</td>\n",
       "    </tr>\n",
       "    <tr>\n",
       "      <th>unit</th>\n",
       "      <td>kilogram</td>\n",
       "      <td>kilogram</td>\n",
       "      <td>kilogram</td>\n",
       "    </tr>\n",
       "    <tr>\n",
       "      <th>flow property</th>\n",
       "      <td>Mass</td>\n",
       "      <td>Mass</td>\n",
       "      <td>Mass</td>\n",
       "    </tr>\n",
       "    <tr>\n",
       "      <th>name</th>\n",
       "      <td>Terbacil</td>\n",
       "      <td>Sodium chlorate</td>\n",
       "      <td>2,4-D dimethylamine salt</td>\n",
       "    </tr>\n",
       "    <tr>\n",
       "      <th>database</th>\n",
       "      <td>biosphere3</td>\n",
       "      <td>biosphere3</td>\n",
       "      <td>biosphere3</td>\n",
       "    </tr>\n",
       "    <tr>\n",
       "      <th>code</th>\n",
       "      <td>4b1af256-23b8-4e53-8148-cf52040f5ad7</td>\n",
       "      <td>375f256f-393f-4c89-8db9-56260f7c8046</td>\n",
       "      <td>c7dcf08c-f297-495b-b7db-f4f54799814b</td>\n",
       "    </tr>\n",
       "    <tr>\n",
       "      <th>input</th>\n",
       "      <td>(biosphere3, 4b1af256-23b8-4e53-8148-cf52040f5...</td>\n",
       "      <td>(biosphere3, 375f256f-393f-4c89-8db9-56260f7c8...</td>\n",
       "      <td>(biosphere3, c7dcf08c-f297-495b-b7db-f4f547998...</td>\n",
       "    </tr>\n",
       "  </tbody>\n",
       "</table>\n",
       "</div>"
      ],
      "text/plain": [
       "                                                                     380  \\\n",
       "uuid                                f7005ea1-d3f3-3df4-a992-60bfed8f12a8   \n",
       "category_0                                              Elementary flows   \n",
       "category_1                                                      emission   \n",
       "category_2                                                         water   \n",
       "type                                                           biosphere   \n",
       "refobj                              93a60a56-a3c8-11da-a746-0800200b9a66   \n",
       "exchanges_internal_id                                                823   \n",
       "exchanges_name                                                  Terbacil   \n",
       "exchanges_direction                                               Output   \n",
       "amount                                                               0.0   \n",
       "unit                                                            kilogram   \n",
       "flow property                                                       Mass   \n",
       "name                                                            Terbacil   \n",
       "database                                                      biosphere3   \n",
       "code                                4b1af256-23b8-4e53-8148-cf52040f5ad7   \n",
       "input                  (biosphere3, 4b1af256-23b8-4e53-8148-cf52040f5...   \n",
       "\n",
       "                                                                     200  \\\n",
       "uuid                                362bf489-6818-38e9-94e5-e2bec93b7f06   \n",
       "category_0                                              Elementary flows   \n",
       "category_1                                                      emission   \n",
       "category_2                                                         water   \n",
       "type                                                           biosphere   \n",
       "refobj                              93a60a56-a3c8-11da-a746-0800200b9a66   \n",
       "exchanges_internal_id                                                 50   \n",
       "exchanges_name                                           Sodium chlorate   \n",
       "exchanges_direction                                               Output   \n",
       "amount                                                               0.0   \n",
       "unit                                                            kilogram   \n",
       "flow property                                                       Mass   \n",
       "name                                                     Sodium chlorate   \n",
       "database                                                      biosphere3   \n",
       "code                                375f256f-393f-4c89-8db9-56260f7c8046   \n",
       "input                  (biosphere3, 375f256f-393f-4c89-8db9-56260f7c8...   \n",
       "\n",
       "                                                                     96   \n",
       "uuid                                35f65662-33c7-302d-854e-51a9cb08a35d  \n",
       "category_0                                              Elementary flows  \n",
       "category_1                                                      emission  \n",
       "category_2                                                         water  \n",
       "type                                                           biosphere  \n",
       "refobj                              93a60a56-a3c8-11da-a746-0800200b9a66  \n",
       "exchanges_internal_id                                                222  \n",
       "exchanges_name                                  2,4-D dimethylamine salt  \n",
       "exchanges_direction                                               Output  \n",
       "amount                                                               0.0  \n",
       "unit                                                            kilogram  \n",
       "flow property                                                       Mass  \n",
       "name                                            2,4-D dimethylamine salt  \n",
       "database                                                      biosphere3  \n",
       "code                                c7dcf08c-f297-495b-b7db-f4f54799814b  \n",
       "input                  (biosphere3, c7dcf08c-f297-495b-b7db-f4f547998...  "
      ]
     },
     "execution_count": 18,
     "metadata": {},
     "output_type": "execute_result"
    }
   ],
   "source": [
    "postdrop_df.sample(3).T"
   ]
  },
  {
   "cell_type": "code",
   "execution_count": 19,
   "metadata": {},
   "outputs": [
    {
     "name": "stdout",
     "output_type": "stream",
     "text": [
      "Warning: No valid output stream.\n",
      "Title: Writing activities to SQLite3 database:\n",
      "  Started: 11/14/2022 20:13:35\n",
      "  Finished: 11/14/2022 20:13:35\n",
      "  Total time elapsed: 00:00:00\n",
      "  CPU %: 41.80\n",
      "  Memory %: 5.21\n",
      "Created database: example_ilcd_lcacommons\n"
     ]
    },
    {
     "data": {
      "text/plain": [
       "Brightway2 SQLiteBackend: example_ilcd_lcacommons"
      ]
     },
     "execution_count": 19,
     "metadata": {},
     "output_type": "execute_result"
    }
   ],
   "source": [
    "lcacommons.write_database()"
   ]
  },
  {
   "cell_type": "code",
   "execution_count": 20,
   "metadata": {},
   "outputs": [],
   "source": [
    "commons_example = bw2data.Database('example_ilcd_lcacommons').random()"
   ]
  },
  {
   "cell_type": "code",
   "execution_count": 21,
   "metadata": {},
   "outputs": [
    {
     "data": {
      "text/plain": [
       "'coal extraction and processing - Northern Appalachia, WC, Underground' (kilogram, GLO, None)"
      ]
     },
     "execution_count": 21,
     "metadata": {},
     "output_type": "execute_result"
    }
   ],
   "source": [
    "surprise = bw2data.Database('example_ilcd_lcacommons').random()\n",
    "surprise"
   ]
  },
  {
   "cell_type": "code",
   "execution_count": 22,
   "metadata": {},
   "outputs": [],
   "source": [
    "gwp100 = ('IPCC 2013', 'climate change', 'GWP 100a')"
   ]
  },
  {
   "cell_type": "code",
   "execution_count": 23,
   "metadata": {},
   "outputs": [
    {
     "data": {
      "text/plain": [
       "-155.96462451928224"
      ]
     },
     "execution_count": 23,
     "metadata": {},
     "output_type": "execute_result"
    }
   ],
   "source": [
    "lca = bw2calc.LCA({surprise:1},gwp100)\n",
    "lca.lci()\n",
    "lca.lcia()\n",
    "lca.score"
   ]
  },
  {
   "cell_type": "markdown",
   "metadata": {},
   "source": [
    "the sign is a bit suspicious"
   ]
  },
  {
   "cell_type": "markdown",
   "metadata": {},
   "source": [
    "## GLAD example"
   ]
  },
  {
   "cell_type": "markdown",
   "metadata": {},
   "source": [
    "in the case of datasets from lca commons they seem.. wrong ?"
   ]
  },
  {
   "cell_type": "code",
   "execution_count": 24,
   "metadata": {},
   "outputs": [],
   "source": [
    "path_to_GLAD_example = Path('bw2io/data/examples/ilcd-example.zip')"
   ]
  },
  {
   "cell_type": "code",
   "execution_count": 25,
   "metadata": {},
   "outputs": [],
   "source": [
    "so = ILCDImporter(dirpath= path_to_GLAD_example, dbname='example_ilcd')"
   ]
  },
  {
   "cell_type": "code",
   "execution_count": 26,
   "metadata": {},
   "outputs": [
    {
     "name": "stdout",
     "output_type": "stream",
     "text": [
      "Applying strategy: rename_activity_keys\n",
      "Applying strategy: get_activity_unit\n",
      "Applying strategy: set_production_exchange\n",
      "Applying strategy: convert_to_default_units\n",
      "Applying strategy: assign_only_product_as_production\n",
      "Applying strategy: map_to_biosphere3\n",
      "Applying strategy: set_default_location\n",
      "Applied 7 strategies in 0.04 seconds\n",
      "Applying strategy: link_iterable_by_fields\n",
      "Applying strategy: link_iterable_by_fields\n",
      "1 datasets\n",
      "1957 exchanges\n",
      "451 unlinked exchanges\n",
      "  Type biosphere: 103 unique unlinked exchanges\n",
      "  Type technosphere: 10 unique unlinked exchanges\n"
     ]
    },
    {
     "data": {
      "text/plain": [
       "(1, 1957, 451)"
      ]
     },
     "execution_count": 26,
     "metadata": {},
     "output_type": "execute_result"
    }
   ],
   "source": [
    "so.apply_strategies()\n",
    "so.match_database('biosphere3',fields=['database','code'])\n",
    "so.match_database(fields=['database','code'])\n",
    "so.statistics()"
   ]
  },
  {
   "cell_type": "code",
   "execution_count": 27,
   "metadata": {},
   "outputs": [
    {
     "data": {
      "text/plain": [
       "'EU-28'"
      ]
     },
     "execution_count": 27,
     "metadata": {},
     "output_type": "execute_result"
    }
   ],
   "source": [
    "so.data[0].get('location')"
   ]
  },
  {
   "cell_type": "code",
   "execution_count": 28,
   "metadata": {},
   "outputs": [],
   "source": [
    "unlinked_df = pd.DataFrame(list(so.unlinked))"
   ]
  },
  {
   "cell_type": "code",
   "execution_count": 29,
   "metadata": {},
   "outputs": [
    {
     "data": {
      "text/html": [
       "<div>\n",
       "<style scoped>\n",
       "    .dataframe tbody tr th:only-of-type {\n",
       "        vertical-align: middle;\n",
       "    }\n",
       "\n",
       "    .dataframe tbody tr th {\n",
       "        vertical-align: top;\n",
       "    }\n",
       "\n",
       "    .dataframe thead th {\n",
       "        text-align: right;\n",
       "    }\n",
       "</style>\n",
       "<table border=\"1\" class=\"dataframe\">\n",
       "  <thead>\n",
       "    <tr style=\"text-align: right;\">\n",
       "      <th></th>\n",
       "      <th>uuid</th>\n",
       "      <th>category_0</th>\n",
       "      <th>category_1</th>\n",
       "      <th>category_2</th>\n",
       "      <th>type</th>\n",
       "      <th>refobj</th>\n",
       "      <th>exchanges_internal_id</th>\n",
       "      <th>exchanges_name</th>\n",
       "      <th>exchanges_direction</th>\n",
       "      <th>amount</th>\n",
       "      <th>unit</th>\n",
       "      <th>flow property</th>\n",
       "      <th>name</th>\n",
       "      <th>database</th>\n",
       "    </tr>\n",
       "  </thead>\n",
       "  <tbody>\n",
       "    <tr>\n",
       "      <th>3</th>\n",
       "      <td>fa1d0ee9-d657-4d0b-9ee4-7a0f5f46d462</td>\n",
       "      <td>None</td>\n",
       "      <td>None</td>\n",
       "      <td>None</td>\n",
       "      <td>technosphere</td>\n",
       "      <td>93a60a56-a3c8-11da-a746-0800200b9a66</td>\n",
       "      <td>1743</td>\n",
       "      <td>Spoil (deposited)</td>\n",
       "      <td>Output</td>\n",
       "      <td>1.152937e-02</td>\n",
       "      <td>kilogram</td>\n",
       "      <td>Mass</td>\n",
       "      <td>Spoil (deposited)</td>\n",
       "      <td>NaN</td>\n",
       "    </tr>\n",
       "    <tr>\n",
       "      <th>4</th>\n",
       "      <td>f0aeeb00-6d5b-4e9d-8e3b-169d2b2e56d4</td>\n",
       "      <td>None</td>\n",
       "      <td>None</td>\n",
       "      <td>None</td>\n",
       "      <td>technosphere</td>\n",
       "      <td>93a60a56-a3c8-11da-a746-0800200b9a66</td>\n",
       "      <td>1844</td>\n",
       "      <td>Low radioactive wastes</td>\n",
       "      <td>Output</td>\n",
       "      <td>1.139140e-05</td>\n",
       "      <td>kilogram</td>\n",
       "      <td>Mass</td>\n",
       "      <td>Low radioactive wastes</td>\n",
       "      <td>NaN</td>\n",
       "    </tr>\n",
       "    <tr>\n",
       "      <th>6</th>\n",
       "      <td>d7aa83f8-cc36-42d3-9475-2b241a4cc9ba</td>\n",
       "      <td>None</td>\n",
       "      <td>None</td>\n",
       "      <td>None</td>\n",
       "      <td>technosphere</td>\n",
       "      <td>93a60a56-a3c8-11da-a746-0800200b9a66</td>\n",
       "      <td>1031</td>\n",
       "      <td>Tailings (deposited)</td>\n",
       "      <td>Output</td>\n",
       "      <td>7.875428e-03</td>\n",
       "      <td>kilogram</td>\n",
       "      <td>Mass</td>\n",
       "      <td>Tailings (deposited)</td>\n",
       "      <td>NaN</td>\n",
       "    </tr>\n",
       "    <tr>\n",
       "      <th>7</th>\n",
       "      <td>a60b91d7-798b-4f76-973e-edc4ec8815a6</td>\n",
       "      <td>None</td>\n",
       "      <td>None</td>\n",
       "      <td>None</td>\n",
       "      <td>technosphere</td>\n",
       "      <td>93a60a56-a3c8-11da-a746-0800200b9a66</td>\n",
       "      <td>1906</td>\n",
       "      <td>Medium radioactive wastes</td>\n",
       "      <td>Output</td>\n",
       "      <td>5.183969e-06</td>\n",
       "      <td>kilogram</td>\n",
       "      <td>Mass</td>\n",
       "      <td>Medium radioactive wastes</td>\n",
       "      <td>NaN</td>\n",
       "    </tr>\n",
       "    <tr>\n",
       "      <th>10</th>\n",
       "      <td>8df3d2af-d7ac-4365-9b4a-17e28b9ca482</td>\n",
       "      <td>None</td>\n",
       "      <td>None</td>\n",
       "      <td>None</td>\n",
       "      <td>technosphere</td>\n",
       "      <td>93a60a56-a3c8-11da-a746-0800200b9a66</td>\n",
       "      <td>1080</td>\n",
       "      <td>Radioactive tailings</td>\n",
       "      <td>Output</td>\n",
       "      <td>5.976776e-04</td>\n",
       "      <td>kilogram</td>\n",
       "      <td>Mass</td>\n",
       "      <td>Radioactive tailings</td>\n",
       "      <td>NaN</td>\n",
       "    </tr>\n",
       "    <tr>\n",
       "      <th>12</th>\n",
       "      <td>62fafd63-a4e4-4ac2-adbb-1f838a2b6399</td>\n",
       "      <td>None</td>\n",
       "      <td>None</td>\n",
       "      <td>None</td>\n",
       "      <td>technosphere</td>\n",
       "      <td>93a60a56-a3c8-11da-a746-0800200b9a66</td>\n",
       "      <td>1580</td>\n",
       "      <td>Overburden (deposited)</td>\n",
       "      <td>Output</td>\n",
       "      <td>2.078817e+00</td>\n",
       "      <td>kilogram</td>\n",
       "      <td>Mass</td>\n",
       "      <td>Overburden (deposited)</td>\n",
       "      <td>NaN</td>\n",
       "    </tr>\n",
       "    <tr>\n",
       "      <th>17</th>\n",
       "      <td>3c4b0e5d-6500-4ada-9a2c-58e43ac96500</td>\n",
       "      <td>None</td>\n",
       "      <td>None</td>\n",
       "      <td>None</td>\n",
       "      <td>technosphere</td>\n",
       "      <td>93a60a56-a3c8-11da-a746-0800200b9a66</td>\n",
       "      <td>1589</td>\n",
       "      <td>Slag (deposited)</td>\n",
       "      <td>Output</td>\n",
       "      <td>4.683707e-11</td>\n",
       "      <td>kilogram</td>\n",
       "      <td>Mass</td>\n",
       "      <td>Slag (deposited)</td>\n",
       "      <td>NaN</td>\n",
       "    </tr>\n",
       "    <tr>\n",
       "      <th>21</th>\n",
       "      <td>26fd4ed1-a97f-4be3-a9ea-ca9273b48101</td>\n",
       "      <td>None</td>\n",
       "      <td>None</td>\n",
       "      <td>None</td>\n",
       "      <td>technosphere</td>\n",
       "      <td>93a60a56-a3c8-11da-a746-0800200b9a66</td>\n",
       "      <td>1672</td>\n",
       "      <td>High radioactive waste</td>\n",
       "      <td>Output</td>\n",
       "      <td>7.107064e-07</td>\n",
       "      <td>kilogram</td>\n",
       "      <td>Mass</td>\n",
       "      <td>High radioactive waste</td>\n",
       "      <td>NaN</td>\n",
       "    </tr>\n",
       "    <tr>\n",
       "      <th>23</th>\n",
       "      <td>24e51bc3-7272-4f3e-8d94-c6009a116c89</td>\n",
       "      <td>None</td>\n",
       "      <td>None</td>\n",
       "      <td>None</td>\n",
       "      <td>technosphere</td>\n",
       "      <td>93a60a56-a3c8-11da-a746-0800200b9a66</td>\n",
       "      <td>1891</td>\n",
       "      <td>Waste (deposited)</td>\n",
       "      <td>Output</td>\n",
       "      <td>2.791233e-02</td>\n",
       "      <td>kilogram</td>\n",
       "      <td>Mass</td>\n",
       "      <td>Waste (deposited)</td>\n",
       "      <td>NaN</td>\n",
       "    </tr>\n",
       "    <tr>\n",
       "      <th>37</th>\n",
       "      <td>03caafaa-5885-47d5-bef1-387d0d46b945</td>\n",
       "      <td>None</td>\n",
       "      <td>None</td>\n",
       "      <td>None</td>\n",
       "      <td>technosphere</td>\n",
       "      <td>93a60a56-a3c8-11da-a746-0800200b9a66</td>\n",
       "      <td>1376</td>\n",
       "      <td>Hazardous waste (deposited)</td>\n",
       "      <td>Output</td>\n",
       "      <td>2.405829e-08</td>\n",
       "      <td>kilogram</td>\n",
       "      <td>Mass</td>\n",
       "      <td>Hazardous waste (deposited)</td>\n",
       "      <td>NaN</td>\n",
       "    </tr>\n",
       "  </tbody>\n",
       "</table>\n",
       "</div>"
      ],
      "text/plain": [
       "                                    uuid category_0 category_1 category_2  \\\n",
       "3   fa1d0ee9-d657-4d0b-9ee4-7a0f5f46d462       None       None       None   \n",
       "4   f0aeeb00-6d5b-4e9d-8e3b-169d2b2e56d4       None       None       None   \n",
       "6   d7aa83f8-cc36-42d3-9475-2b241a4cc9ba       None       None       None   \n",
       "7   a60b91d7-798b-4f76-973e-edc4ec8815a6       None       None       None   \n",
       "10  8df3d2af-d7ac-4365-9b4a-17e28b9ca482       None       None       None   \n",
       "12  62fafd63-a4e4-4ac2-adbb-1f838a2b6399       None       None       None   \n",
       "17  3c4b0e5d-6500-4ada-9a2c-58e43ac96500       None       None       None   \n",
       "21  26fd4ed1-a97f-4be3-a9ea-ca9273b48101       None       None       None   \n",
       "23  24e51bc3-7272-4f3e-8d94-c6009a116c89       None       None       None   \n",
       "37  03caafaa-5885-47d5-bef1-387d0d46b945       None       None       None   \n",
       "\n",
       "            type                                refobj exchanges_internal_id  \\\n",
       "3   technosphere  93a60a56-a3c8-11da-a746-0800200b9a66                  1743   \n",
       "4   technosphere  93a60a56-a3c8-11da-a746-0800200b9a66                  1844   \n",
       "6   technosphere  93a60a56-a3c8-11da-a746-0800200b9a66                  1031   \n",
       "7   technosphere  93a60a56-a3c8-11da-a746-0800200b9a66                  1906   \n",
       "10  technosphere  93a60a56-a3c8-11da-a746-0800200b9a66                  1080   \n",
       "12  technosphere  93a60a56-a3c8-11da-a746-0800200b9a66                  1580   \n",
       "17  technosphere  93a60a56-a3c8-11da-a746-0800200b9a66                  1589   \n",
       "21  technosphere  93a60a56-a3c8-11da-a746-0800200b9a66                  1672   \n",
       "23  technosphere  93a60a56-a3c8-11da-a746-0800200b9a66                  1891   \n",
       "37  technosphere  93a60a56-a3c8-11da-a746-0800200b9a66                  1376   \n",
       "\n",
       "                 exchanges_name exchanges_direction        amount      unit  \\\n",
       "3             Spoil (deposited)              Output  1.152937e-02  kilogram   \n",
       "4        Low radioactive wastes              Output  1.139140e-05  kilogram   \n",
       "6          Tailings (deposited)              Output  7.875428e-03  kilogram   \n",
       "7     Medium radioactive wastes              Output  5.183969e-06  kilogram   \n",
       "10         Radioactive tailings              Output  5.976776e-04  kilogram   \n",
       "12       Overburden (deposited)              Output  2.078817e+00  kilogram   \n",
       "17             Slag (deposited)              Output  4.683707e-11  kilogram   \n",
       "21       High radioactive waste              Output  7.107064e-07  kilogram   \n",
       "23            Waste (deposited)              Output  2.791233e-02  kilogram   \n",
       "37  Hazardous waste (deposited)              Output  2.405829e-08  kilogram   \n",
       "\n",
       "   flow property                         name database  \n",
       "3           Mass            Spoil (deposited)      NaN  \n",
       "4           Mass       Low radioactive wastes      NaN  \n",
       "6           Mass         Tailings (deposited)      NaN  \n",
       "7           Mass    Medium radioactive wastes      NaN  \n",
       "10          Mass         Radioactive tailings      NaN  \n",
       "12          Mass       Overburden (deposited)      NaN  \n",
       "17          Mass             Slag (deposited)      NaN  \n",
       "21          Mass       High radioactive waste      NaN  \n",
       "23          Mass            Waste (deposited)      NaN  \n",
       "37          Mass  Hazardous waste (deposited)      NaN  "
      ]
     },
     "execution_count": 29,
     "metadata": {},
     "output_type": "execute_result"
    }
   ],
   "source": [
    "unlinked_df.loc[unlinked_df['type']=='technosphere',:]"
   ]
  },
  {
   "cell_type": "code",
   "execution_count": 30,
   "metadata": {},
   "outputs": [
    {
     "name": "stdout",
     "output_type": "stream",
     "text": [
      "Applying strategy: drop_unlinked\n",
      "Applied 1 strategies in 0.00 seconds\n"
     ]
    }
   ],
   "source": [
    "so.drop_unlinked(True)"
   ]
  },
  {
   "cell_type": "code",
   "execution_count": 31,
   "metadata": {},
   "outputs": [],
   "source": [
    "e_df = pd.DataFrame(so.data[0]['exchanges'])"
   ]
  },
  {
   "cell_type": "code",
   "execution_count": 32,
   "metadata": {},
   "outputs": [
    {
     "name": "stdout",
     "output_type": "stream",
     "text": [
      "Warning: No valid output stream.\n",
      "Title: Writing activities to SQLite3 database:\n",
      "  Started: 11/14/2022 20:13:38\n",
      "  Finished: 11/14/2022 20:13:38\n",
      "  Total time elapsed: 00:00:00\n",
      "  CPU %: 76.20\n",
      "  Memory %: 5.48\n",
      "Created database: example_ilcd\n"
     ]
    },
    {
     "data": {
      "text/plain": [
       "Brightway2 SQLiteBackend: example_ilcd"
      ]
     },
     "execution_count": 32,
     "metadata": {},
     "output_type": "execute_result"
    }
   ],
   "source": [
    "so.write_database()"
   ]
  },
  {
   "cell_type": "code",
   "execution_count": 33,
   "metadata": {},
   "outputs": [],
   "source": [
    "tda = bw2data.Database('example_ilcd').random()"
   ]
  },
  {
   "cell_type": "code",
   "execution_count": 34,
   "metadata": {},
   "outputs": [
    {
     "data": {
      "text/plain": [
       "{'treatment_standards_routes': 'phosgenation of diaminotoluene (TDA)',\n",
       " 'mix_and_location_types': 'production mix, at plant',\n",
       " 'functional_unit_flow_properties': 'liquid',\n",
       " 'uuid': '84851553-b095-4e1c-a8b1-b100ce84b939',\n",
       " 'general_comment': 'The main data source was a data collection from European producers of TDI. Primary data on gate-to-gate TDI production is derived from site-specific information for processes under operational control supplied by the participating companies of this study. Three different TDI producers with plants in three different European countries participated in the primary data collection. 100% of the European TDI production (EU-28) in 2018 is covered. The data for the upstream supply chain until the precursors are taken from the GaBi 2020 Databases of the software system GaBi 10. \\r\\nCombined elemental + mass allocation was applied for the production process of TDI as hydrogen chloride (HCl 100%) results as co-product.',\n",
       " 'reference_year': '2018',\n",
       " 'data_set_valid_until': '2025',\n",
       " 'time_representativeness_description': 'The LCI data for TDI production was collected as 12 month averages representing the year 2010, to compensate seasonal influence of data. Background data have reference years from 2019 to 2019. The dataset is considered to be valid until substantial technological changes in the production chain occur.',\n",
       " 'location': 'EU-28',\n",
       " 'reference_to_reference_flow': '1888',\n",
       " 'database': 'example_ilcd',\n",
       " 'code': '84851553-b095-4e1c-a8b1-b100ce84b939',\n",
       " 'type': 'process',\n",
       " 'name': 'Toluene diisocyanate (TDI)',\n",
       " 'unit': 'kilogram',\n",
       " 'reference product': 'Toluene diisocyanate (TDI)',\n",
       " 'production amount': 1.0}"
      ]
     },
     "execution_count": 34,
     "metadata": {},
     "output_type": "execute_result"
    }
   ],
   "source": [
    "tda.as_dict()"
   ]
  },
  {
   "cell_type": "code",
   "execution_count": 35,
   "metadata": {},
   "outputs": [
    {
     "data": {
      "text/plain": [
       "3.143859395523786"
      ]
     },
     "execution_count": 35,
     "metadata": {},
     "output_type": "execute_result"
    }
   ],
   "source": [
    "lca = bw2calc.LCA({tda:1},gwp100)\n",
    "lca.lci()\n",
    "lca.lcia()\n",
    "lca.score"
   ]
  },
  {
   "cell_type": "markdown",
   "metadata": {},
   "source": [
    "## several ILCD files from GLAD"
   ]
  },
  {
   "cell_type": "code",
   "execution_count": 36,
   "metadata": {},
   "outputs": [],
   "source": [
    "path_to_examples = Path('bw2io/data/examples/ilcd_examples')"
   ]
  },
  {
   "cell_type": "code",
   "execution_count": 37,
   "metadata": {},
   "outputs": [],
   "source": [
    "assert path_to_examples.is_dir()"
   ]
  },
  {
   "cell_type": "code",
   "execution_count": 38,
   "metadata": {},
   "outputs": [],
   "source": [
    "paths_to_examples = list(path_to_examples.glob('*zip'))"
   ]
  },
  {
   "cell_type": "code",
   "execution_count": 39,
   "metadata": {},
   "outputs": [
    {
     "name": "stdout",
     "output_type": "stream",
     "text": [
      "Applying strategy: rename_activity_keys\n",
      "Applying strategy: get_activity_unit\n",
      "Applying strategy: set_production_exchange\n",
      "Applying strategy: convert_to_default_units\n",
      "Applying strategy: assign_only_product_as_production\n",
      "Applying strategy: map_to_biosphere3\n",
      "Applying strategy: set_default_location\n",
      "Applied 7 strategies in 0.02 seconds\n",
      "Applying strategy: link_iterable_by_fields\n",
      "Applying strategy: link_iterable_by_fields\n",
      "1 datasets\n",
      "199 exchanges\n",
      "178 unlinked exchanges\n",
      "  Type biosphere: 133 unique unlinked exchanges\n",
      "  Type technosphere: 10 unique unlinked exchanges\n",
      "Applying strategy: rename_activity_keys\n",
      "Applying strategy: get_activity_unit\n",
      "Applying strategy: set_production_exchange\n",
      "Applying strategy: convert_to_default_units\n",
      "Applying strategy: assign_only_product_as_production\n",
      "Applying strategy: map_to_biosphere3\n",
      "Applying strategy: set_default_location\n",
      "Applied 7 strategies in 0.02 seconds\n",
      "Applying strategy: link_iterable_by_fields\n",
      "Applying strategy: link_iterable_by_fields\n",
      "1 datasets\n",
      "605 exchanges\n",
      "112 unlinked exchanges\n",
      "  Type biosphere: 93 unique unlinked exchanges\n",
      "Applying strategy: rename_activity_keys\n",
      "Applying strategy: get_activity_unit\n",
      "Applying strategy: set_production_exchange\n",
      "Applying strategy: convert_to_default_units\n",
      "Applying strategy: assign_only_product_as_production\n",
      "Applying strategy: map_to_biosphere3\n",
      "Applying strategy: set_default_location\n",
      "Applied 7 strategies in 0.03 seconds\n",
      "Applying strategy: link_iterable_by_fields\n",
      "Applying strategy: link_iterable_by_fields\n",
      "1 datasets\n",
      "2128 exchanges\n",
      "2112 unlinked exchanges\n",
      "  Type biosphere: 1135 unique unlinked exchanges\n",
      "  Type technosphere: 88 unique unlinked exchanges\n",
      "Applying strategy: rename_activity_keys\n",
      "Applying strategy: get_activity_unit\n",
      "Applying strategy: set_production_exchange\n",
      "Applying strategy: convert_to_default_units\n",
      "Applying strategy: assign_only_product_as_production\n",
      "Applying strategy: map_to_biosphere3\n",
      "Applying strategy: set_default_location\n",
      "Applied 7 strategies in 0.02 seconds\n",
      "Applying strategy: link_iterable_by_fields\n",
      "Applying strategy: link_iterable_by_fields\n",
      "1 datasets\n",
      "1954 exchanges\n",
      "449 unlinked exchanges\n",
      "  Type biosphere: 101 unique unlinked exchanges\n",
      "  Type technosphere: 10 unique unlinked exchanges\n",
      "Applying strategy: rename_activity_keys\n",
      "Applying strategy: get_activity_unit\n",
      "Applying strategy: set_production_exchange\n",
      "Applying strategy: convert_to_default_units\n",
      "Applying strategy: assign_only_product_as_production\n",
      "Applying strategy: map_to_biosphere3\n",
      "Applying strategy: set_default_location\n",
      "Applied 7 strategies in 0.02 seconds\n",
      "Applying strategy: link_iterable_by_fields\n",
      "Applying strategy: link_iterable_by_fields\n",
      "1 datasets\n",
      "1037 exchanges\n",
      "50 unlinked exchanges\n",
      "  Type biosphere: 35 unique unlinked exchanges\n",
      "Applying strategy: rename_activity_keys\n",
      "Applying strategy: get_activity_unit\n",
      "Applying strategy: set_production_exchange\n",
      "Applying strategy: convert_to_default_units\n",
      "Applying strategy: assign_only_product_as_production\n",
      "Applying strategy: map_to_biosphere3\n",
      "Applying strategy: set_default_location\n",
      "Applied 7 strategies in 0.02 seconds\n",
      "Applying strategy: link_iterable_by_fields\n",
      "Applying strategy: link_iterable_by_fields\n",
      "1 datasets\n",
      "1346 exchanges\n",
      "431 unlinked exchanges\n",
      "  Type biosphere: 95 unique unlinked exchanges\n",
      "  Type technosphere: 12 unique unlinked exchanges\n"
     ]
    }
   ],
   "source": [
    "examples = []\n",
    "for p in paths_to_examples:\n",
    "\n",
    "    so = ILCDImporter(dirpath= p,dbname='example_ilcd')\n",
    "    so.apply_strategies()\n",
    "    so.match_database('biosphere3',fields=['database','code'])\n",
    "    so.match_database(fields=['database','code'])\n",
    "    so.statistics()\n",
    "\n",
    "    examples.append(so)"
   ]
  },
  {
   "cell_type": "code",
   "execution_count": 40,
   "metadata": {},
   "outputs": [
    {
     "name": "stdout",
     "output_type": "stream",
     "text": [
      "Applying strategy: drop_unlinked\n",
      "Applied 1 strategies in 0.00 seconds\n",
      "Applying strategy: drop_unlinked\n",
      "Applied 1 strategies in 0.01 seconds\n",
      "Applying strategy: drop_unlinked\n",
      "Applied 1 strategies in 0.07 seconds\n",
      "Applying strategy: drop_unlinked\n",
      "Applied 1 strategies in 0.01 seconds\n",
      "Applying strategy: drop_unlinked\n",
      "Applied 1 strategies in 0.00 seconds\n",
      "Applying strategy: drop_unlinked\n",
      "Applied 1 strategies in 0.00 seconds\n"
     ]
    }
   ],
   "source": [
    "for e in examples:\n",
    "    e.drop_unlinked(True)"
   ]
  },
  {
   "cell_type": "code",
   "execution_count": 41,
   "metadata": {},
   "outputs": [],
   "source": [
    "all_data = []\n",
    "for e in examples:\n",
    "    all_data = all_data + e.data"
   ]
  },
  {
   "cell_type": "code",
   "execution_count": 42,
   "metadata": {},
   "outputs": [
    {
     "name": "stdout",
     "output_type": "stream",
     "text": [
      "Warning: No valid output stream.\n",
      "Title: Writing activities to SQLite3 database:\n",
      "  Started: 11/14/2022 20:13:46\n",
      "  Finished: 11/14/2022 20:13:47\n",
      "  Total time elapsed: 00:00:01\n",
      "  CPU %: 64.40\n",
      "  Memory %: 8.88\n",
      "Created database: example_ilcd\n"
     ]
    },
    {
     "data": {
      "text/plain": [
       "Brightway2 SQLiteBackend: example_ilcd"
      ]
     },
     "execution_count": 42,
     "metadata": {},
     "output_type": "execute_result"
    }
   ],
   "source": [
    "so.write_database(data=all_data)"
   ]
  },
  {
   "cell_type": "code",
   "execution_count": 43,
   "metadata": {},
   "outputs": [],
   "source": [
    "ilcd_db = bw2data.Database('example_ilcd')"
   ]
  },
  {
   "cell_type": "code",
   "execution_count": 44,
   "metadata": {},
   "outputs": [
    {
     "name": "stdout",
     "output_type": "stream",
     "text": [
      "Polycarbonate  3.4241808028410965\n",
      "Aluminium ingot (AlSi7Mg) sec.  0.2949287170350174\n",
      "Short Chain Polyether Polyols (rigid)  3.1896583381743233\n",
      "coal extraction and processing - Northern Appalachia, WC, Underground  0.0\n",
      "Electricity - COAL - Southwest Power Pool  0.0\n",
      "Cobalt, refined (metal)  1.5571662049552202\n"
     ]
    }
   ],
   "source": [
    "for act in ilcd_db:\n",
    "\n",
    "    lca = bw2calc.LCA({act:1},gwp100)\n",
    "    lca.lci()\n",
    "    lca.lcia()\n",
    "    lca.score\n",
    "    print(f\"{act['name']}  {lca.score}\")"
   ]
  }
 ],
 "metadata": {
  "kernelspec": {
   "display_name": "Python 3.10.6 ('ilcdbw2io')",
   "language": "python",
   "name": "python3"
  },
  "language_info": {
   "codemirror_mode": {
    "name": "ipython",
    "version": 3
   },
   "file_extension": ".py",
   "mimetype": "text/x-python",
   "name": "python",
   "nbconvert_exporter": "python",
   "pygments_lexer": "ipython3",
   "version": "3.10.6"
  },
  "orig_nbformat": 4,
  "vscode": {
   "interpreter": {
    "hash": "3a26c39800463ca8f39b00604503eaf8f88aedc328772ddbfc19940c8e8b6b75"
   }
  }
 },
 "nbformat": 4,
 "nbformat_minor": 2
}
