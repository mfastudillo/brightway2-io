{
 "cells": [
  {
   "cell_type": "code",
   "execution_count": 1,
   "metadata": {},
   "outputs": [],
   "source": [
    "import json\n",
    "from pathlib import Path\n",
    "import shutil\n",
    "\n",
    "import pandas as pd\n",
    "import numpy as np\n",
    "\n",
    "from bw2io import bw2setup\n",
    "from bw2io.importers.io import IOImporter\n",
    "from bw2io.strategies.io import tidy_tables\n",
    "import bw2data as bd\n",
    "import bw2calc as bc\n",
    "import bw2analyzer as ba"
   ]
  },
  {
   "cell_type": "code",
   "execution_count": 2,
   "metadata": {},
   "outputs": [
    {
     "name": "stdout",
     "output_type": "stream",
     "text": [
      "(4, 0, 'DEV37')\n"
     ]
    }
   ],
   "source": [
    "print(bd.__version__)"
   ]
  },
  {
   "cell_type": "code",
   "execution_count": 3,
   "metadata": {},
   "outputs": [],
   "source": [
    "pet_hiot = pd.DataFrame([[1,-2],[0,1]], # experiment setting 1 prod to 0\n",
    "             index=pd.MultiIndex.from_tuples([('DK','prod1'),('DK','prod2')]),\n",
    "             columns = pd.MultiIndex.from_tuples([('DK','act1'),('DK','act2')]))\n",
    "\n",
    "pet_hiot = pet_hiot.astype(pd.SparseDtype(\"float\",0))\n",
    "\n",
    "\n",
    "B = pd.DataFrame([[1,3],[1,2],[0,1],[4,0]],\n",
    "             index=pd.Index(['co2_air','ch4_air','co2_accelerated_air','land_occupation']),\n",
    "             columns = pd.MultiIndex.from_tuples([('DK','act1'),('DK','act2')]))\n",
    "\n",
    "B = B.astype(pd.SparseDtype(\"float\",0))\n",
    "\n",
    "fd = pd.DataFrame.from_dict(\n",
    "    {\n",
    "    ('DK','Household'):{('DK','prod1'):-11,('DK','prod2'):-3},\n",
    "    ('DK','Government'):{('DK','prod1'):-8,('DK','prod2'):-4},\n",
    "    ('DK','Capital'):{('DK','prod1'):-4,('DK','prod2'):-2}\n",
    "        }\n",
    "    )\n",
    "\n",
    "Bfd = pd.DataFrame([[1,3],],\n",
    "index=pd.Index(['co2_air',]),\n",
    "columns = pd.MultiIndex.from_tuples([('DK','Household'),\n",
    "('DK','Government')])).astype(pd.SparseDtype(\"float\",0))"
   ]
  },
  {
   "cell_type": "code",
   "execution_count": 4,
   "metadata": {},
   "outputs": [
    {
     "name": "stdout",
     "output_type": "stream",
     "text": [
      "           DK     \n",
      "         act1 act2\n",
      "DK prod1  1.0 -2.0\n",
      "   prod2    0  1.0\n",
      "                      DK     \n",
      "                    act1 act2\n",
      "co2_air              1.0  3.0\n",
      "ch4_air              1.0  2.0\n",
      "co2_accelerated_air    0  1.0\n",
      "land_occupation      4.0    0\n",
      "                DK                   \n",
      "         Household Government Capital\n",
      "DK prod1       -11         -8      -4\n",
      "   prod2        -3         -4      -2\n",
      "               DK           \n",
      "        Household Government\n",
      "co2_air       1.0        3.0\n"
     ]
    }
   ],
   "source": [
    "print(pet_hiot)\n",
    "print(B)\n",
    "print(fd)\n",
    "print(Bfd)"
   ]
  },
  {
   "cell_type": "code",
   "execution_count": 5,
   "metadata": {},
   "outputs": [],
   "source": [
    "pfd = pd.DataFrame((np.eye(fd.shape[1])),index=fd.columns,columns=fd.columns)\n",
    "fd_total = pd.concat([fd,pfd])\n",
    "fd_total = fd_total.astype(pd.SparseDtype(\"float\",0))"
   ]
  },
  {
   "cell_type": "code",
   "execution_count": 6,
   "metadata": {},
   "outputs": [],
   "source": [
    "extended_hiot = pd.concat([pet_hiot,fd_total],axis=1).fillna(0)\n",
    "extended_B = pd.concat([B,Bfd],axis=1).fillna(0)"
   ]
  },
  {
   "cell_type": "code",
   "execution_count": 7,
   "metadata": {},
   "outputs": [
    {
     "name": "stdout",
     "output_type": "stream",
     "text": [
      "                DK                                  \n",
      "              act1 act2 Household Government Capital\n",
      "DK prod1       1.0 -2.0     -11.0       -8.0    -4.0\n",
      "   prod2         0  1.0      -3.0       -4.0    -2.0\n",
      "   Household   0.0  0.0       1.0          0       0\n",
      "   Government  0.0  0.0         0        1.0       0\n",
      "   Capital     0.0  0.0         0          0     1.0\n"
     ]
    }
   ],
   "source": [
    "print(extended_hiot)"
   ]
  },
  {
   "cell_type": "code",
   "execution_count": 8,
   "metadata": {},
   "outputs": [
    {
     "name": "stdout",
     "output_type": "stream",
     "text": [
      "                      DK                          \n",
      "                    act1 act2 Household Government\n",
      "co2_air              1.0  3.0       1.0        3.0\n",
      "ch4_air              1.0  2.0       0.0        0.0\n",
      "co2_accelerated_air    0  1.0       0.0        0.0\n",
      "land_occupation      4.0    0       0.0        0.0\n"
     ]
    }
   ],
   "source": [
    "print(extended_B)"
   ]
  },
  {
   "cell_type": "code",
   "execution_count": 9,
   "metadata": {},
   "outputs": [],
   "source": [
    "path_to_intermediate = (Path.cwd()/'results')\n",
    "path_to_intermediate.mkdir(exist_ok=True)"
   ]
  },
  {
   "cell_type": "code",
   "execution_count": 10,
   "metadata": {},
   "outputs": [],
   "source": [
    "metadata_dict = {'prod1':{'unit':'kg','name':'product 1'},\n",
    "                 'prod2':{'unit':'kg','name':'product 2'},\n",
    "                 'Household':{'unit':'unit','name':'the household'},\n",
    "                 'Government':{'unit':'unit','name':'the government'},\n",
    "                 'Capital':{'unit':'unit','name':'capital investments'},\n",
    "\n",
    "                 'co2_air':{'unit':'ton', # not standard units\n",
    "                            'name':'carbon dioxide',\n",
    "                            'compartment':('air',)},\n",
    "                 'ch4_air':{'unit':'kg',\n",
    "                            'name':'methane',\n",
    "                            'compartment':('air',)},\n",
    "                 'co2_accelerated_air':{'unit':'kg', # additional biosphere flow\n",
    "                                        'name':'carbon dioxide accelerated',\n",
    "                                        'compartment':('air',)},\n",
    "                 'land_occupation':{'unit':'hectare * year', # non standard composite unit\n",
    "                                    'name':'land occupation',\n",
    "                                    'compartment':('natural resource', 'land')}\n",
    "                }\n",
    "\n",
    "with open(path_to_intermediate/'io_metadata.json', 'w') as fp:\n",
    "    json.dump(metadata_dict, fp,indent=4)"
   ]
  },
  {
   "cell_type": "code",
   "execution_count": 11,
   "metadata": {},
   "outputs": [],
   "source": [
    "tidy_tables(extended_hiot,extended_B,path_to_intermediate)"
   ]
  },
  {
   "cell_type": "code",
   "execution_count": 12,
   "metadata": {},
   "outputs": [],
   "source": [
    "bd.projects.set_current('test_io_importer')"
   ]
  },
  {
   "cell_type": "code",
   "execution_count": 13,
   "metadata": {},
   "outputs": [
    {
     "name": "stdout",
     "output_type": "stream",
     "text": [
      "Biosphere database already present!!! No setup is needed\n"
     ]
    }
   ],
   "source": [
    "bw2setup()"
   ]
  },
  {
   "cell_type": "code",
   "execution_count": 14,
   "metadata": {},
   "outputs": [
    {
     "name": "stderr",
     "output_type": "stream",
     "text": [
      "c:\\Users\\Astudillo\\repos20\\brightway2-io\\venv\\Lib\\site-packages\\bw2data\\backends\\base.py:625: UserWarning: \n",
      "            Please use `del databases['pet_io_db']` instead.\n",
      "            Otherwise, the metadata and database get out of sync.\n",
      "            Call `.delete(warn=False)` to skip this message in the future.\n",
      "            \n",
      "  warnings.warn(MESSAGE.format(self.name), UserWarning)\n",
      "c:\\Users\\Astudillo\\repos20\\brightway2-io\\venv\\Lib\\site-packages\\bw2data\\backends\\base.py:625: UserWarning: \n",
      "            Please use `del databases['pet_io_db biosphere']` instead.\n",
      "            Otherwise, the metadata and database get out of sync.\n",
      "            Call `.delete(warn=False)` to skip this message in the future.\n",
      "            \n",
      "  warnings.warn(MESSAGE.format(self.name), UserWarning)\n"
     ]
    }
   ],
   "source": [
    "try:\n",
    "    del bd.databases['pet_io_db biosphere']\n",
    "    del bd.databases['pet_io_db']\n",
    "    bd.Database('pet_io_db').delete()\n",
    "    bd.Database('pet_io_db biosphere').delete()\n",
    "except KeyError:\n",
    "    print('db not there')"
   ]
  },
  {
   "cell_type": "code",
   "execution_count": 15,
   "metadata": {},
   "outputs": [],
   "source": [
    "pet_example = IOImporter(path_to_intermediate,'pet_io_db')\n",
    "pet_example.apply_strategies()"
   ]
  },
  {
   "cell_type": "code",
   "execution_count": 16,
   "metadata": {},
   "outputs": [
    {
     "data": {
      "text/plain": [
       "[{'production volume': 1.0,\n",
       "  'location': 'DK',\n",
       "  'code': 'act1',\n",
       "  'unit': 'kilogram',\n",
       "  'reference product': 'product 1'},\n",
       " {'production volume': 1.0,\n",
       "  'location': 'DK',\n",
       "  'code': 'act2',\n",
       "  'unit': 'kilogram',\n",
       "  'reference product': 'product 2'},\n",
       " {'production volume': 1.0,\n",
       "  'location': 'DK',\n",
       "  'code': 'Household',\n",
       "  'unit': 'unit',\n",
       "  'reference product': 'the household'},\n",
       " {'production volume': 1.0,\n",
       "  'location': 'DK',\n",
       "  'code': 'Government',\n",
       "  'unit': 'unit',\n",
       "  'reference product': 'the government'},\n",
       " {'production volume': 1.0,\n",
       "  'location': 'DK',\n",
       "  'code': 'Capital',\n",
       "  'unit': 'unit',\n",
       "  'reference product': 'capital investments'}]"
      ]
     },
     "execution_count": 16,
     "metadata": {},
     "output_type": "execute_result"
    }
   ],
   "source": [
    "pet_example.products"
   ]
  },
  {
   "cell_type": "code",
   "execution_count": 17,
   "metadata": {},
   "outputs": [
    {
     "name": "stderr",
     "output_type": "stream",
     "text": [
      "100%|██████████| 2/2 [00:00<?, ?it/s]\n"
     ]
    },
    {
     "name": "stdout",
     "output_type": "stream",
     "text": [
      "Vacuuming database \n"
     ]
    },
    {
     "name": "stderr",
     "output_type": "stream",
     "text": [
      "100%|██████████| 5/5 [00:00<00:00, 555.76it/s]\n"
     ]
    },
    {
     "name": "stdout",
     "output_type": "stream",
     "text": [
      "Vacuuming database \n"
     ]
    },
    {
     "ename": "TypeError",
     "evalue": "unhashable type: 'dict'",
     "output_type": "error",
     "traceback": [
      "\u001b[1;31m---------------------------------------------------------------------------\u001b[0m",
      "\u001b[1;31mTypeError\u001b[0m                                 Traceback (most recent call last)",
      "Cell \u001b[1;32mIn[17], line 1\u001b[0m\n\u001b[1;32m----> 1\u001b[0m \u001b[43mpet_example\u001b[49m\u001b[38;5;241;43m.\u001b[39;49m\u001b[43mwrite_database\u001b[49m\u001b[43m(\u001b[49m\u001b[43m)\u001b[49m\n",
      "File \u001b[1;32mc:\\Users\\Astudillo\\repos20\\brightway2-io\\bw2io\\importers\\io.py:133\u001b[0m, in \u001b[0;36mIOImporter.write_database\u001b[1;34m(self, biosphere)\u001b[0m\n\u001b[0;32m    131\u001b[0m \u001b[38;5;66;03m# FIXME: add solution for cases of composite units with weird b3 units\u001b[39;00m\n\u001b[0;32m    132\u001b[0m replacer \u001b[38;5;241m=\u001b[39m {\u001b[38;5;124m'\u001b[39m\u001b[38;5;124msquare meter-year\u001b[39m\u001b[38;5;124m'\u001b[39m:\u001b[38;5;124m'\u001b[39m\u001b[38;5;124msquare meter * year\u001b[39m\u001b[38;5;124m'\u001b[39m}\n\u001b[1;32m--> 133\u001b[0m unit_conversion \u001b[38;5;241m=\u001b[39m \u001b[43m{\u001b[49m\u001b[43mio_unit\u001b[49m\u001b[43m:\u001b[49m\u001b[43mreplacer\u001b[49m\u001b[38;5;241;43m.\u001b[39;49m\u001b[43mget\u001b[49m\u001b[43m(\u001b[49m\u001b[43mb3_unit\u001b[49m\u001b[43m,\u001b[49m\u001b[43mb3_unit\u001b[49m\u001b[43m)\u001b[49m\u001b[43m \u001b[49m\u001b[38;5;28;43;01mfor\u001b[39;49;00m\u001b[43m \u001b[49m\u001b[43mio_unit\u001b[49m\u001b[43m,\u001b[49m\n\u001b[0;32m    134\u001b[0m \u001b[43m                   \u001b[49m\u001b[43mb3_unit\u001b[49m\u001b[43m \u001b[49m\u001b[38;5;129;43;01min\u001b[39;49;00m\u001b[43m \u001b[49m\u001b[43munit_conversion\u001b[49m\u001b[38;5;241;43m.\u001b[39;49m\u001b[43mitems\u001b[49m\u001b[43m(\u001b[49m\u001b[43m)\u001b[49m\u001b[43m}\u001b[49m\n\u001b[0;32m    137\u001b[0m \u001b[38;5;66;03m# only the ones that are different\u001b[39;00m\n\u001b[0;32m    138\u001b[0m unit_conversion \u001b[38;5;241m=\u001b[39m {u:u_dict \u001b[38;5;28;01mfor\u001b[39;00m u,u_dict \u001b[38;5;129;01min\u001b[39;00m unit_conversion\u001b[38;5;241m.\u001b[39mitems() \n\u001b[0;32m    139\u001b[0m                    \u001b[38;5;28;01mif\u001b[39;00m u_dict[\u001b[38;5;124m'\u001b[39m\u001b[38;5;124mio_unit\u001b[39m\u001b[38;5;124m'\u001b[39m]\u001b[38;5;241m!=\u001b[39mu_dict[\u001b[38;5;124m'\u001b[39m\u001b[38;5;124mb3_unit\u001b[39m\u001b[38;5;124m'\u001b[39m]}\n",
      "File \u001b[1;32mc:\\Users\\Astudillo\\repos20\\brightway2-io\\bw2io\\importers\\io.py:133\u001b[0m, in \u001b[0;36m<dictcomp>\u001b[1;34m(.0)\u001b[0m\n\u001b[0;32m    131\u001b[0m \u001b[38;5;66;03m# FIXME: add solution for cases of composite units with weird b3 units\u001b[39;00m\n\u001b[0;32m    132\u001b[0m replacer \u001b[38;5;241m=\u001b[39m {\u001b[38;5;124m'\u001b[39m\u001b[38;5;124msquare meter-year\u001b[39m\u001b[38;5;124m'\u001b[39m:\u001b[38;5;124m'\u001b[39m\u001b[38;5;124msquare meter * year\u001b[39m\u001b[38;5;124m'\u001b[39m}\n\u001b[1;32m--> 133\u001b[0m unit_conversion \u001b[38;5;241m=\u001b[39m {io_unit:\u001b[43mreplacer\u001b[49m\u001b[38;5;241;43m.\u001b[39;49m\u001b[43mget\u001b[49m\u001b[43m(\u001b[49m\u001b[43mb3_unit\u001b[49m\u001b[43m,\u001b[49m\u001b[43mb3_unit\u001b[49m\u001b[43m)\u001b[49m \u001b[38;5;28;01mfor\u001b[39;00m io_unit,\n\u001b[0;32m    134\u001b[0m                    b3_unit \u001b[38;5;129;01min\u001b[39;00m unit_conversion\u001b[38;5;241m.\u001b[39mitems()}\n\u001b[0;32m    137\u001b[0m \u001b[38;5;66;03m# only the ones that are different\u001b[39;00m\n\u001b[0;32m    138\u001b[0m unit_conversion \u001b[38;5;241m=\u001b[39m {u:u_dict \u001b[38;5;28;01mfor\u001b[39;00m u,u_dict \u001b[38;5;129;01min\u001b[39;00m unit_conversion\u001b[38;5;241m.\u001b[39mitems() \n\u001b[0;32m    139\u001b[0m                    \u001b[38;5;28;01mif\u001b[39;00m u_dict[\u001b[38;5;124m'\u001b[39m\u001b[38;5;124mio_unit\u001b[39m\u001b[38;5;124m'\u001b[39m]\u001b[38;5;241m!=\u001b[39mu_dict[\u001b[38;5;124m'\u001b[39m\u001b[38;5;124mb3_unit\u001b[39m\u001b[38;5;124m'\u001b[39m]}\n",
      "\u001b[1;31mTypeError\u001b[0m: unhashable type: 'dict'"
     ]
    }
   ],
   "source": [
    "pet_example.write_database()"
   ]
  },
  {
   "cell_type": "code",
   "execution_count": null,
   "metadata": {},
   "outputs": [],
   "source": [
    "test_db = bd.Database('pet_io_db')"
   ]
  },
  {
   "cell_type": "code",
   "execution_count": 28,
   "metadata": {},
   "outputs": [],
   "source": [
    "act1 = test_db.get(code='act1|DK')\n",
    "act2 = test_db.get(code='act2|DK')"
   ]
  },
  {
   "cell_type": "code",
   "execution_count": 20,
   "metadata": {},
   "outputs": [],
   "source": [
    "ipcc_2021 = ('IPCC 2021', 'climate change', 'global warming potential (GWP100)')"
   ]
  },
  {
   "cell_type": "code",
   "execution_count": 21,
   "metadata": {},
   "outputs": [],
   "source": [
    "test_lca = bc.LCA({act2:1},ipcc_2021)"
   ]
  },
  {
   "cell_type": "code",
   "execution_count": 22,
   "metadata": {},
   "outputs": [
    {
     "data": {
      "text/plain": [
       "4655.12370300293"
      ]
     },
     "execution_count": 22,
     "metadata": {},
     "output_type": "execute_result"
    }
   ],
   "source": [
    "test_lca.lci()\n",
    "test_lca.lcia()\n",
    "test_lca.score"
   ]
  },
  {
   "cell_type": "code",
   "execution_count": 23,
   "metadata": {},
   "outputs": [
    {
     "data": {
      "text/html": [
       "<div>\n",
       "<style scoped>\n",
       "    .dataframe tbody tr th:only-of-type {\n",
       "        vertical-align: middle;\n",
       "    }\n",
       "\n",
       "    .dataframe tbody tr th {\n",
       "        vertical-align: top;\n",
       "    }\n",
       "\n",
       "    .dataframe thead tr th {\n",
       "        text-align: left;\n",
       "    }\n",
       "</style>\n",
       "<table border=\"1\" class=\"dataframe\">\n",
       "  <thead>\n",
       "    <tr>\n",
       "      <th></th>\n",
       "      <th></th>\n",
       "      <th colspan=\"5\" halign=\"left\">DK</th>\n",
       "    </tr>\n",
       "    <tr>\n",
       "      <th></th>\n",
       "      <th></th>\n",
       "      <th>act1</th>\n",
       "      <th>act2</th>\n",
       "      <th>Household</th>\n",
       "      <th>Government</th>\n",
       "      <th>Capital</th>\n",
       "    </tr>\n",
       "  </thead>\n",
       "  <tbody>\n",
       "    <tr>\n",
       "      <th rowspan=\"5\" valign=\"top\">DK</th>\n",
       "      <th>prod1</th>\n",
       "      <td>1.0</td>\n",
       "      <td>-2.0</td>\n",
       "      <td>-11.0</td>\n",
       "      <td>-8.0</td>\n",
       "      <td>-4.0</td>\n",
       "    </tr>\n",
       "    <tr>\n",
       "      <th>prod2</th>\n",
       "      <td>0</td>\n",
       "      <td>1.0</td>\n",
       "      <td>-3.0</td>\n",
       "      <td>-4.0</td>\n",
       "      <td>-2.0</td>\n",
       "    </tr>\n",
       "    <tr>\n",
       "      <th>Household</th>\n",
       "      <td>0.0</td>\n",
       "      <td>0.0</td>\n",
       "      <td>1.0</td>\n",
       "      <td>0</td>\n",
       "      <td>0</td>\n",
       "    </tr>\n",
       "    <tr>\n",
       "      <th>Government</th>\n",
       "      <td>0.0</td>\n",
       "      <td>0.0</td>\n",
       "      <td>0</td>\n",
       "      <td>1.0</td>\n",
       "      <td>0</td>\n",
       "    </tr>\n",
       "    <tr>\n",
       "      <th>Capital</th>\n",
       "      <td>0.0</td>\n",
       "      <td>0.0</td>\n",
       "      <td>0</td>\n",
       "      <td>0</td>\n",
       "      <td>1.0</td>\n",
       "    </tr>\n",
       "  </tbody>\n",
       "</table>\n",
       "</div>"
      ],
      "text/plain": [
       "                DK                                  \n",
       "              act1 act2 Household Government Capital\n",
       "DK prod1       1.0 -2.0     -11.0       -8.0    -4.0\n",
       "   prod2         0  1.0      -3.0       -4.0    -2.0\n",
       "   Household   0.0  0.0       1.0          0       0\n",
       "   Government  0.0  0.0         0        1.0       0\n",
       "   Capital     0.0  0.0         0          0     1.0"
      ]
     },
     "execution_count": 23,
     "metadata": {},
     "output_type": "execute_result"
    }
   ],
   "source": [
    "extended_hiot"
   ]
  },
  {
   "cell_type": "code",
   "execution_count": 24,
   "metadata": {},
   "outputs": [
    {
     "data": {
      "text/plain": [
       "matrix([[  1.,  -2., -11.,  -8.,  -4.],\n",
       "        [  0.,   1.,  -3.,  -4.,  -2.],\n",
       "        [  0.,   0.,   1.,   0.,   0.],\n",
       "        [  0.,   0.,   0.,   1.,   0.],\n",
       "        [  0.,   0.,   0.,   0.,   1.]])"
      ]
     },
     "execution_count": 24,
     "metadata": {},
     "output_type": "execute_result"
    }
   ],
   "source": [
    "test_lca.technosphere_matrix.todense()"
   ]
  },
  {
   "cell_type": "code",
   "execution_count": 36,
   "metadata": {},
   "outputs": [
    {
     "name": "stdout",
     "output_type": "stream",
     "text": [
      "Fraction of score | Absolute score | Amount | Activity\n",
      "0001 |  4655 |     1 | 'act2' (kilogram, DK, None)\n",
      "  0.403 |  1874 |     2 | 'act1' (kilogram, DK, None)\n"
     ]
    }
   ],
   "source": [
    "ba.print_recursive_calculation(act2,ipcc_2021,use_matrix_values=True)"
   ]
  },
  {
   "cell_type": "code",
   "execution_count": null,
   "metadata": {},
   "outputs": [],
   "source": []
  },
  {
   "cell_type": "markdown",
   "metadata": {},
   "source": [
    "***"
   ]
  },
  {
   "cell_type": "code",
   "execution_count": 18,
   "metadata": {},
   "outputs": [],
   "source": [
    "import pint"
   ]
  },
  {
   "cell_type": "code",
   "execution_count": 19,
   "metadata": {},
   "outputs": [],
   "source": [
    "ureg = pint.UnitRegistry()"
   ]
  },
  {
   "cell_type": "code",
   "execution_count": 23,
   "metadata": {},
   "outputs": [
    {
     "data": {
      "text/plain": [
       "10000"
      ]
     },
     "execution_count": 23,
     "metadata": {},
     "output_type": "execute_result"
    }
   ],
   "source": [
    "ureg('hectare * year').to('square meter * year').magnitude"
   ]
  },
  {
   "cell_type": "markdown",
   "metadata": {},
   "source": [
    "***"
   ]
  }
 ],
 "metadata": {
  "kernelspec": {
   "display_name": "venv",
   "language": "python",
   "name": "python3"
  },
  "language_info": {
   "codemirror_mode": {
    "name": "ipython",
    "version": 3
   },
   "file_extension": ".py",
   "mimetype": "text/x-python",
   "name": "python",
   "nbconvert_exporter": "python",
   "pygments_lexer": "ipython3",
   "version": "3.11.5"
  }
 },
 "nbformat": 4,
 "nbformat_minor": 2
}
