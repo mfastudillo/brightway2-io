{
 "cells": [
  {
   "attachments": {},
   "cell_type": "markdown",
   "metadata": {},
   "source": [
    "# Importing in ilcd format"
   ]
  },
  {
   "cell_type": "code",
   "execution_count": 1,
   "metadata": {},
   "outputs": [],
   "source": [
    "from collections import Counter\n",
    "from pathlib import Path\n",
    "import bw2io\n",
    "import bw2calc\n",
    "import bw2data\n",
    "from bw2io.importers.ilcd import ILCDImporter\n",
    "import pandas as pd"
   ]
  },
  {
   "cell_type": "code",
   "execution_count": 2,
   "metadata": {
    "scrolled": true
   },
   "outputs": [
    {
     "name": "stdout",
     "output_type": "stream",
     "text": [
      "(0, 9, 'DEV10')\n"
     ]
    }
   ],
   "source": [
    "print(bw2io.__version__)"
   ]
  },
  {
   "cell_type": "code",
   "execution_count": 3,
   "metadata": {},
   "outputs": [],
   "source": [
    "gwp100 = ('IPCC 2013', 'climate change', 'GWP 100a')"
   ]
  },
  {
   "cell_type": "code",
   "execution_count": 4,
   "metadata": {},
   "outputs": [
    {
     "name": "stdout",
     "output_type": "stream",
     "text": [
      "Biosphere database already present!!! No setup is needed\n"
     ]
    }
   ],
   "source": [
    "bw2data.projects.set_current('ilcd_import')\n",
    "bw2io.bw2setup()"
   ]
  },
  {
   "cell_type": "code",
   "execution_count": 5,
   "metadata": {},
   "outputs": [
    {
     "data": {
      "text/plain": [
       "Databases dictionary with 9 object(s):\n",
       "\tbiosphere3\n",
       "\texample_glad\n",
       "\texample_glad_many\n",
       "\texample_ilcd\n",
       "\texample_ilcd_lcacommons\n",
       "\tlca_commons\n",
       "\tlcacommons_electricity\n",
       "\tlcacommons_forest\n",
       "\ttest_db"
      ]
     },
     "execution_count": 5,
     "metadata": {},
     "output_type": "execute_result"
    }
   ],
   "source": [
    "bw2data.databases"
   ]
  },
  {
   "cell_type": "code",
   "execution_count": 6,
   "metadata": {},
   "outputs": [],
   "source": [
    "path_to_examples = Path('bw2io/data/examples/ilcd_examples')\n",
    "assert path_to_examples.is_dir()\n",
    "paths_to_examples = list(path_to_examples.glob('*zip'))"
   ]
  },
  {
   "attachments": {},
   "cell_type": "markdown",
   "metadata": {},
   "source": [
    "## 1) GLAD - single activity"
   ]
  },
  {
   "attachments": {},
   "cell_type": "markdown",
   "metadata": {},
   "source": [
    "this activity is used for testing purposes. The pdfs have been removed from the zip file to make it lighter"
   ]
  },
  {
   "cell_type": "code",
   "execution_count": 7,
   "metadata": {},
   "outputs": [],
   "source": [
    "path_to_GLAD_example = Path('bw2io/data/examples/ilcd_example.zip')"
   ]
  },
  {
   "cell_type": "code",
   "execution_count": 8,
   "metadata": {},
   "outputs": [],
   "source": [
    "so = ILCDImporter(dirpath= path_to_GLAD_example, dbname='example_glad')"
   ]
  },
  {
   "cell_type": "code",
   "execution_count": 9,
   "metadata": {},
   "outputs": [
    {
     "name": "stdout",
     "output_type": "stream",
     "text": [
      "Applying strategy: rename_activity_keys\n",
      "Applying strategy: get_activity_unit\n",
      "Applying strategy: set_production_exchange\n",
      "Applying strategy: convert_to_default_units\n",
      "Applying strategy: assign_only_product_as_production\n",
      "Applying strategy: map_to_biosphere3\n",
      "Applying strategy: set_default_location\n",
      "Applying strategy: set_activity_parameters\n",
      "Applied 8 strategies in 0.05 seconds\n",
      "Applying strategy: link_iterable_by_fields\n",
      "Applying strategy: link_iterable_by_fields\n",
      "1 datasets\n",
      "15 exchanges\n",
      "4 unlinked exchanges\n",
      "  Type biosphere: 2 unique unlinked exchanges\n",
      "  Type technosphere: 2 unique unlinked exchanges\n"
     ]
    },
    {
     "data": {
      "text/plain": [
       "(1, 15, 4)"
      ]
     },
     "execution_count": 9,
     "metadata": {},
     "output_type": "execute_result"
    }
   ],
   "source": [
    "so.apply_strategies()\n",
    "so.match_database('biosphere3',fields=['database','code'])\n",
    "so.match_database(fields=['database','code'])\n",
    "so.statistics()"
   ]
  },
  {
   "attachments": {},
   "cell_type": "markdown",
   "metadata": {},
   "source": [
    "There are a number of unlinked exchanges."
   ]
  },
  {
   "attachments": {},
   "cell_type": "markdown",
   "metadata": {},
   "source": [
    "### battling with unlinked"
   ]
  },
  {
   "cell_type": "code",
   "execution_count": 10,
   "metadata": {},
   "outputs": [
    {
     "data": {
      "text/html": [
       "<div>\n",
       "<style scoped>\n",
       "    .dataframe tbody tr th:only-of-type {\n",
       "        vertical-align: middle;\n",
       "    }\n",
       "\n",
       "    .dataframe tbody tr th {\n",
       "        vertical-align: top;\n",
       "    }\n",
       "\n",
       "    .dataframe thead th {\n",
       "        text-align: right;\n",
       "    }\n",
       "</style>\n",
       "<table border=\"1\" class=\"dataframe\">\n",
       "  <thead>\n",
       "    <tr style=\"text-align: right;\">\n",
       "      <th></th>\n",
       "      <th>0</th>\n",
       "      <th>3</th>\n",
       "    </tr>\n",
       "  </thead>\n",
       "  <tbody>\n",
       "    <tr>\n",
       "      <th>uuid</th>\n",
       "      <td>08a91e70-3ddc-11dd-960b-0050c2490048</td>\n",
       "      <td>fe0acd60-3ddc-11dd-af54-0050c2490048</td>\n",
       "    </tr>\n",
       "    <tr>\n",
       "      <th>category_0</th>\n",
       "      <td>Emissions</td>\n",
       "      <td>Emissions</td>\n",
       "    </tr>\n",
       "    <tr>\n",
       "      <th>category_1</th>\n",
       "      <td>Emissions to air</td>\n",
       "      <td>Emissions to air</td>\n",
       "    </tr>\n",
       "    <tr>\n",
       "      <th>category_2</th>\n",
       "      <td>Emissions to air, unspecified</td>\n",
       "      <td>Emissions to air, unspecified</td>\n",
       "    </tr>\n",
       "    <tr>\n",
       "      <th>type</th>\n",
       "      <td>biosphere</td>\n",
       "      <td>biosphere</td>\n",
       "    </tr>\n",
       "    <tr>\n",
       "      <th>refobj</th>\n",
       "      <td>93a60a56-a3c8-11da-a746-0800200b9a66</td>\n",
       "      <td>93a60a56-a3c8-11da-a746-0800200b9a66</td>\n",
       "    </tr>\n",
       "    <tr>\n",
       "      <th>exchanges_internal_id</th>\n",
       "      <td>8</td>\n",
       "      <td>6</td>\n",
       "    </tr>\n",
       "    <tr>\n",
       "      <th>exchanges_name</th>\n",
       "      <td>methane (Emissions to air, unspecified)</td>\n",
       "      <td>carbon dioxide (Emissions to air, unspecified)</td>\n",
       "    </tr>\n",
       "    <tr>\n",
       "      <th>exchanges_direction</th>\n",
       "      <td>Output</td>\n",
       "      <td>Output</td>\n",
       "    </tr>\n",
       "    <tr>\n",
       "      <th>amount</th>\n",
       "      <td>0.0</td>\n",
       "      <td>0.022122</td>\n",
       "    </tr>\n",
       "    <tr>\n",
       "      <th>unit</th>\n",
       "      <td>kilogram</td>\n",
       "      <td>kilogram</td>\n",
       "    </tr>\n",
       "    <tr>\n",
       "      <th>flow property</th>\n",
       "      <td>Mass</td>\n",
       "      <td>Mass</td>\n",
       "    </tr>\n",
       "    <tr>\n",
       "      <th>name</th>\n",
       "      <td>methane</td>\n",
       "      <td>carbon dioxide</td>\n",
       "    </tr>\n",
       "  </tbody>\n",
       "</table>\n",
       "</div>"
      ],
      "text/plain": [
       "                                                             0  \\\n",
       "uuid                      08a91e70-3ddc-11dd-960b-0050c2490048   \n",
       "category_0                                           Emissions   \n",
       "category_1                                    Emissions to air   \n",
       "category_2                       Emissions to air, unspecified   \n",
       "type                                                 biosphere   \n",
       "refobj                    93a60a56-a3c8-11da-a746-0800200b9a66   \n",
       "exchanges_internal_id                                        8   \n",
       "exchanges_name         methane (Emissions to air, unspecified)   \n",
       "exchanges_direction                                     Output   \n",
       "amount                                                     0.0   \n",
       "unit                                                  kilogram   \n",
       "flow property                                             Mass   \n",
       "name                                                   methane   \n",
       "\n",
       "                                                                    3  \n",
       "uuid                             fe0acd60-3ddc-11dd-af54-0050c2490048  \n",
       "category_0                                                  Emissions  \n",
       "category_1                                           Emissions to air  \n",
       "category_2                              Emissions to air, unspecified  \n",
       "type                                                        biosphere  \n",
       "refobj                           93a60a56-a3c8-11da-a746-0800200b9a66  \n",
       "exchanges_internal_id                                               6  \n",
       "exchanges_name         carbon dioxide (Emissions to air, unspecified)  \n",
       "exchanges_direction                                            Output  \n",
       "amount                                                       0.022122  \n",
       "unit                                                         kilogram  \n",
       "flow property                                                    Mass  \n",
       "name                                                   carbon dioxide  "
      ]
     },
     "execution_count": 10,
     "metadata": {},
     "output_type": "execute_result"
    }
   ],
   "source": [
    "unlinked_df = pd.DataFrame(list(so.unlinked))\n",
    "unlinked_df.loc[unlinked_df['type']=='biosphere',:].T"
   ]
  },
  {
   "attachments": {},
   "cell_type": "markdown",
   "metadata": {},
   "source": [
    "First lets try to pass from ilcd 2.0 to ilcd3"
   ]
  },
  {
   "cell_type": "code",
   "execution_count": 12,
   "metadata": {},
   "outputs": [
    {
     "data": {
      "text/html": [
       "<div>\n",
       "<style scoped>\n",
       "    .dataframe tbody tr th:only-of-type {\n",
       "        vertical-align: middle;\n",
       "    }\n",
       "\n",
       "    .dataframe tbody tr th {\n",
       "        vertical-align: top;\n",
       "    }\n",
       "\n",
       "    .dataframe thead th {\n",
       "        text-align: right;\n",
       "    }\n",
       "</style>\n",
       "<table border=\"1\" class=\"dataframe\">\n",
       "  <thead>\n",
       "    <tr style=\"text-align: right;\">\n",
       "      <th></th>\n",
       "      <th>UUID OLD (EF 2.0)</th>\n",
       "      <th>name</th>\n",
       "      <th>UUID NEW (EF 3.0)</th>\n",
       "      <th>name.1</th>\n",
       "    </tr>\n",
       "  </thead>\n",
       "  <tbody>\n",
       "    <tr>\n",
       "      <th>0</th>\n",
       "      <td>30da22c2-c0b1-467e-a491-3a07d6d72370</td>\n",
       "      <td>HFE-236ca12 (HG-10)</td>\n",
       "      <td>d86b9e71-6555-11dd-ad8b-0800200c9a66</td>\n",
       "      <td>HG-10</td>\n",
       "    </tr>\n",
       "    <tr>\n",
       "      <th>1</th>\n",
       "      <td>229e91a6-ff71-4eeb-b71b-c66e7fae9215</td>\n",
       "      <td>Argon-40</td>\n",
       "      <td>3f5f02ed-d820-47b1-b319-505ab06b9bc0</td>\n",
       "      <td>Argon-40</td>\n",
       "    </tr>\n",
       "    <tr>\n",
       "      <th>2</th>\n",
       "      <td>549c62f1-9693-4da3-814e-d31ca726837a</td>\n",
       "      <td>Argon-40</td>\n",
       "      <td>e8d5b530-d495-4f79-8c34-ca8ec4852bfa</td>\n",
       "      <td>Argon-40</td>\n",
       "    </tr>\n",
       "    <tr>\n",
       "      <th>3</th>\n",
       "      <td>041fd22c-6556-11dd-ad8b-0800200c9a66</td>\n",
       "      <td>polonium</td>\n",
       "      <td>cd375ebd-60f8-4260-b1bd-41b2840376cf</td>\n",
       "      <td>polonium</td>\n",
       "    </tr>\n",
       "    <tr>\n",
       "      <th>4</th>\n",
       "      <td>73e2c735-8a30-4f18-a846-d7392081a665</td>\n",
       "      <td>Water (evapotranspiration)</td>\n",
       "      <td>4b772bba-b5c1-4098-9c1d-3d9d8c74c7fa</td>\n",
       "      <td>Water (evapotranspiration)</td>\n",
       "    </tr>\n",
       "    <tr>\n",
       "      <th>...</th>\n",
       "      <td>...</td>\n",
       "      <td>...</td>\n",
       "      <td>...</td>\n",
       "      <td>...</td>\n",
       "    </tr>\n",
       "    <tr>\n",
       "      <th>248</th>\n",
       "      <td>c753193c-87e1-4d85-9fa3-61c6662a5302</td>\n",
       "      <td>beta-pinene</td>\n",
       "      <td>041f840a-6556-11dd-ad8b-0800200c9a66</td>\n",
       "      <td>beta-pinene</td>\n",
       "    </tr>\n",
       "    <tr>\n",
       "      <th>249</th>\n",
       "      <td>cd46eb6c-8e97-49c3-bb75-19a4483d93b9</td>\n",
       "      <td>beta-pinene</td>\n",
       "      <td>041f840d-6556-11dd-ad8b-0800200c9a66</td>\n",
       "      <td>beta-pinene</td>\n",
       "    </tr>\n",
       "    <tr>\n",
       "      <th>250</th>\n",
       "      <td>d1298572-2991-40ff-8c15-8b7141e198e4</td>\n",
       "      <td>beta-pinene</td>\n",
       "      <td>041f8409-6556-11dd-ad8b-0800200c9a66</td>\n",
       "      <td>beta-pinene</td>\n",
       "    </tr>\n",
       "    <tr>\n",
       "      <th>251</th>\n",
       "      <td>f089349e-eb83-4343-aa33-96f1e745472c</td>\n",
       "      <td>beta-pinene</td>\n",
       "      <td>fe0acd60-3ddc-11dd-a795-0050c2490048</td>\n",
       "      <td>beta-pinene</td>\n",
       "    </tr>\n",
       "    <tr>\n",
       "      <th>252</th>\n",
       "      <td>fcabcd39-de1f-42fd-85f6-8605788975d0</td>\n",
       "      <td>beta-pinene</td>\n",
       "      <td>80122ca7-42ef-4199-8449-cae7969a398d</td>\n",
       "      <td>beta-pinene</td>\n",
       "    </tr>\n",
       "  </tbody>\n",
       "</table>\n",
       "<p>253 rows × 4 columns</p>\n",
       "</div>"
      ],
      "text/plain": [
       "                        UUID OLD (EF 2.0)                        name  \\\n",
       "0    30da22c2-c0b1-467e-a491-3a07d6d72370         HFE-236ca12 (HG-10)   \n",
       "1    229e91a6-ff71-4eeb-b71b-c66e7fae9215                    Argon-40   \n",
       "2    549c62f1-9693-4da3-814e-d31ca726837a                    Argon-40   \n",
       "3    041fd22c-6556-11dd-ad8b-0800200c9a66                    polonium   \n",
       "4    73e2c735-8a30-4f18-a846-d7392081a665  Water (evapotranspiration)   \n",
       "..                                    ...                         ...   \n",
       "248  c753193c-87e1-4d85-9fa3-61c6662a5302                 beta-pinene   \n",
       "249  cd46eb6c-8e97-49c3-bb75-19a4483d93b9                 beta-pinene   \n",
       "250  d1298572-2991-40ff-8c15-8b7141e198e4                 beta-pinene   \n",
       "251  f089349e-eb83-4343-aa33-96f1e745472c                 beta-pinene   \n",
       "252  fcabcd39-de1f-42fd-85f6-8605788975d0                 beta-pinene   \n",
       "\n",
       "                        UUID NEW (EF 3.0)                      name.1  \n",
       "0    d86b9e71-6555-11dd-ad8b-0800200c9a66                       HG-10  \n",
       "1    3f5f02ed-d820-47b1-b319-505ab06b9bc0                    Argon-40  \n",
       "2    e8d5b530-d495-4f79-8c34-ca8ec4852bfa                    Argon-40  \n",
       "3    cd375ebd-60f8-4260-b1bd-41b2840376cf                    polonium  \n",
       "4    4b772bba-b5c1-4098-9c1d-3d9d8c74c7fa  Water (evapotranspiration)  \n",
       "..                                    ...                         ...  \n",
       "248  041f840a-6556-11dd-ad8b-0800200c9a66                 beta-pinene  \n",
       "249  041f840d-6556-11dd-ad8b-0800200c9a66                 beta-pinene  \n",
       "250  041f8409-6556-11dd-ad8b-0800200c9a66                 beta-pinene  \n",
       "251  fe0acd60-3ddc-11dd-a795-0050c2490048                 beta-pinene  \n",
       "252  80122ca7-42ef-4199-8449-cae7969a398d                 beta-pinene  \n",
       "\n",
       "[253 rows x 4 columns]"
      ]
     },
     "execution_count": 12,
     "metadata": {},
     "output_type": "execute_result"
    }
   ],
   "source": [
    "ilcd2_ilcd3 = pd.read_excel('ChangeLog_COMPLETE_EF2.0toEF3.0(1).xlsx',sheet_name='Mapped flows',skiprows=2)\n",
    "ilcd2_ilcd3"
   ]
  },
  {
   "cell_type": "code",
   "execution_count": 17,
   "metadata": {},
   "outputs": [],
   "source": [
    "ilcd2_ilcd3_dict = ilcd2_ilcd3.set_index('UUID OLD (EF 2.0)')['UUID NEW (EF 3.0)'].to_dict()"
   ]
  },
  {
   "cell_type": "code",
   "execution_count": 18,
   "metadata": {},
   "outputs": [
    {
     "data": {
      "text/plain": [
       "0    False\n",
       "3    False\n",
       "Name: uuid, dtype: bool"
      ]
     },
     "execution_count": 18,
     "metadata": {},
     "output_type": "execute_result"
    }
   ],
   "source": [
    "unlinked_df.loc[unlinked_df['type']=='biosphere','uuid'].isin(ilcd2_ilcd3_dict)"
   ]
  },
  {
   "attachments": {},
   "cell_type": "markdown",
   "metadata": {},
   "source": [
    "bad luck"
   ]
  },
  {
   "attachments": {},
   "cell_type": "markdown",
   "metadata": {},
   "source": [
    "We can first verify if the UUID's are in the input file https://github.com/UNEP-Economy-Division/GLAD-ElementaryFlowResources/tree/master/Mapping/Input/Flowlists"
   ]
  },
  {
   "cell_type": "code",
   "execution_count": 11,
   "metadata": {},
   "outputs": [],
   "source": [
    "mapping_input_df = pd.read_csv('ILCD_EFv3.0.csv',low_memory=False)"
   ]
  },
  {
   "cell_type": "code",
   "execution_count": 12,
   "metadata": {},
   "outputs": [],
   "source": [
    "existing_uuids = mapping_input_df['Flow UUID'].to_list()"
   ]
  },
  {
   "cell_type": "code",
   "execution_count": 13,
   "metadata": {},
   "outputs": [
    {
     "data": {
      "text/plain": [
       "0    False\n",
       "1    False\n",
       "2    False\n",
       "3    False\n",
       "Name: uuid, dtype: bool"
      ]
     },
     "execution_count": 13,
     "metadata": {},
     "output_type": "execute_result"
    }
   ],
   "source": [
    "unlinked_df.uuid.isin(existing_uuids)"
   ]
  },
  {
   "attachments": {},
   "cell_type": "markdown",
   "metadata": {},
   "source": [
    "There are not in ilcd 2.0 nor in 3.0. At this point the only solution is a manual mapping"
   ]
  },
  {
   "cell_type": "code",
   "execution_count": 15,
   "metadata": {},
   "outputs": [
    {
     "data": {
      "text/html": [
       "<div>\n",
       "<style scoped>\n",
       "    .dataframe tbody tr th:only-of-type {\n",
       "        vertical-align: middle;\n",
       "    }\n",
       "\n",
       "    .dataframe tbody tr th {\n",
       "        vertical-align: top;\n",
       "    }\n",
       "\n",
       "    .dataframe thead th {\n",
       "        text-align: right;\n",
       "    }\n",
       "</style>\n",
       "<table border=\"1\" class=\"dataframe\">\n",
       "  <thead>\n",
       "    <tr style=\"text-align: right;\">\n",
       "      <th></th>\n",
       "      <th>1</th>\n",
       "      <th>2</th>\n",
       "    </tr>\n",
       "  </thead>\n",
       "  <tbody>\n",
       "    <tr>\n",
       "      <th>uuid</th>\n",
       "      <td>55a4c166-2eb6-43a3-9a13-2e4f2c4fee60</td>\n",
       "      <td>e9fd08fb-8067-4d90-91e3-4c92fc1803f7</td>\n",
       "    </tr>\n",
       "    <tr>\n",
       "      <th>category_0</th>\n",
       "      <td>Valuable substances</td>\n",
       "      <td>Others</td>\n",
       "    </tr>\n",
       "    <tr>\n",
       "      <th>category_1</th>\n",
       "      <td>Energy carrier</td>\n",
       "      <td>None</td>\n",
       "    </tr>\n",
       "    <tr>\n",
       "      <th>category_2</th>\n",
       "      <td>Fuels</td>\n",
       "      <td>None</td>\n",
       "    </tr>\n",
       "    <tr>\n",
       "      <th>type</th>\n",
       "      <td>technosphere</td>\n",
       "      <td>technosphere</td>\n",
       "    </tr>\n",
       "    <tr>\n",
       "      <th>refobj</th>\n",
       "      <td>93a60a56-a3c8-11da-a746-0800200b9a66</td>\n",
       "      <td>93a60a56-a3c8-11da-a746-0800200b9a66</td>\n",
       "    </tr>\n",
       "    <tr>\n",
       "      <th>exchanges_internal_id</th>\n",
       "      <td>1</td>\n",
       "      <td>0</td>\n",
       "    </tr>\n",
       "    <tr>\n",
       "      <th>exchanges_name</th>\n",
       "      <td>Diesel</td>\n",
       "      <td>Cargo</td>\n",
       "    </tr>\n",
       "    <tr>\n",
       "      <th>exchanges_direction</th>\n",
       "      <td>Input</td>\n",
       "      <td>Input</td>\n",
       "    </tr>\n",
       "    <tr>\n",
       "      <th>amount</th>\n",
       "      <td>0.007325</td>\n",
       "      <td>1.0</td>\n",
       "    </tr>\n",
       "    <tr>\n",
       "      <th>unit</th>\n",
       "      <td>kilogram</td>\n",
       "      <td>kilogram</td>\n",
       "    </tr>\n",
       "    <tr>\n",
       "      <th>flow property</th>\n",
       "      <td>Mass</td>\n",
       "      <td>Mass</td>\n",
       "    </tr>\n",
       "    <tr>\n",
       "      <th>name</th>\n",
       "      <td>Diesel</td>\n",
       "      <td>Cargo</td>\n",
       "    </tr>\n",
       "  </tbody>\n",
       "</table>\n",
       "</div>"
      ],
      "text/plain": [
       "                                                          1  \\\n",
       "uuid                   55a4c166-2eb6-43a3-9a13-2e4f2c4fee60   \n",
       "category_0                              Valuable substances   \n",
       "category_1                                   Energy carrier   \n",
       "category_2                                            Fuels   \n",
       "type                                           technosphere   \n",
       "refobj                 93a60a56-a3c8-11da-a746-0800200b9a66   \n",
       "exchanges_internal_id                                     1   \n",
       "exchanges_name                                       Diesel   \n",
       "exchanges_direction                                   Input   \n",
       "amount                                             0.007325   \n",
       "unit                                               kilogram   \n",
       "flow property                                          Mass   \n",
       "name                                                 Diesel   \n",
       "\n",
       "                                                          2  \n",
       "uuid                   e9fd08fb-8067-4d90-91e3-4c92fc1803f7  \n",
       "category_0                                           Others  \n",
       "category_1                                             None  \n",
       "category_2                                             None  \n",
       "type                                           technosphere  \n",
       "refobj                 93a60a56-a3c8-11da-a746-0800200b9a66  \n",
       "exchanges_internal_id                                     0  \n",
       "exchanges_name                                        Cargo  \n",
       "exchanges_direction                                   Input  \n",
       "amount                                                  1.0  \n",
       "unit                                               kilogram  \n",
       "flow property                                          Mass  \n",
       "name                                                  Cargo  "
      ]
     },
     "execution_count": 15,
     "metadata": {},
     "output_type": "execute_result"
    }
   ],
   "source": [
    "unlinked_df.loc[unlinked_df['type']=='technosphere',:].T"
   ]
  },
  {
   "attachments": {},
   "cell_type": "markdown",
   "metadata": {},
   "source": [
    "### write database and examine what is parsed"
   ]
  },
  {
   "cell_type": "code",
   "execution_count": 16,
   "metadata": {},
   "outputs": [
    {
     "name": "stdout",
     "output_type": "stream",
     "text": [
      "Applying strategy: drop_unlinked\n",
      "Applied 1 strategies in 0.00 seconds\n"
     ]
    }
   ],
   "source": [
    "so.drop_unlinked(True)"
   ]
  },
  {
   "cell_type": "code",
   "execution_count": 17,
   "metadata": {},
   "outputs": [
    {
     "name": "stdout",
     "output_type": "stream",
     "text": [
      "Warning: No valid output stream.\n",
      "Title: Writing activities to SQLite3 database:\n",
      "  Started: 02/15/2023 12:09:35\n",
      "  Finished: 02/15/2023 12:09:35\n",
      "  Total time elapsed: 00:00:00\n",
      "  CPU %: 0.00\n",
      "  Memory %: 3.05\n",
      "Created database: example_glad\n"
     ]
    },
    {
     "data": {
      "text/plain": [
       "Brightway2 SQLiteBackend: example_glad"
      ]
     },
     "execution_count": 17,
     "metadata": {},
     "output_type": "execute_result"
    }
   ],
   "source": [
    "so.write_database()"
   ]
  },
  {
   "cell_type": "code",
   "execution_count": 19,
   "metadata": {},
   "outputs": [],
   "source": [
    "glad_example = bw2data.Database('example_glad').random()"
   ]
  },
  {
   "cell_type": "markdown",
   "metadata": {},
   "source": [
    "parameters are parsed although not linked to exchanges"
   ]
  },
  {
   "cell_type": "code",
   "execution_count": 20,
   "metadata": {},
   "outputs": [
    {
     "data": {
      "text/html": [
       "<div>\n",
       "<style scoped>\n",
       "    .dataframe tbody tr th:only-of-type {\n",
       "        vertical-align: middle;\n",
       "    }\n",
       "\n",
       "    .dataframe tbody tr th {\n",
       "        vertical-align: top;\n",
       "    }\n",
       "\n",
       "    .dataframe thead th {\n",
       "        text-align: right;\n",
       "    }\n",
       "</style>\n",
       "<table border=\"1\" class=\"dataframe\">\n",
       "  <thead>\n",
       "    <tr style=\"text-align: right;\">\n",
       "      <th></th>\n",
       "      <th>name</th>\n",
       "      <th>comment</th>\n",
       "      <th>formula</th>\n",
       "      <th>mean</th>\n",
       "      <th>minimum</th>\n",
       "      <th>maximum</th>\n",
       "      <th>std</th>\n",
       "    </tr>\n",
       "  </thead>\n",
       "  <tbody>\n",
       "    <tr>\n",
       "      <th>0</th>\n",
       "      <td>distance</td>\n",
       "      <td>[km] distance start - end, default = 100 km</td>\n",
       "      <td>share_mw+share_ru+share_ur</td>\n",
       "      <td>100</td>\n",
       "      <td>0.8</td>\n",
       "      <td>1.5</td>\n",
       "      <td>0</td>\n",
       "    </tr>\n",
       "    <tr>\n",
       "      <th>1</th>\n",
       "      <td>payload</td>\n",
       "      <td>[t] default = 1,2 t</td>\n",
       "      <td>0.000179963579284959/(payload*1000*utilisation)</td>\n",
       "      <td>1.2</td>\n",
       "      <td>0</td>\n",
       "      <td>2000</td>\n",
       "      <td>0</td>\n",
       "    </tr>\n",
       "    <tr>\n",
       "      <th>2</th>\n",
       "      <td>ppm_sulfur</td>\n",
       "      <td>[ppm] sulphur content in diesel, default Europ...</td>\n",
       "      <td>0.000158765105879866/(payload*1000*utilisation)</td>\n",
       "      <td>10</td>\n",
       "      <td>0</td>\n",
       "      <td>1</td>\n",
       "      <td>0</td>\n",
       "    </tr>\n",
       "    <tr>\n",
       "      <th>3</th>\n",
       "      <td>share_check</td>\n",
       "      <td>Check - value must be 1</td>\n",
       "      <td>((share_mw*spec_benzene_mw)+(share_ru*spec_ben...</td>\n",
       "      <td>1</td>\n",
       "      <td>0</td>\n",
       "      <td>1</td>\n",
       "      <td>0</td>\n",
       "    </tr>\n",
       "    <tr>\n",
       "      <th>4</th>\n",
       "      <td>share_CO2_bio</td>\n",
       "      <td>[-] share of biogenic C in fuel</td>\n",
       "      <td>0.000214096377021633/(payload*1000*utilisation)</td>\n",
       "      <td>0.05</td>\n",
       "      <td>0</td>\n",
       "      <td>1</td>\n",
       "      <td>0</td>\n",
       "    </tr>\n",
       "    <tr>\n",
       "      <th>5</th>\n",
       "      <td>share_mw</td>\n",
       "      <td>[-] driving share motorway , default = 0,29</td>\n",
       "      <td>0.00025863031623885/(payload*1000*utilisation)</td>\n",
       "      <td>0.29</td>\n",
       "      <td>0</td>\n",
       "      <td>1</td>\n",
       "      <td>0</td>\n",
       "    </tr>\n",
       "    <tr>\n",
       "      <th>6</th>\n",
       "      <td>share_ru</td>\n",
       "      <td>[-] driving share rural , default = 0,26</td>\n",
       "      <td>0.000228165430598892/(payload*1000*utilisation)</td>\n",
       "      <td>0.26</td>\n",
       "      <td>0</td>\n",
       "      <td>1</td>\n",
       "      <td>0</td>\n",
       "    </tr>\n",
       "    <tr>\n",
       "      <th>7</th>\n",
       "      <td>share_ur</td>\n",
       "      <td>[-] driving share urban , default = 0,45</td>\n",
       "      <td>((share_mw*spec_CH4_mw)+(share_ru*spec_CH4_ru)...</td>\n",
       "      <td>0.45</td>\n",
       "      <td>None</td>\n",
       "      <td>None</td>\n",
       "      <td>0</td>\n",
       "    </tr>\n",
       "    <tr>\n",
       "      <th>8</th>\n",
       "      <td>spec_benzene_mw</td>\n",
       "      <td>[gbenzene/(kg*km)] benzene emission motorway</td>\n",
       "      <td>0.000307683425489813/(payload*1000*utilisation)</td>\n",
       "      <td>1.76434881651921E-7</td>\n",
       "      <td>None</td>\n",
       "      <td>None</td>\n",
       "      <td>0</td>\n",
       "    </tr>\n",
       "    <tr>\n",
       "      <th>9</th>\n",
       "      <td>spec_benzene_ru</td>\n",
       "      <td>[gbenzene/(kg*km)] benzene emission rural</td>\n",
       "      <td>0.0133990757167339/(payload*1000*utilisation)</td>\n",
       "      <td>1.55652064588104E-7</td>\n",
       "      <td>None</td>\n",
       "      <td>None</td>\n",
       "      <td>0</td>\n",
       "    </tr>\n",
       "    <tr>\n",
       "      <th>10</th>\n",
       "      <td>spec_benzene_to</td>\n",
       "      <td>[gbenzene/kg] benzene emission weighted</td>\n",
       "      <td>0.0166427865624428/(payload*1000*utilisation)</td>\n",
       "      <td>1.86089936452096E-5</td>\n",
       "      <td>None</td>\n",
       "      <td>None</td>\n",
       "      <td>0</td>\n",
       "    </tr>\n",
       "    <tr>\n",
       "      <th>11</th>\n",
       "      <td>spec_benzene_ur</td>\n",
       "      <td>[gbenzene/(kg*km)] benzene emission urban</td>\n",
       "      <td>((share_mw*spec_CO_mw)+(share_ru*spec_CO_ru)+(...</td>\n",
       "      <td>2.09898408844738E-7</td>\n",
       "      <td>None</td>\n",
       "      <td>None</td>\n",
       "      <td>0</td>\n",
       "    </tr>\n",
       "    <tr>\n",
       "      <th>12</th>\n",
       "      <td>spec_CH4_mw</td>\n",
       "      <td>[gCH4/(kg*km)] CH4 emission motorway</td>\n",
       "      <td>0.0743515715003014/(payload*1000*utilisation)</td>\n",
       "      <td>2.535591335675E-7</td>\n",
       "      <td>None</td>\n",
       "      <td>None</td>\n",
       "      <td>0</td>\n",
       "    </tr>\n",
       "    <tr>\n",
       "      <th>13</th>\n",
       "      <td>spec_CH4_ru</td>\n",
       "      <td>[gCH4/(kg*km)] CH4 emission rural</td>\n",
       "      <td>spec_CO2_tot*share_CO2_bio</td>\n",
       "      <td>2.23691598626365E-7</td>\n",
       "      <td>None</td>\n",
       "      <td>None</td>\n",
       "      <td>0</td>\n",
       "    </tr>\n",
       "    <tr>\n",
       "      <th>14</th>\n",
       "      <td>spec_CH4_tot</td>\n",
       "      <td>[gCH4/kg] CH4 emission weighted</td>\n",
       "      <td>spec_CO2_tot*(1-share_CO2_bio)</td>\n",
       "      <td>2.67434652093524E-5</td>\n",
       "      <td>None</td>\n",
       "      <td>None</td>\n",
       "      <td>0</td>\n",
       "    </tr>\n",
       "    <tr>\n",
       "      <th>15</th>\n",
       "      <td>spec_CH4_ur</td>\n",
       "      <td>[gCH4/(kg*km)] CH4 emission urban</td>\n",
       "      <td>262.256591796875/(payload*1000*utilisation)</td>\n",
       "      <td>3.01650417146875E-7</td>\n",
       "      <td>None</td>\n",
       "      <td>None</td>\n",
       "      <td>0</td>\n",
       "    </tr>\n",
       "    <tr>\n",
       "      <th>16</th>\n",
       "      <td>spec_CO_mw</td>\n",
       "      <td>[gCO/(kg*km)] CO emission motorway</td>\n",
       "      <td>209.124938964843/(payload*1000*utilisation)</td>\n",
       "      <td>1.3136348741896E-5</td>\n",
       "      <td>None</td>\n",
       "      <td>None</td>\n",
       "      <td>0</td>\n",
       "    </tr>\n",
       "    <tr>\n",
       "      <th>17</th>\n",
       "      <td>spec_CO_ru</td>\n",
       "      <td>[gCO/(kg*km)] CO emission rural</td>\n",
       "      <td>((share_mw*spec_CO2_mw)+(share_ru*spec_CO2_ru)...</td>\n",
       "      <td>1.63164574141596E-5</td>\n",
       "      <td>None</td>\n",
       "      <td>None</td>\n",
       "      <td>0</td>\n",
       "    </tr>\n",
       "    <tr>\n",
       "      <th>18</th>\n",
       "      <td>spec_CO_tot</td>\n",
       "      <td>[gCO/kg] CO emission weighted</td>\n",
       "      <td>237.988159179687/(payload*1000*utilisation)</td>\n",
       "      <td>0.00408539839600231</td>\n",
       "      <td>None</td>\n",
       "      <td>None</td>\n",
       "      <td>0</td>\n",
       "    </tr>\n",
       "    <tr>\n",
       "      <th>19</th>\n",
       "      <td>spec_CO_ur</td>\n",
       "      <td>[gCO/(kg*km)] CO emission urban</td>\n",
       "      <td>0.0824955291748047/(payload*1000*utilisation)</td>\n",
       "      <td>7.28936975493151E-5</td>\n",
       "      <td>None</td>\n",
       "      <td>None</td>\n",
       "      <td>0</td>\n",
       "    </tr>\n",
       "    <tr>\n",
       "      <th>20</th>\n",
       "      <td>spec_CO2_bio</td>\n",
       "      <td>[gCO2/kg] weighted CO2 emission, biogenic CO2 ...</td>\n",
       "      <td>0.0657824172973633/(payload*1000*utilisation)</td>\n",
       "      <td>1.16432140873928</td>\n",
       "      <td>None</td>\n",
       "      <td>None</td>\n",
       "      <td>0</td>\n",
       "    </tr>\n",
       "    <tr>\n",
       "      <th>21</th>\n",
       "      <td>spec_CO2_fos</td>\n",
       "      <td>[gCO2/kg] weighted CO2 emission, fossil CO2 sh...</td>\n",
       "      <td>((share_mw*spec_Diesel_mw)+(share_ru*spec_Dies...</td>\n",
       "      <td>22.1221067660462</td>\n",
       "      <td>None</td>\n",
       "      <td>None</td>\n",
       "      <td>0</td>\n",
       "    </tr>\n",
       "    <tr>\n",
       "      <th>22</th>\n",
       "      <td>spec_CO2_mw</td>\n",
       "      <td>[gCO2/(kg*km)] CO2 emission motorway</td>\n",
       "      <td>0.0748616409301758/(payload*1000*utilisation)</td>\n",
       "      <td>0.257114305683211</td>\n",
       "      <td>None</td>\n",
       "      <td>None</td>\n",
       "      <td>0</td>\n",
       "    </tr>\n",
       "    <tr>\n",
       "      <th>23</th>\n",
       "      <td>spec_CO2_ru</td>\n",
       "      <td>[gCO2/(kg*km)] CO2 emission rural</td>\n",
       "      <td>0.00408123154193163/(payload*1000*utilisation)</td>\n",
       "      <td>0.205024449965532</td>\n",
       "      <td>None</td>\n",
       "      <td>None</td>\n",
       "      <td>0</td>\n",
       "    </tr>\n",
       "    <tr>\n",
       "      <th>24</th>\n",
       "      <td>spec_CO2_tot</td>\n",
       "      <td>[gCO2/kg] CO2 emission weighted</td>\n",
       "      <td>0.00400000018998981/(payload*1000*utilisation)</td>\n",
       "      <td>23.2864281747855</td>\n",
       "      <td>None</td>\n",
       "      <td>None</td>\n",
       "      <td>0</td>\n",
       "    </tr>\n",
       "    <tr>\n",
       "      <th>25</th>\n",
       "      <td>spec_CO2_ur</td>\n",
       "      <td>[gCO2/(kg*km)] CO2 emission urban</td>\n",
       "      <td>((share_mw*spec_N2O_mw)+(share_ru*spec_N2O_ru)...</td>\n",
       "      <td>0.233321724685968</td>\n",
       "      <td>None</td>\n",
       "      <td>None</td>\n",
       "      <td>0</td>\n",
       "    </tr>\n",
       "    <tr>\n",
       "      <th>26</th>\n",
       "      <td>spec_diesel_mw</td>\n",
       "      <td>[kgdiesel/(kg*km)] diesel consumption motorway</td>\n",
       "      <td>0.00587804988026619/(payload*1000*utilisation)</td>\n",
       "      <td>8.08779697792203E-5</td>\n",
       "      <td>None</td>\n",
       "      <td>None</td>\n",
       "      <td>0</td>\n",
       "    </tr>\n",
       "    <tr>\n",
       "      <th>27</th>\n",
       "      <td>spec_diesel_ru</td>\n",
       "      <td>[kgdiesel/(kg*km)] diesel consumption rural</td>\n",
       "      <td>0.00100000004749745/(payload*1000*utilisation)</td>\n",
       "      <td>6.44925659778071E-5</td>\n",
       "      <td>None</td>\n",
       "      <td>None</td>\n",
       "      <td>0</td>\n",
       "    </tr>\n",
       "    <tr>\n",
       "      <th>28</th>\n",
       "      <td>spec_diesel_tot</td>\n",
       "      <td>[kgdiesel/kg] diesel consumption weighted</td>\n",
       "      <td>0.00100000004749745/(payload*1000*utilisation)</td>\n",
       "      <td>0.00732498729182225</td>\n",
       "      <td>None</td>\n",
       "      <td>None</td>\n",
       "      <td>0</td>\n",
       "    </tr>\n",
       "    <tr>\n",
       "      <th>29</th>\n",
       "      <td>spec_diesel_ur</td>\n",
       "      <td>[kgdiesel/(kg*km)] diesel consumption urban</td>\n",
       "      <td>((share_mw*spec_NH3_mw)+(share_ru*spec_NH3_ru)...</td>\n",
       "      <td>7.33937656178194E-5</td>\n",
       "      <td>None</td>\n",
       "      <td>None</td>\n",
       "      <td>0</td>\n",
       "    </tr>\n",
       "    <tr>\n",
       "      <th>30</th>\n",
       "      <td>spec_N2O_mw</td>\n",
       "      <td>[gN2O/(kg*km)] N2O emission motorway</td>\n",
       "      <td>0.00100000004749745/(payload*1000*utilisation)</td>\n",
       "      <td>4.00120739405062E-6</td>\n",
       "      <td>None</td>\n",
       "      <td>None</td>\n",
       "      <td>0</td>\n",
       "    </tr>\n",
       "    <tr>\n",
       "      <th>31</th>\n",
       "      <td>spec_N2O_ru</td>\n",
       "      <td>[gN2O/(kg*km)] N2O emission rural</td>\n",
       "      <td>0.0105176325887442/(payload*1000*utilisation)</td>\n",
       "      <td>3.9215688137155E-6</td>\n",
       "      <td>None</td>\n",
       "      <td>None</td>\n",
       "      <td>0</td>\n",
       "    </tr>\n",
       "    <tr>\n",
       "      <th>32</th>\n",
       "      <td>spec_N2O_tot</td>\n",
       "      <td>[gN2O/kg] N2O emission weighted</td>\n",
       "      <td>0.00927872769534588/(payload*1000*utilisation)</td>\n",
       "      <td>0.000477321533595815</td>\n",
       "      <td>None</td>\n",
       "      <td>None</td>\n",
       "      <td>0</td>\n",
       "    </tr>\n",
       "    <tr>\n",
       "      <th>33</th>\n",
       "      <td>spec_N2O_ur</td>\n",
       "      <td>[gN2O/(kg*km)] N2O emission urban</td>\n",
       "      <td>((share_mw*spec_NMVOC_mw)+(share_ru*spec_NMVOC...</td>\n",
       "      <td>5.76279400026097E-6</td>\n",
       "      <td>None</td>\n",
       "      <td>None</td>\n",
       "      <td>0</td>\n",
       "    </tr>\n",
       "    <tr>\n",
       "      <th>34</th>\n",
       "      <td>spec_NH3_mw</td>\n",
       "      <td>[gNH3/(kg*km)] NH3 emission motorway</td>\n",
       "      <td>0.0125124594196677/(payload*1000*utilisation)</td>\n",
       "      <td>9.80392203428873E-7</td>\n",
       "      <td>None</td>\n",
       "      <td>None</td>\n",
       "      <td>0</td>\n",
       "    </tr>\n",
       "    <tr>\n",
       "      <th>35</th>\n",
       "      <td>spec_NH3_ru</td>\n",
       "      <td>[gNH3/(kg*km)] NH3 emission rural</td>\n",
       "      <td>1.21343547105789/(payload*1000*utilisation)</td>\n",
       "      <td>9.80392203428873E-7</td>\n",
       "      <td>None</td>\n",
       "      <td>None</td>\n",
       "      <td>0</td>\n",
       "    </tr>\n",
       "    <tr>\n",
       "      <th>36</th>\n",
       "      <td>spec_NH3_tot</td>\n",
       "      <td>[gNH3/kg] NH3 emission weighted</td>\n",
       "      <td>0.799300700426101/(payload*1000*utilisation)</td>\n",
       "      <td>9.80392203428873E-5</td>\n",
       "      <td>None</td>\n",
       "      <td>None</td>\n",
       "      <td>0</td>\n",
       "    </tr>\n",
       "    <tr>\n",
       "      <th>37</th>\n",
       "      <td>spec_NH3_ur</td>\n",
       "      <td>[gNH3/(kg*km)] NH3 emission urban</td>\n",
       "      <td>((share_mw*spec_NO_mw)+(share_ru*spec_NO_ru)+(...</td>\n",
       "      <td>9.80392203428873E-7</td>\n",
       "      <td>None</td>\n",
       "      <td>None</td>\n",
       "      <td>0</td>\n",
       "    </tr>\n",
       "    <tr>\n",
       "      <th>38</th>\n",
       "      <td>spec_NMVOC_mw</td>\n",
       "      <td>[gNMVOC/(kg*km)] NMVOC emission motorway (with...</td>\n",
       "      <td>0.765186965465545/(payload*1000*utilisation)</td>\n",
       "      <td>1.03114044987688E-5</td>\n",
       "      <td>None</td>\n",
       "      <td>None</td>\n",
       "      <td>0</td>\n",
       "    </tr>\n",
       "    <tr>\n",
       "      <th>39</th>\n",
       "      <td>spec_NMVOC_ru</td>\n",
       "      <td>[gNMVOC/(kg*km)] NMVOC emission rural (without...</td>\n",
       "      <td>0.653388321399688/(payload*1000*utilisation)</td>\n",
       "      <td>9.09679185818224E-6</td>\n",
       "      <td>None</td>\n",
       "      <td>None</td>\n",
       "      <td>0</td>\n",
       "    </tr>\n",
       "    <tr>\n",
       "      <th>40</th>\n",
       "      <td>spec_NMVOC_tot</td>\n",
       "      <td>[gNMVOC/kg] NMVOC emission weighted (without b...</td>\n",
       "      <td>0.43039271235466/(payload*1000*utilisation)</td>\n",
       "      <td>0.00108756758729179</td>\n",
       "      <td>None</td>\n",
       "      <td>None</td>\n",
       "      <td>0</td>\n",
       "    </tr>\n",
       "    <tr>\n",
       "      <th>41</th>\n",
       "      <td>spec_NMVOC_ur</td>\n",
       "      <td>[gNMVOC/(kg*km)] NMVOC emission urban (without...</td>\n",
       "      <td>((share_mw*spec_NO2_mw)+(share_ru*spec_NO2_ru)...</td>\n",
       "      <td>1.22671170781056E-5</td>\n",
       "      <td>None</td>\n",
       "      <td>None</td>\n",
       "      <td>0</td>\n",
       "    </tr>\n",
       "    <tr>\n",
       "      <th>42</th>\n",
       "      <td>spec_NO_mw</td>\n",
       "      <td>[gNO/(kg*km)] NO emission motorway</td>\n",
       "      <td>0.412023723125458/(payload*1000*utilisation)</td>\n",
       "      <td>0.00118964261868421</td>\n",
       "      <td>None</td>\n",
       "      <td>None</td>\n",
       "      <td>0</td>\n",
       "    </tr>\n",
       "    <tr>\n",
       "      <th>43</th>\n",
       "      <td>spec_NO_ru</td>\n",
       "      <td>[gNO/(kg*km)] NO emission rural</td>\n",
       "      <td>0.0743760317564011/(payload*1000*utilisation)</td>\n",
       "      <td>0.000783628137672648</td>\n",
       "      <td>None</td>\n",
       "      <td>None</td>\n",
       "      <td>0</td>\n",
       "    </tr>\n",
       "    <tr>\n",
       "      <th>44</th>\n",
       "      <td>spec_NO_tot</td>\n",
       "      <td>[gNO/kg] NO emission weighted</td>\n",
       "      <td>0.0549608767032623/(payload*1000*utilisation)</td>\n",
       "      <td>0.0886322159977519</td>\n",
       "      <td>None</td>\n",
       "      <td>None</td>\n",
       "      <td>0</td>\n",
       "    </tr>\n",
       "    <tr>\n",
       "      <th>45</th>\n",
       "      <td>spec_NO_ur</td>\n",
       "      <td>[gNO/(kg*km)] NO emission urban</td>\n",
       "      <td>((share_mw*spec_Part_mw)+(share_ru*spec_Part_r...</td>\n",
       "      <td>0.000750183299476024</td>\n",
       "      <td>None</td>\n",
       "      <td>None</td>\n",
       "      <td>0</td>\n",
       "    </tr>\n",
       "    <tr>\n",
       "      <th>46</th>\n",
       "      <td>spec_NO2_mw</td>\n",
       "      <td>[gNO2/(kg*km)] NO2 emissions motorway</td>\n",
       "      <td>0.0549034737050533/(payload*1000*utilisation)</td>\n",
       "      <td>0.000640576785685969</td>\n",
       "      <td>None</td>\n",
       "      <td>None</td>\n",
       "      <td>0</td>\n",
       "    </tr>\n",
       "    <tr>\n",
       "      <th>47</th>\n",
       "      <td>spec_NO2_ru</td>\n",
       "      <td>[gNO2/(kg*km)] NO2 emissions rural</td>\n",
       "      <td>(ppm_sulfur/1000000)*2*spec_diesel_mw</td>\n",
       "      <td>0.000421953639563392</td>\n",
       "      <td>None</td>\n",
       "      <td>None</td>\n",
       "      <td>0</td>\n",
       "    </tr>\n",
       "    <tr>\n",
       "      <th>48</th>\n",
       "      <td>spec_NO2_tot</td>\n",
       "      <td>[gNO2/kg] NO2 emissions weighted</td>\n",
       "      <td>(ppm_sulfur/1000000)*2*spec_diesel_ru</td>\n",
       "      <td>0.0477250386102527</td>\n",
       "      <td>None</td>\n",
       "      <td>None</td>\n",
       "      <td>0</td>\n",
       "    </tr>\n",
       "    <tr>\n",
       "      <th>49</th>\n",
       "      <td>spec_NO2_ur</td>\n",
       "      <td>[gNO2/(kg*km)] NO2 emissions urban</td>\n",
       "      <td>((share_mw*spec_SO2_mw)+(share_ru*spec_SO2_ru)...</td>\n",
       "      <td>0.000403944826593586</td>\n",
       "      <td>None</td>\n",
       "      <td>None</td>\n",
       "      <td>0</td>\n",
       "    </tr>\n",
       "    <tr>\n",
       "      <th>50</th>\n",
       "      <td>spec_part_mw</td>\n",
       "      <td>[gparticle/(kg*km)] particle emission motorway</td>\n",
       "      <td>(ppm_sulfur/1000000)*2*spec_diesel_ur</td>\n",
       "      <td>7.29176781925501E-5</td>\n",
       "      <td>None</td>\n",
       "      <td>None</td>\n",
       "      <td>0</td>\n",
       "    </tr>\n",
       "    <tr>\n",
       "      <th>51</th>\n",
       "      <td>spec_part_ru</td>\n",
       "      <td>[gparticle/(kg*km)] particle emission rural</td>\n",
       "      <td>None</td>\n",
       "      <td>5.38832124541787E-5</td>\n",
       "      <td>None</td>\n",
       "      <td>None</td>\n",
       "      <td>0</td>\n",
       "    </tr>\n",
       "    <tr>\n",
       "      <th>52</th>\n",
       "      <td>spec_part_tot</td>\n",
       "      <td>[gparticle/kg] particle emission weighted</td>\n",
       "      <td>None</td>\n",
       "      <td>0.00593778826661554</td>\n",
       "      <td>None</td>\n",
       "      <td>None</td>\n",
       "      <td>0</td>\n",
       "    </tr>\n",
       "    <tr>\n",
       "      <th>53</th>\n",
       "      <td>spec_part_ur</td>\n",
       "      <td>[gparticle/(kg*km)] particle emission urban</td>\n",
       "      <td>None</td>\n",
       "      <td>5.38269350049542E-5</td>\n",
       "      <td>None</td>\n",
       "      <td>None</td>\n",
       "      <td>0</td>\n",
       "    </tr>\n",
       "    <tr>\n",
       "      <th>54</th>\n",
       "      <td>spec_SO2_mw</td>\n",
       "      <td>[kgSO2/(kg*km)] SO2 emission motorway</td>\n",
       "      <td>None</td>\n",
       "      <td>1.61755939558441E-9</td>\n",
       "      <td>None</td>\n",
       "      <td>None</td>\n",
       "      <td>0</td>\n",
       "    </tr>\n",
       "    <tr>\n",
       "      <th>55</th>\n",
       "      <td>spec_SO2_ru</td>\n",
       "      <td>[kgSO2/(kg*km)] SO2 emission rural</td>\n",
       "      <td>None</td>\n",
       "      <td>1.28985131955614E-9</td>\n",
       "      <td>None</td>\n",
       "      <td>None</td>\n",
       "      <td>0</td>\n",
       "    </tr>\n",
       "    <tr>\n",
       "      <th>56</th>\n",
       "      <td>spec_SO2_tot</td>\n",
       "      <td>[kgSO2/kg] SO2 emission weighted</td>\n",
       "      <td>None</td>\n",
       "      <td>1.46499745836445E-7</td>\n",
       "      <td>None</td>\n",
       "      <td>None</td>\n",
       "      <td>0</td>\n",
       "    </tr>\n",
       "    <tr>\n",
       "      <th>57</th>\n",
       "      <td>spec_SO2_ur</td>\n",
       "      <td>[kgSO2/(kg*km)] SO2 emission urban</td>\n",
       "      <td>None</td>\n",
       "      <td>1.46787531235639E-9</td>\n",
       "      <td>None</td>\n",
       "      <td>None</td>\n",
       "      <td>0</td>\n",
       "    </tr>\n",
       "    <tr>\n",
       "      <th>58</th>\n",
       "      <td>utilisation</td>\n",
       "      <td>[-] utilisation by mass, default = 0,85</td>\n",
       "      <td>None</td>\n",
       "      <td>0.85</td>\n",
       "      <td>None</td>\n",
       "      <td>None</td>\n",
       "      <td>0</td>\n",
       "    </tr>\n",
       "  </tbody>\n",
       "</table>\n",
       "</div>"
      ],
      "text/plain": [
       "               name                                            comment  \\\n",
       "0          distance        [km] distance start - end, default = 100 km   \n",
       "1           payload                                [t] default = 1,2 t   \n",
       "2        ppm_sulfur  [ppm] sulphur content in diesel, default Europ...   \n",
       "3       share_check                            Check - value must be 1   \n",
       "4     share_CO2_bio                    [-] share of biogenic C in fuel   \n",
       "5          share_mw        [-] driving share motorway , default = 0,29   \n",
       "6          share_ru           [-] driving share rural , default = 0,26   \n",
       "7          share_ur           [-] driving share urban , default = 0,45   \n",
       "8   spec_benzene_mw       [gbenzene/(kg*km)] benzene emission motorway   \n",
       "9   spec_benzene_ru          [gbenzene/(kg*km)] benzene emission rural   \n",
       "10  spec_benzene_to            [gbenzene/kg] benzene emission weighted   \n",
       "11  spec_benzene_ur          [gbenzene/(kg*km)] benzene emission urban   \n",
       "12      spec_CH4_mw               [gCH4/(kg*km)] CH4 emission motorway   \n",
       "13      spec_CH4_ru                  [gCH4/(kg*km)] CH4 emission rural   \n",
       "14     spec_CH4_tot                    [gCH4/kg] CH4 emission weighted   \n",
       "15      spec_CH4_ur                  [gCH4/(kg*km)] CH4 emission urban   \n",
       "16       spec_CO_mw                 [gCO/(kg*km)] CO emission motorway   \n",
       "17       spec_CO_ru                    [gCO/(kg*km)] CO emission rural   \n",
       "18      spec_CO_tot                      [gCO/kg] CO emission weighted   \n",
       "19       spec_CO_ur                    [gCO/(kg*km)] CO emission urban   \n",
       "20     spec_CO2_bio  [gCO2/kg] weighted CO2 emission, biogenic CO2 ...   \n",
       "21     spec_CO2_fos  [gCO2/kg] weighted CO2 emission, fossil CO2 sh...   \n",
       "22      spec_CO2_mw               [gCO2/(kg*km)] CO2 emission motorway   \n",
       "23      spec_CO2_ru                  [gCO2/(kg*km)] CO2 emission rural   \n",
       "24     spec_CO2_tot                    [gCO2/kg] CO2 emission weighted   \n",
       "25      spec_CO2_ur                  [gCO2/(kg*km)] CO2 emission urban   \n",
       "26   spec_diesel_mw     [kgdiesel/(kg*km)] diesel consumption motorway   \n",
       "27   spec_diesel_ru        [kgdiesel/(kg*km)] diesel consumption rural   \n",
       "28  spec_diesel_tot          [kgdiesel/kg] diesel consumption weighted   \n",
       "29   spec_diesel_ur        [kgdiesel/(kg*km)] diesel consumption urban   \n",
       "30      spec_N2O_mw               [gN2O/(kg*km)] N2O emission motorway   \n",
       "31      spec_N2O_ru                  [gN2O/(kg*km)] N2O emission rural   \n",
       "32     spec_N2O_tot                    [gN2O/kg] N2O emission weighted   \n",
       "33      spec_N2O_ur                  [gN2O/(kg*km)] N2O emission urban   \n",
       "34      spec_NH3_mw               [gNH3/(kg*km)] NH3 emission motorway   \n",
       "35      spec_NH3_ru                  [gNH3/(kg*km)] NH3 emission rural   \n",
       "36     spec_NH3_tot                    [gNH3/kg] NH3 emission weighted   \n",
       "37      spec_NH3_ur                  [gNH3/(kg*km)] NH3 emission urban   \n",
       "38    spec_NMVOC_mw  [gNMVOC/(kg*km)] NMVOC emission motorway (with...   \n",
       "39    spec_NMVOC_ru  [gNMVOC/(kg*km)] NMVOC emission rural (without...   \n",
       "40   spec_NMVOC_tot  [gNMVOC/kg] NMVOC emission weighted (without b...   \n",
       "41    spec_NMVOC_ur  [gNMVOC/(kg*km)] NMVOC emission urban (without...   \n",
       "42       spec_NO_mw                 [gNO/(kg*km)] NO emission motorway   \n",
       "43       spec_NO_ru                    [gNO/(kg*km)] NO emission rural   \n",
       "44      spec_NO_tot                      [gNO/kg] NO emission weighted   \n",
       "45       spec_NO_ur                    [gNO/(kg*km)] NO emission urban   \n",
       "46      spec_NO2_mw              [gNO2/(kg*km)] NO2 emissions motorway   \n",
       "47      spec_NO2_ru                 [gNO2/(kg*km)] NO2 emissions rural   \n",
       "48     spec_NO2_tot                   [gNO2/kg] NO2 emissions weighted   \n",
       "49      spec_NO2_ur                 [gNO2/(kg*km)] NO2 emissions urban   \n",
       "50     spec_part_mw     [gparticle/(kg*km)] particle emission motorway   \n",
       "51     spec_part_ru        [gparticle/(kg*km)] particle emission rural   \n",
       "52    spec_part_tot          [gparticle/kg] particle emission weighted   \n",
       "53     spec_part_ur        [gparticle/(kg*km)] particle emission urban   \n",
       "54      spec_SO2_mw              [kgSO2/(kg*km)] SO2 emission motorway   \n",
       "55      spec_SO2_ru                 [kgSO2/(kg*km)] SO2 emission rural   \n",
       "56     spec_SO2_tot                   [kgSO2/kg] SO2 emission weighted   \n",
       "57      spec_SO2_ur                 [kgSO2/(kg*km)] SO2 emission urban   \n",
       "58      utilisation            [-] utilisation by mass, default = 0,85   \n",
       "\n",
       "                                              formula                  mean  \\\n",
       "0                          share_mw+share_ru+share_ur                   100   \n",
       "1     0.000179963579284959/(payload*1000*utilisation)                   1.2   \n",
       "2     0.000158765105879866/(payload*1000*utilisation)                    10   \n",
       "3   ((share_mw*spec_benzene_mw)+(share_ru*spec_ben...                     1   \n",
       "4     0.000214096377021633/(payload*1000*utilisation)                  0.05   \n",
       "5      0.00025863031623885/(payload*1000*utilisation)                  0.29   \n",
       "6     0.000228165430598892/(payload*1000*utilisation)                  0.26   \n",
       "7   ((share_mw*spec_CH4_mw)+(share_ru*spec_CH4_ru)...                  0.45   \n",
       "8     0.000307683425489813/(payload*1000*utilisation)   1.76434881651921E-7   \n",
       "9       0.0133990757167339/(payload*1000*utilisation)   1.55652064588104E-7   \n",
       "10      0.0166427865624428/(payload*1000*utilisation)   1.86089936452096E-5   \n",
       "11  ((share_mw*spec_CO_mw)+(share_ru*spec_CO_ru)+(...   2.09898408844738E-7   \n",
       "12      0.0743515715003014/(payload*1000*utilisation)     2.535591335675E-7   \n",
       "13                         spec_CO2_tot*share_CO2_bio   2.23691598626365E-7   \n",
       "14                     spec_CO2_tot*(1-share_CO2_bio)   2.67434652093524E-5   \n",
       "15        262.256591796875/(payload*1000*utilisation)   3.01650417146875E-7   \n",
       "16        209.124938964843/(payload*1000*utilisation)    1.3136348741896E-5   \n",
       "17  ((share_mw*spec_CO2_mw)+(share_ru*spec_CO2_ru)...   1.63164574141596E-5   \n",
       "18        237.988159179687/(payload*1000*utilisation)   0.00408539839600231   \n",
       "19      0.0824955291748047/(payload*1000*utilisation)   7.28936975493151E-5   \n",
       "20      0.0657824172973633/(payload*1000*utilisation)      1.16432140873928   \n",
       "21  ((share_mw*spec_Diesel_mw)+(share_ru*spec_Dies...      22.1221067660462   \n",
       "22      0.0748616409301758/(payload*1000*utilisation)     0.257114305683211   \n",
       "23     0.00408123154193163/(payload*1000*utilisation)     0.205024449965532   \n",
       "24     0.00400000018998981/(payload*1000*utilisation)      23.2864281747855   \n",
       "25  ((share_mw*spec_N2O_mw)+(share_ru*spec_N2O_ru)...     0.233321724685968   \n",
       "26     0.00587804988026619/(payload*1000*utilisation)   8.08779697792203E-5   \n",
       "27     0.00100000004749745/(payload*1000*utilisation)   6.44925659778071E-5   \n",
       "28     0.00100000004749745/(payload*1000*utilisation)   0.00732498729182225   \n",
       "29  ((share_mw*spec_NH3_mw)+(share_ru*spec_NH3_ru)...   7.33937656178194E-5   \n",
       "30     0.00100000004749745/(payload*1000*utilisation)   4.00120739405062E-6   \n",
       "31      0.0105176325887442/(payload*1000*utilisation)    3.9215688137155E-6   \n",
       "32     0.00927872769534588/(payload*1000*utilisation)  0.000477321533595815   \n",
       "33  ((share_mw*spec_NMVOC_mw)+(share_ru*spec_NMVOC...   5.76279400026097E-6   \n",
       "34      0.0125124594196677/(payload*1000*utilisation)   9.80392203428873E-7   \n",
       "35        1.21343547105789/(payload*1000*utilisation)   9.80392203428873E-7   \n",
       "36       0.799300700426101/(payload*1000*utilisation)   9.80392203428873E-5   \n",
       "37  ((share_mw*spec_NO_mw)+(share_ru*spec_NO_ru)+(...   9.80392203428873E-7   \n",
       "38       0.765186965465545/(payload*1000*utilisation)   1.03114044987688E-5   \n",
       "39       0.653388321399688/(payload*1000*utilisation)   9.09679185818224E-6   \n",
       "40        0.43039271235466/(payload*1000*utilisation)   0.00108756758729179   \n",
       "41  ((share_mw*spec_NO2_mw)+(share_ru*spec_NO2_ru)...   1.22671170781056E-5   \n",
       "42       0.412023723125458/(payload*1000*utilisation)   0.00118964261868421   \n",
       "43      0.0743760317564011/(payload*1000*utilisation)  0.000783628137672648   \n",
       "44      0.0549608767032623/(payload*1000*utilisation)    0.0886322159977519   \n",
       "45  ((share_mw*spec_Part_mw)+(share_ru*spec_Part_r...  0.000750183299476024   \n",
       "46      0.0549034737050533/(payload*1000*utilisation)  0.000640576785685969   \n",
       "47              (ppm_sulfur/1000000)*2*spec_diesel_mw  0.000421953639563392   \n",
       "48              (ppm_sulfur/1000000)*2*spec_diesel_ru    0.0477250386102527   \n",
       "49  ((share_mw*spec_SO2_mw)+(share_ru*spec_SO2_ru)...  0.000403944826593586   \n",
       "50              (ppm_sulfur/1000000)*2*spec_diesel_ur   7.29176781925501E-5   \n",
       "51                                               None   5.38832124541787E-5   \n",
       "52                                               None   0.00593778826661554   \n",
       "53                                               None   5.38269350049542E-5   \n",
       "54                                               None   1.61755939558441E-9   \n",
       "55                                               None   1.28985131955614E-9   \n",
       "56                                               None   1.46499745836445E-7   \n",
       "57                                               None   1.46787531235639E-9   \n",
       "58                                               None                  0.85   \n",
       "\n",
       "   minimum maximum std  \n",
       "0      0.8     1.5   0  \n",
       "1        0    2000   0  \n",
       "2        0       1   0  \n",
       "3        0       1   0  \n",
       "4        0       1   0  \n",
       "5        0       1   0  \n",
       "6        0       1   0  \n",
       "7     None    None   0  \n",
       "8     None    None   0  \n",
       "9     None    None   0  \n",
       "10    None    None   0  \n",
       "11    None    None   0  \n",
       "12    None    None   0  \n",
       "13    None    None   0  \n",
       "14    None    None   0  \n",
       "15    None    None   0  \n",
       "16    None    None   0  \n",
       "17    None    None   0  \n",
       "18    None    None   0  \n",
       "19    None    None   0  \n",
       "20    None    None   0  \n",
       "21    None    None   0  \n",
       "22    None    None   0  \n",
       "23    None    None   0  \n",
       "24    None    None   0  \n",
       "25    None    None   0  \n",
       "26    None    None   0  \n",
       "27    None    None   0  \n",
       "28    None    None   0  \n",
       "29    None    None   0  \n",
       "30    None    None   0  \n",
       "31    None    None   0  \n",
       "32    None    None   0  \n",
       "33    None    None   0  \n",
       "34    None    None   0  \n",
       "35    None    None   0  \n",
       "36    None    None   0  \n",
       "37    None    None   0  \n",
       "38    None    None   0  \n",
       "39    None    None   0  \n",
       "40    None    None   0  \n",
       "41    None    None   0  \n",
       "42    None    None   0  \n",
       "43    None    None   0  \n",
       "44    None    None   0  \n",
       "45    None    None   0  \n",
       "46    None    None   0  \n",
       "47    None    None   0  \n",
       "48    None    None   0  \n",
       "49    None    None   0  \n",
       "50    None    None   0  \n",
       "51    None    None   0  \n",
       "52    None    None   0  \n",
       "53    None    None   0  \n",
       "54    None    None   0  \n",
       "55    None    None   0  \n",
       "56    None    None   0  \n",
       "57    None    None   0  \n",
       "58    None    None   0  "
      ]
     },
     "execution_count": 20,
     "metadata": {},
     "output_type": "execute_result"
    }
   ],
   "source": [
    "pd.DataFrame(glad_example['parameters']) # not yet linked to exchanges"
   ]
  },
  {
   "cell_type": "code",
   "execution_count": 21,
   "metadata": {},
   "outputs": [
    {
     "data": {
      "text/html": [
       "<div>\n",
       "<style scoped>\n",
       "    .dataframe tbody tr th:only-of-type {\n",
       "        vertical-align: middle;\n",
       "    }\n",
       "\n",
       "    .dataframe tbody tr th {\n",
       "        vertical-align: top;\n",
       "    }\n",
       "\n",
       "    .dataframe thead th {\n",
       "        text-align: right;\n",
       "    }\n",
       "</style>\n",
       "<table border=\"1\" class=\"dataframe\">\n",
       "  <thead>\n",
       "    <tr style=\"text-align: right;\">\n",
       "      <th></th>\n",
       "      <th>email</th>\n",
       "      <th>website</th>\n",
       "      <th>short_name</th>\n",
       "    </tr>\n",
       "  </thead>\n",
       "  <tbody>\n",
       "    <tr>\n",
       "      <th>0</th>\n",
       "      <td>None</td>\n",
       "      <td>None</td>\n",
       "      <td>GaBi user community</td>\n",
       "    </tr>\n",
       "    <tr>\n",
       "      <th>1</th>\n",
       "      <td>None</td>\n",
       "      <td>None</td>\n",
       "      <td>thinkstep</td>\n",
       "    </tr>\n",
       "    <tr>\n",
       "      <th>2</th>\n",
       "      <td>info@thinkstep.com</td>\n",
       "      <td>http://www.thinkstep.com</td>\n",
       "      <td>GaBi bug forum</td>\n",
       "    </tr>\n",
       "    <tr>\n",
       "      <th>3</th>\n",
       "      <td>info@thinkstep.com</td>\n",
       "      <td>http://www.thinkstep.com</td>\n",
       "      <td>GaBi user forum</td>\n",
       "    </tr>\n",
       "    <tr>\n",
       "      <th>4</th>\n",
       "      <td>None</td>\n",
       "      <td>None</td>\n",
       "      <td>No official approval by producer or operator</td>\n",
       "    </tr>\n",
       "    <tr>\n",
       "      <th>5</th>\n",
       "      <td>gabi@ibp.fraunhofer.de</td>\n",
       "      <td>http://www.ibp.fraunhofer.de/en/Expertise/Life...</td>\n",
       "      <td>IBP-GaBi</td>\n",
       "    </tr>\n",
       "    <tr>\n",
       "      <th>6</th>\n",
       "      <td>unep.tie@unep.org</td>\n",
       "      <td>www.lcinitiative.unep.fr</td>\n",
       "      <td>UNEP SETAC Life Cycle Initiative</td>\n",
       "    </tr>\n",
       "    <tr>\n",
       "      <th>7</th>\n",
       "      <td>IES-contact@jrc.ec.europa.eu</td>\n",
       "      <td>http://ies.jrc.ec.europa.eu</td>\n",
       "      <td>European Commission, JRC-IES</td>\n",
       "    </tr>\n",
       "    <tr>\n",
       "      <th>8</th>\n",
       "      <td>info@thinkstep.com</td>\n",
       "      <td>http://www.thinkstep.com</td>\n",
       "      <td>thinkstep</td>\n",
       "    </tr>\n",
       "    <tr>\n",
       "      <th>9</th>\n",
       "      <td>gabi@lbp-gabi.de</td>\n",
       "      <td>http://www.LBPGABI.uni-stuttgart.de</td>\n",
       "      <td>IABP-GaBi</td>\n",
       "    </tr>\n",
       "  </tbody>\n",
       "</table>\n",
       "</div>"
      ],
      "text/plain": [
       "                          email  \\\n",
       "0                          None   \n",
       "1                          None   \n",
       "2            info@thinkstep.com   \n",
       "3            info@thinkstep.com   \n",
       "4                          None   \n",
       "5        gabi@ibp.fraunhofer.de   \n",
       "6             unep.tie@unep.org   \n",
       "7  IES-contact@jrc.ec.europa.eu   \n",
       "8            info@thinkstep.com   \n",
       "9              gabi@lbp-gabi.de   \n",
       "\n",
       "                                             website  \\\n",
       "0                                               None   \n",
       "1                                               None   \n",
       "2                           http://www.thinkstep.com   \n",
       "3                           http://www.thinkstep.com   \n",
       "4                                               None   \n",
       "5  http://www.ibp.fraunhofer.de/en/Expertise/Life...   \n",
       "6                           www.lcinitiative.unep.fr   \n",
       "7                        http://ies.jrc.ec.europa.eu   \n",
       "8                           http://www.thinkstep.com   \n",
       "9                http://www.LBPGABI.uni-stuttgart.de   \n",
       "\n",
       "                                     short_name  \n",
       "0                           GaBi user community  \n",
       "1                                     thinkstep  \n",
       "2                                GaBi bug forum  \n",
       "3                               GaBi user forum  \n",
       "4  No official approval by producer or operator  \n",
       "5                                      IBP-GaBi  \n",
       "6              UNEP SETAC Life Cycle Initiative  \n",
       "7                  European Commission, JRC-IES  \n",
       "8                                     thinkstep  \n",
       "9                                     IABP-GaBi  "
      ]
     },
     "execution_count": 21,
     "metadata": {},
     "output_type": "execute_result"
    }
   ],
   "source": [
    "# contacts are available too\n",
    "pd.DataFrame(glad_example['contacts'])"
   ]
  },
  {
   "cell_type": "code",
   "execution_count": 22,
   "metadata": {},
   "outputs": [
    {
     "data": {
      "text/plain": [
       "'- average emission values Euro 3\\n- source emissions/driving share: HBEFA 3.1, status January 2010\\n- input parameter: distance [km], payload [t], utilisation [-], sulphur content diesel [ppm], driving share motorway/rural/urban\\n- average sulphur content: EU = 10 ppm'"
      ]
     },
     "execution_count": 22,
     "metadata": {},
     "output_type": "execute_result"
    }
   ],
   "source": [
    "glad_example['general_comment']"
   ]
  },
  {
   "cell_type": "code",
   "execution_count": 23,
   "metadata": {},
   "outputs": [
    {
     "data": {
      "text/plain": [
       "'Other'"
      ]
     },
     "execution_count": 23,
     "metadata": {},
     "output_type": "execute_result"
    }
   ],
   "source": [
    "glad_example.get('licensetype')"
   ]
  },
  {
   "cell_type": "code",
   "execution_count": 24,
   "metadata": {},
   "outputs": [
    {
     "data": {
      "text/plain": [
       "'ILCD format 1.1'"
      ]
     },
     "execution_count": 24,
     "metadata": {},
     "output_type": "execute_result"
    }
   ],
   "source": [
    "glad_example.get('dataset_format')"
   ]
  },
  {
   "attachments": {},
   "cell_type": "markdown",
   "metadata": {},
   "source": [
    "that may explain the problems with linking."
   ]
  },
  {
   "attachments": {},
   "cell_type": "markdown",
   "metadata": {},
   "source": [
    "### test the LCA object"
   ]
  },
  {
   "cell_type": "code",
   "execution_count": 25,
   "metadata": {},
   "outputs": [
    {
     "data": {
      "text/plain": [
       "-0.0008142366941782204"
      ]
     },
     "execution_count": 25,
     "metadata": {},
     "output_type": "execute_result"
    }
   ],
   "source": [
    "lca = bw2calc.LCA({glad_example:1},gwp100)\n",
    "lca.lci()\n",
    "lca.lcia()\n",
    "lca.score"
   ]
  },
  {
   "attachments": {},
   "cell_type": "markdown",
   "metadata": {},
   "source": [
    "## 2 ) lcacommons - ilcd file with a single process\n",
    "\n",
    "Another source of ilcd files\n",
    "\n",
    "from https://www.lcacommons.gov/"
   ]
  },
  {
   "cell_type": "code",
   "execution_count": 8,
   "metadata": {},
   "outputs": [],
   "source": [
    "# coal extraction and processing - Northern Appalachia, WC, Underground\n",
    "path_to_example = Path('bw2io/data/examples/ilcd_examples/f29030e5-f681-31ae-9be8-d47f905cb0cb_3281fd83-15b3-4183-997d-dda9ea50dacd.zip')\n",
    "lcacommons = ILCDImporter(dirpath= path_to_example,dbname='example_ilcd_lcacommons')\n"
   ]
  },
  {
   "cell_type": "code",
   "execution_count": 9,
   "metadata": {},
   "outputs": [
    {
     "name": "stdout",
     "output_type": "stream",
     "text": [
      "Applying strategy: rename_activity_keys\n",
      "Applying strategy: get_activity_unit\n",
      "Applying strategy: set_production_exchange\n",
      "Applying strategy: convert_to_default_units\n",
      "Applying strategy: assign_only_product_as_production\n",
      "Applying strategy: map_to_biosphere3\n",
      "Applying strategy: set_default_location\n",
      "Applying strategy: set_activity_parameters\n",
      "Applied 8 strategies in 0.03 seconds\n"
     ]
    }
   ],
   "source": [
    "lcacommons.apply_strategies()"
   ]
  },
  {
   "cell_type": "code",
   "execution_count": 10,
   "metadata": {},
   "outputs": [
    {
     "name": "stdout",
     "output_type": "stream",
     "text": [
      "Applying strategy: link_iterable_by_fields\n",
      "Applying strategy: link_iterable_by_fields\n",
      "1 datasets\n",
      "2128 exchanges\n",
      "2127 unlinked exchanges\n",
      "  Type biosphere: 1135 unique unlinked exchanges\n",
      "  Type technosphere: 103 unique unlinked exchanges\n"
     ]
    },
    {
     "data": {
      "text/plain": [
       "(1, 2128, 2127)"
      ]
     },
     "execution_count": 10,
     "metadata": {},
     "output_type": "execute_result"
    }
   ],
   "source": [
    "lcacommons.match_database('biosphere3',fields=['database','code'])\n",
    "lcacommons.match_database(fields=['database','code',])\n",
    "lcacommons.statistics()"
   ]
  },
  {
   "cell_type": "markdown",
   "metadata": {},
   "source": [
    "Instead of using the ilcd to ecoinvent 3.7 mapping, lets use the `FEDEFL to ecoinvent`"
   ]
  },
  {
   "cell_type": "code",
   "execution_count": 11,
   "metadata": {},
   "outputs": [],
   "source": [
    "path_to_alt_mapping = (Path.cwd() /'bw2io'/'data'/'FEDEFLv1.0.3-ecoinventEFv3.7.xlsx')\n",
    "assert path_to_alt_mapping.exists()"
   ]
  },
  {
   "cell_type": "code",
   "execution_count": 12,
   "metadata": {},
   "outputs": [],
   "source": [
    "mapping_df = pd.read_excel(path_to_alt_mapping)\n",
    "mapping_dict = mapping_df.set_index('SourceFlowUUID')['TargetFlowUUID'].dropna().to_dict()"
   ]
  },
  {
   "attachments": {},
   "cell_type": "markdown",
   "metadata": {},
   "source": [
    "we can apply this strategy if we have an alternative mapping of uuids to the biosphere3 database"
   ]
  },
  {
   "cell_type": "code",
   "execution_count": 13,
   "metadata": {},
   "outputs": [],
   "source": [
    "lcacommons.data = bw2io.strategies.ilcd.alternative_map_to_biosphere3(lcacommons.data,\n",
    "mapping_dict)"
   ]
  },
  {
   "cell_type": "code",
   "execution_count": 14,
   "metadata": {},
   "outputs": [
    {
     "name": "stdout",
     "output_type": "stream",
     "text": [
      "Applying strategy: link_iterable_by_fields\n"
     ]
    }
   ],
   "source": [
    "lcacommons.match_database('biosphere3',fields=['database','code'])"
   ]
  },
  {
   "cell_type": "code",
   "execution_count": 15,
   "metadata": {},
   "outputs": [
    {
     "name": "stdout",
     "output_type": "stream",
     "text": [
      "1 datasets\n",
      "2128 exchanges\n",
      "1051 unlinked exchanges\n",
      "  Type biosphere: 752 unique unlinked exchanges\n",
      "  Type technosphere: 103 unique unlinked exchanges\n"
     ]
    },
    {
     "data": {
      "text/plain": [
       "(1, 2128, 1051)"
      ]
     },
     "execution_count": 15,
     "metadata": {},
     "output_type": "execute_result"
    }
   ],
   "source": [
    "lcacommons.statistics()"
   ]
  },
  {
   "attachments": {},
   "cell_type": "markdown",
   "metadata": {},
   "source": [
    "ok, substantially better. But this dataset probably requires more specific mapping tricks for a better mapping"
   ]
  },
  {
   "cell_type": "code",
   "execution_count": 16,
   "metadata": {},
   "outputs": [
    {
     "name": "stdout",
     "output_type": "stream",
     "text": [
      "technosphere --- 2,4-DINITROTOLUENE --- d3540cb8-a801-3913-9040-1619ab5b3b46\n",
      "biosphere --- Methyl parathion --- 0cf75565-4164-3e75-b847-4974ebe979fc\n",
      "biosphere --- Bicarbonate --- 1208f3d7-8e09-3e47-9fa8-cbef9b54253d\n",
      "biosphere --- 2,4-D isopropyl ester --- 2fda9070-a8d8-3316-993e-42179ddaf687\n",
      "biosphere --- Nitroglycerin --- 8ee2febb-ace4-38cc-b478-a62b5cf3ed1d\n",
      "biosphere --- Benfluralin --- 076a10b9-d926-33f7-b146-10a1e778d9e7\n",
      "biosphere --- Chromic(VI) acid --- 4717a8b5-2466-3dd1-b856-f639e8442e75\n",
      "biosphere --- Pyrethrin I --- b61e086a-463f-3b36-b45d-649657392231\n",
      "biosphere --- Cupric sulfate --- e9be3546-c54f-3ebc-96a2-a8897de5755f\n",
      "biosphere --- Dimethipin --- 13a4f088-d48e-3c23-bd72-7b74d23a190e\n",
      "biosphere --- (E)-Crotonic acid --- 9d718e3c-b210-3b88-8d2e-27982bcc69e8\n",
      "technosphere --- CORROSIVE WASTE --- d5d165f8-aad3-3b82-a849-1d158c5d031d\n"
     ]
    }
   ],
   "source": [
    "for i,u in enumerate(lcacommons.unlinked):\n",
    "    print(f\"{u['type']} --- {u['name']} --- {u['uuid']}\")\n",
    "\n",
    "    if i > 10: break"
   ]
  },
  {
   "cell_type": "code",
   "execution_count": 17,
   "metadata": {},
   "outputs": [
    {
     "name": "stdout",
     "output_type": "stream",
     "text": [
      "Applying strategy: drop_unlinked\n",
      "Applied 1 strategies in 0.02 seconds\n"
     ]
    }
   ],
   "source": [
    "lcacommons.drop_unlinked(True)"
   ]
  },
  {
   "cell_type": "code",
   "execution_count": 18,
   "metadata": {},
   "outputs": [
    {
     "name": "stdout",
     "output_type": "stream",
     "text": [
      "Warning: No valid output stream.\n",
      "Title: Writing activities to SQLite3 database:\n",
      "  Started: 02/15/2023 12:22:31\n",
      "  Finished: 02/15/2023 12:22:31\n",
      "  Total time elapsed: 00:00:00\n",
      "  CPU %: 77.40\n",
      "  Memory %: 5.97\n",
      "Created database: example_ilcd_lcacommons\n"
     ]
    },
    {
     "data": {
      "text/plain": [
       "Brightway2 SQLiteBackend: example_ilcd_lcacommons"
      ]
     },
     "execution_count": 18,
     "metadata": {},
     "output_type": "execute_result"
    }
   ],
   "source": [
    "lcacommons.write_database()"
   ]
  },
  {
   "cell_type": "code",
   "execution_count": 19,
   "metadata": {},
   "outputs": [],
   "source": [
    "commons_example = bw2data.Database('example_ilcd_lcacommons').random()"
   ]
  },
  {
   "cell_type": "code",
   "execution_count": 20,
   "metadata": {},
   "outputs": [
    {
     "data": {
      "text/plain": [
       "'coal extraction and processing - Northern Appalachia, WC, Underground' (kilogram, GLO, None)"
      ]
     },
     "execution_count": 20,
     "metadata": {},
     "output_type": "execute_result"
    }
   ],
   "source": [
    "surprise = bw2data.Database('example_ilcd_lcacommons').random()\n",
    "surprise"
   ]
  },
  {
   "cell_type": "code",
   "execution_count": 21,
   "metadata": {},
   "outputs": [
    {
     "data": {
      "text/plain": [
       "364.82272957334135"
      ]
     },
     "execution_count": 21,
     "metadata": {},
     "output_type": "execute_result"
    }
   ],
   "source": [
    "lca = bw2calc.LCA({surprise:1},gwp100)\n",
    "lca.lci()\n",
    "lca.lcia()\n",
    "lca.score"
   ]
  },
  {
   "cell_type": "code",
   "execution_count": 30,
   "metadata": {},
   "outputs": [
    {
     "data": {
      "text/plain": [
       "dict_keys(['treatment_standards_routes', 'mix_and_location_types', 'functional_unit_flow_properties', 'uuid', 'general_comment', 'reference_year', 'data_set_valid_until', 'time_representativeness_description', 'location', 'reference_to_reference_flow', 'parameter_name', 'parameter_comment', 'parameter_mean_value', 'parameter_minimum_value', 'parameter_maximum_value', 'parameter_std95', 'parameter_formula', 'intended_application', 'dataset_format', 'licensetype', 'contacts', 'database', 'type', 'code', 'name', 'unit', 'exchanges_name', 'reference product', 'production amount'])"
      ]
     },
     "execution_count": 30,
     "metadata": {},
     "output_type": "execute_result"
    }
   ],
   "source": [
    "# we stract a wide range of info not always available\n",
    "surprise.as_dict().keys()"
   ]
  },
  {
   "cell_type": "code",
   "execution_count": 31,
   "metadata": {},
   "outputs": [
    {
     "name": "stdout",
     "output_type": "stream",
     "text": [
      "---- general_comment \n",
      " The cradle-to-gate inventory for production of coal aggregated to basin, mine type, and coal type groups. For coal extraction there are two major processes that form the basis of the coal life cycle model - underground and surface coal mining. These are connected to auxiliary processes that provide inventories from things like coal mine methane emissions, water use, water emissions, etc. All processes use parameters that allow some differentiation based on region or coal type. Details on the coal modeling can be found in the NETL Coal Baseline report to be published in the near future: netl.doe.gov/LCA This process was created with ElectricityLCI (https://github.com/USEPA/ElectricityLCI) version 1.0.1 using the ELCI_1 configuration.\n",
      "---- reference_year \n",
      " 2016\n",
      "---- data_set_valid_until \n",
      " 2016\n",
      "---- location \n",
      " GLO\n",
      "---- intended_application \n",
      " The intended application for these inventories is to provide high-resolution electricity data for the establishment of robust background data used in LCIs of US systems. These data were developed as regionally specific, average electricity generation/consumption LCI for use in the application of LCAs where accurate electricity inventories are needed to assess the system of interest and/or to evaluate the sensitivity to changes in supplied electricity. A full inventory of environmental flows are included enabling use of a full range of LCIA impact categories.\n",
      "---- dataset_format \n",
      " ILCD format\n",
      "---- contacts \n",
      " [{'email': None, 'website': None, 'short_name': None}, {'email': None, 'website': None, 'short_name': None}]\n",
      "---- database \n",
      " example_ilcd_lcacommons\n",
      "---- type \n",
      " process\n",
      "---- name \n",
      " coal extraction and processing - Northern Appalachia, WC, Underground\n",
      "---- unit \n",
      " kilogram\n",
      "---- reference product \n",
      " coal, processed, at mine\n",
      "---- production amount \n",
      " 1.0\n"
     ]
    }
   ],
   "source": [
    "for key in ['general_comment','treatment_standards_routes','mix_and_location_types', 'functional_unit_flow_properties',\n",
    "'reference_year', 'data_set_valid_until', 'time_representativeness_description', \n",
    "'location', 'intended_application', 'dataset_format','licensetype', 'contacts', \n",
    "'database', 'type',  'name', 'unit', 'reference product', 'production amount']:\n",
    "    if surprise.get(key) is not None:\n",
    "        print('----',key,'\\n',surprise.get(key))"
   ]
  },
  {
   "attachments": {},
   "cell_type": "markdown",
   "metadata": {},
   "source": [
    "## 3) ILCD file with several processes\n",
    "\n",
    "This dataset has 3 processes"
   ]
  },
  {
   "cell_type": "code",
   "execution_count": 34,
   "metadata": {},
   "outputs": [
    {
     "name": "stdout",
     "output_type": "stream",
     "text": [
      "Applying strategy: rename_activity_keys\n",
      "Applying strategy: get_activity_unit\n",
      "Applying strategy: set_production_exchange\n",
      "Applying strategy: convert_to_default_units\n",
      "Applying strategy: assign_only_product_as_production\n",
      "Applying strategy: map_to_biosphere3\n",
      "Applying strategy: set_default_location\n",
      "Applying strategy: set_activity_parameters\n",
      "Applied 8 strategies in 0.02 seconds\n",
      "3 datasets\n",
      "24 exchanges\n",
      "24 unlinked exchanges\n",
      "  Type production: 3 unique unlinked exchanges\n",
      "  Type technosphere: 16 unique unlinked exchanges\n"
     ]
    },
    {
     "data": {
      "text/plain": [
       "(3, 24, 24)"
      ]
     },
     "execution_count": 34,
     "metadata": {},
     "output_type": "execute_result"
    }
   ],
   "source": [
    "path_to_example = Path('bw2io/data/examples/ilcd_examples/US_Forest_Service_Forest_Products_Lab-Woody_biomass.zip')\n",
    "lcacommons = ILCDImporter(dirpath= path_to_example,dbname='lcacommons_forest')\n",
    "lcacommons.apply_strategies()\n",
    "lcacommons.statistics()"
   ]
  },
  {
   "cell_type": "code",
   "execution_count": 35,
   "metadata": {},
   "outputs": [
    {
     "name": "stdout",
     "output_type": "stream",
     "text": [
      "Applying strategy: link_iterable_by_fields\n",
      "3 datasets\n",
      "24 exchanges\n",
      "21 unlinked exchanges\n",
      "  Type technosphere: 16 unique unlinked exchanges\n"
     ]
    },
    {
     "data": {
      "text/plain": [
       "(3, 24, 21)"
      ]
     },
     "execution_count": 35,
     "metadata": {},
     "output_type": "execute_result"
    }
   ],
   "source": [
    "# link production flows\n",
    "lcacommons.match_database(fields=['database','code',])\n",
    "lcacommons.statistics()"
   ]
  },
  {
   "cell_type": "code",
   "execution_count": 36,
   "metadata": {},
   "outputs": [
    {
     "name": "stdout",
     "output_type": "stream",
     "text": [
      "Applying strategy: link_iterable_by_fields\n",
      "3 datasets\n",
      "24 exchanges\n",
      "19 unlinked exchanges\n",
      "  Type technosphere: 15 unique unlinked exchanges\n"
     ]
    },
    {
     "data": {
      "text/plain": [
       "(3, 24, 19)"
      ]
     },
     "execution_count": 36,
     "metadata": {},
     "output_type": "execute_result"
    }
   ],
   "source": [
    "# link technosphere\n",
    "lcacommons.match_database(fields=['exchanges_name','unit',],kind='technosphere')\n",
    "lcacommons.statistics()"
   ]
  },
  {
   "attachments": {},
   "cell_type": "markdown",
   "metadata": {},
   "source": [
    "some examples of unlinked exchanges, that would probably need other datasets from the LCACommons"
   ]
  },
  {
   "cell_type": "code",
   "execution_count": 39,
   "metadata": {},
   "outputs": [
    {
     "data": {
      "text/html": [
       "<div>\n",
       "<style scoped>\n",
       "    .dataframe tbody tr th:only-of-type {\n",
       "        vertical-align: middle;\n",
       "    }\n",
       "\n",
       "    .dataframe tbody tr th {\n",
       "        vertical-align: top;\n",
       "    }\n",
       "\n",
       "    .dataframe thead th {\n",
       "        text-align: right;\n",
       "    }\n",
       "</style>\n",
       "<table border=\"1\" class=\"dataframe\">\n",
       "  <thead>\n",
       "    <tr style=\"text-align: right;\">\n",
       "      <th></th>\n",
       "      <th>14</th>\n",
       "      <th>12</th>\n",
       "      <th>2</th>\n",
       "      <th>8</th>\n",
       "    </tr>\n",
       "  </thead>\n",
       "  <tbody>\n",
       "    <tr>\n",
       "      <th>uuid</th>\n",
       "      <td>f7c00d19-9601-373a-ba23-593e251b4dee</td>\n",
       "      <td>31948a1f-886a-3020-b33b-d381a427dbc6</td>\n",
       "      <td>2afb4e2f-b224-3900-956f-03e3f27b276b</td>\n",
       "      <td>bc38e349-1ccf-3855-a615-a4f581ab875b</td>\n",
       "    </tr>\n",
       "    <tr>\n",
       "      <th>category_0</th>\n",
       "      <td>None</td>\n",
       "      <td>None</td>\n",
       "      <td>None</td>\n",
       "      <td>None</td>\n",
       "    </tr>\n",
       "    <tr>\n",
       "      <th>category_1</th>\n",
       "      <td>None</td>\n",
       "      <td>None</td>\n",
       "      <td>None</td>\n",
       "      <td>None</td>\n",
       "    </tr>\n",
       "    <tr>\n",
       "      <th>category_2</th>\n",
       "      <td>None</td>\n",
       "      <td>None</td>\n",
       "      <td>None</td>\n",
       "      <td>None</td>\n",
       "    </tr>\n",
       "    <tr>\n",
       "      <th>type</th>\n",
       "      <td>technosphere</td>\n",
       "      <td>technosphere</td>\n",
       "      <td>technosphere</td>\n",
       "      <td>technosphere</td>\n",
       "    </tr>\n",
       "    <tr>\n",
       "      <th>refobj</th>\n",
       "      <td>93a60a56-a3c8-22da-a746-0800200c9a66</td>\n",
       "      <td>93a60a56-a3c8-22da-a746-0800200c9a66</td>\n",
       "      <td>838aaa20-0117-11db-92e3-0800200c9a66</td>\n",
       "      <td>93a60a56-a3c8-22da-a746-0800200c9a66</td>\n",
       "    </tr>\n",
       "    <tr>\n",
       "      <th>exchanges_internal_id</th>\n",
       "      <td>1</td>\n",
       "      <td>8</td>\n",
       "      <td>4</td>\n",
       "      <td>9</td>\n",
       "    </tr>\n",
       "    <tr>\n",
       "      <th>exchanges_name</th>\n",
       "      <td>Residual fuel oil, at refinery</td>\n",
       "      <td>Pulpwood, softwood, national forest, steep slo...</td>\n",
       "      <td>Transport, combination truck, average fuel mix</td>\n",
       "      <td>Gasoline, combusted in equipment</td>\n",
       "    </tr>\n",
       "    <tr>\n",
       "      <th>exchanges_direction</th>\n",
       "      <td>Input</td>\n",
       "      <td>Input</td>\n",
       "      <td>Input</td>\n",
       "      <td>Input</td>\n",
       "    </tr>\n",
       "    <tr>\n",
       "      <th>amount</th>\n",
       "      <td>0.000361</td>\n",
       "      <td>0.01344</td>\n",
       "      <td>0.000294</td>\n",
       "      <td>0.000639</td>\n",
       "    </tr>\n",
       "    <tr>\n",
       "      <th>unit</th>\n",
       "      <td>cubic meter</td>\n",
       "      <td>cubic meter</td>\n",
       "      <td>None</td>\n",
       "      <td>cubic meter</td>\n",
       "    </tr>\n",
       "    <tr>\n",
       "      <th>flow property</th>\n",
       "      <td>Volume</td>\n",
       "      <td>Volume</td>\n",
       "      <td>None</td>\n",
       "      <td>Volume</td>\n",
       "    </tr>\n",
       "    <tr>\n",
       "      <th>name</th>\n",
       "      <td>Residual fuel oil, at refinery</td>\n",
       "      <td>Pulpwood, softwood, national forest, steep slo...</td>\n",
       "      <td>Transport, combination truck, average fuel mix</td>\n",
       "      <td>Gasoline, combusted in equipment</td>\n",
       "    </tr>\n",
       "  </tbody>\n",
       "</table>\n",
       "</div>"
      ],
      "text/plain": [
       "                                                         14  \\\n",
       "uuid                   f7c00d19-9601-373a-ba23-593e251b4dee   \n",
       "category_0                                             None   \n",
       "category_1                                             None   \n",
       "category_2                                             None   \n",
       "type                                           technosphere   \n",
       "refobj                 93a60a56-a3c8-22da-a746-0800200c9a66   \n",
       "exchanges_internal_id                                     1   \n",
       "exchanges_name               Residual fuel oil, at refinery   \n",
       "exchanges_direction                                   Input   \n",
       "amount                                             0.000361   \n",
       "unit                                            cubic meter   \n",
       "flow property                                        Volume   \n",
       "name                         Residual fuel oil, at refinery   \n",
       "\n",
       "                                                                      12  \\\n",
       "uuid                                31948a1f-886a-3020-b33b-d381a427dbc6   \n",
       "category_0                                                          None   \n",
       "category_1                                                          None   \n",
       "category_2                                                          None   \n",
       "type                                                        technosphere   \n",
       "refobj                              93a60a56-a3c8-22da-a746-0800200c9a66   \n",
       "exchanges_internal_id                                                  8   \n",
       "exchanges_name         Pulpwood, softwood, national forest, steep slo...   \n",
       "exchanges_direction                                                Input   \n",
       "amount                                                           0.01344   \n",
       "unit                                                         cubic meter   \n",
       "flow property                                                     Volume   \n",
       "name                   Pulpwood, softwood, national forest, steep slo...   \n",
       "\n",
       "                                                                   2   \\\n",
       "uuid                             2afb4e2f-b224-3900-956f-03e3f27b276b   \n",
       "category_0                                                       None   \n",
       "category_1                                                       None   \n",
       "category_2                                                       None   \n",
       "type                                                     technosphere   \n",
       "refobj                           838aaa20-0117-11db-92e3-0800200c9a66   \n",
       "exchanges_internal_id                                               4   \n",
       "exchanges_name         Transport, combination truck, average fuel mix   \n",
       "exchanges_direction                                             Input   \n",
       "amount                                                       0.000294   \n",
       "unit                                                             None   \n",
       "flow property                                                    None   \n",
       "name                   Transport, combination truck, average fuel mix   \n",
       "\n",
       "                                                         8   \n",
       "uuid                   bc38e349-1ccf-3855-a615-a4f581ab875b  \n",
       "category_0                                             None  \n",
       "category_1                                             None  \n",
       "category_2                                             None  \n",
       "type                                           technosphere  \n",
       "refobj                 93a60a56-a3c8-22da-a746-0800200c9a66  \n",
       "exchanges_internal_id                                     9  \n",
       "exchanges_name             Gasoline, combusted in equipment  \n",
       "exchanges_direction                                   Input  \n",
       "amount                                             0.000639  \n",
       "unit                                            cubic meter  \n",
       "flow property                                        Volume  \n",
       "name                       Gasoline, combusted in equipment  "
      ]
     },
     "execution_count": 39,
     "metadata": {},
     "output_type": "execute_result"
    }
   ],
   "source": [
    "pd.DataFrame(lcacommons.unlinked).sample(4).T"
   ]
  },
  {
   "cell_type": "code",
   "execution_count": 40,
   "metadata": {},
   "outputs": [
    {
     "name": "stdout",
     "output_type": "stream",
     "text": [
      "Applying strategy: drop_unlinked\n",
      "Applied 1 strategies in 0.00 seconds\n"
     ]
    }
   ],
   "source": [
    "lcacommons.drop_unlinked(True)"
   ]
  },
  {
   "cell_type": "code",
   "execution_count": 41,
   "metadata": {},
   "outputs": [
    {
     "name": "stdout",
     "output_type": "stream",
     "text": [
      "Warning: No valid output stream.\n",
      "Title: Writing activities to SQLite3 database:\n",
      "  Started: 02/15/2023 12:39:52\n",
      "  Finished: 02/15/2023 12:39:52\n",
      "  Total time elapsed: 00:00:00\n",
      "  CPU %: 0.00\n",
      "  Memory %: 5.97\n",
      "Created database: lcacommons_forest\n"
     ]
    },
    {
     "data": {
      "text/plain": [
       "Brightway2 SQLiteBackend: lcacommons_forest"
      ]
     },
     "execution_count": 41,
     "metadata": {},
     "output_type": "execute_result"
    }
   ],
   "source": [
    "lcacommons.write_database()"
   ]
  },
  {
   "cell_type": "code",
   "execution_count": 47,
   "metadata": {},
   "outputs": [
    {
     "data": {
      "text/plain": [
       "3"
      ]
     },
     "execution_count": 47,
     "metadata": {},
     "output_type": "execute_result"
    }
   ],
   "source": [
    "len(bw2data.Database('lcacommons_forest'))"
   ]
  },
  {
   "cell_type": "code",
   "execution_count": 43,
   "metadata": {},
   "outputs": [
    {
     "data": {
      "text/plain": [
       "'Wood chip briquette production; at plant' (kilogram, US, None)"
      ]
     },
     "execution_count": 43,
     "metadata": {},
     "output_type": "execute_result"
    }
   ],
   "source": [
    "act = bw2data.Database('lcacommons_forest').random()\n",
    "act"
   ]
  },
  {
   "cell_type": "code",
   "execution_count": 44,
   "metadata": {},
   "outputs": [],
   "source": [
    "lca =  bw2calc.LCA({act:1})"
   ]
  },
  {
   "cell_type": "code",
   "execution_count": 45,
   "metadata": {},
   "outputs": [
    {
     "name": "stderr",
     "output_type": "stream",
     "text": [
      "/home/migmig/Documents/repos/brightway2-io/venv_ilcd/lib/python3.9/site-packages/bw2calc/lca.py:228: UserWarning: No biosphere flows found. No inventory results can be calculated, `lcia` will raise an error\n",
      "  warnings.warn(\"No biosphere flows found. No inventory results can \"\n"
     ]
    }
   ],
   "source": [
    "lca.lci()"
   ]
  },
  {
   "cell_type": "code",
   "execution_count": 46,
   "metadata": {},
   "outputs": [
    {
     "data": {
      "text/plain": [
       "matrix([[ 0.0436,  0.    ,  0.    ],\n",
       "        [ 0.    ,  1.    ,  0.    ],\n",
       "        [-0.063 , -1.    ,  1.    ]])"
      ]
     },
     "execution_count": 46,
     "metadata": {},
     "output_type": "execute_result"
    }
   ],
   "source": [
    "lca.technosphere_matrix.todense()"
   ]
  },
  {
   "attachments": {},
   "cell_type": "markdown",
   "metadata": {},
   "source": [
    "The 3 processes in the ilcd file are linked, but connexion to other datasets within the LCAcommons is lost."
   ]
  },
  {
   "cell_type": "markdown",
   "metadata": {},
   "source": []
  }
 ],
 "metadata": {
  "kernelspec": {
   "display_name": "Python 3 (ipykernel)",
   "language": "python",
   "name": "python3"
  },
  "language_info": {
   "codemirror_mode": {
    "name": "ipython",
    "version": 3
   },
   "file_extension": ".py",
   "mimetype": "text/x-python",
   "name": "python",
   "nbconvert_exporter": "python",
   "pygments_lexer": "ipython3",
   "version": "3.9.13"
  },
  "vscode": {
   "interpreter": {
    "hash": "71fadc972d1585e0dbfa9a318a540cf7460577523e723bbc89f2f8bc8a1cca6f"
   }
  }
 },
 "nbformat": 4,
 "nbformat_minor": 4
}
