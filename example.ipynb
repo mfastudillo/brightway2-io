{
 "cells": [
  {
   "cell_type": "code",
   "execution_count": 26,
   "metadata": {},
   "outputs": [],
   "source": [
    "import json\n",
    "from pathlib import Path\n",
    "import shutil\n",
    "\n",
    "import pandas as pd\n",
    "import numpy as np\n",
    "\n",
    "from bw2io import bw2setup\n",
    "from bw2io.importers.io import IOImporter\n",
    "from bw2io.strategies.io import tidy_tables\n",
    "import bw2data as bd\n",
    "import bw2calc as bc\n",
    "import bw2analyzer as ba"
   ]
  },
  {
   "cell_type": "code",
   "execution_count": 3,
   "metadata": {},
   "outputs": [
    {
     "name": "stdout",
     "output_type": "stream",
     "text": [
      "(4, 0, 'DEV37')\n"
     ]
    }
   ],
   "source": [
    "print(bd.__version__)"
   ]
  },
  {
   "cell_type": "code",
   "execution_count": 4,
   "metadata": {},
   "outputs": [],
   "source": [
    "pet_hiot = pd.DataFrame([[1,-2],[0,1]], # experiment setting 1 prod to 0\n",
    "             index=pd.MultiIndex.from_tuples([('DK','prod1'),('DK','prod2')]),\n",
    "             columns = pd.MultiIndex.from_tuples([('DK','act1'),('DK','act2')]))\n",
    "\n",
    "pet_hiot = pet_hiot.astype(pd.SparseDtype(\"float\",0))\n",
    "\n",
    "\n",
    "B = pd.DataFrame([[1,3],[1,2],[0,1]],\n",
    "             index=pd.Index(['co2_air','ch4_air','co2_accelerated_air']),\n",
    "             columns = pd.MultiIndex.from_tuples([('DK','act1'),('DK','act2')]))\n",
    "\n",
    "B = B.astype(pd.SparseDtype(\"float\",0))\n",
    "\n",
    "fd = pd.DataFrame.from_dict(\n",
    "    {\n",
    "    ('DK','Household'):{('DK','prod1'):-11,('DK','prod2'):-3},\n",
    "    ('DK','Government'):{('DK','prod1'):-8,('DK','prod2'):-4},\n",
    "    ('DK','Capital'):{('DK','prod1'):-4,('DK','prod2'):-2}\n",
    "        }\n",
    "    )\n",
    "\n",
    "Bfd = pd.DataFrame([[1,3],],\n",
    "index=pd.Index(['co2_air',]),\n",
    "columns = pd.MultiIndex.from_tuples([('DK','Household'),\n",
    "('DK','Government')])).astype(pd.SparseDtype(\"float\",0))"
   ]
  },
  {
   "cell_type": "code",
   "execution_count": 5,
   "metadata": {},
   "outputs": [
    {
     "name": "stdout",
     "output_type": "stream",
     "text": [
      "           DK     \n",
      "         act1 act2\n",
      "DK prod1  1.0 -2.0\n",
      "   prod2    0  1.0\n",
      "                      DK     \n",
      "                    act1 act2\n",
      "co2_air              1.0  3.0\n",
      "ch4_air              1.0  2.0\n",
      "co2_accelerated_air    0  1.0\n",
      "                DK                   \n",
      "         Household Government Capital\n",
      "DK prod1       -11         -8      -4\n",
      "   prod2        -3         -4      -2\n",
      "               DK           \n",
      "        Household Government\n",
      "co2_air       1.0        3.0\n"
     ]
    }
   ],
   "source": [
    "print(pet_hiot)\n",
    "print(B)\n",
    "print(fd)\n",
    "print(Bfd)"
   ]
  },
  {
   "cell_type": "code",
   "execution_count": 6,
   "metadata": {},
   "outputs": [],
   "source": [
    "pfd = pd.DataFrame((np.eye(fd.shape[1])),index=fd.columns,columns=fd.columns)\n",
    "fd_total = pd.concat([fd,pfd])\n",
    "fd_total = fd_total.astype(pd.SparseDtype(\"float\",0))"
   ]
  },
  {
   "cell_type": "code",
   "execution_count": 7,
   "metadata": {},
   "outputs": [],
   "source": [
    "extended_hiot = pd.concat([pet_hiot,fd_total],axis=1).fillna(0)\n",
    "extended_B = pd.concat([B,Bfd],axis=1).fillna(0)"
   ]
  },
  {
   "cell_type": "code",
   "execution_count": 8,
   "metadata": {},
   "outputs": [
    {
     "name": "stdout",
     "output_type": "stream",
     "text": [
      "                DK                                  \n",
      "              act1 act2 Household Government Capital\n",
      "DK prod1       1.0 -2.0     -11.0       -8.0    -4.0\n",
      "   prod2         0  1.0      -3.0       -4.0    -2.0\n",
      "   Household   0.0  0.0       1.0          0       0\n",
      "   Government  0.0  0.0         0        1.0       0\n",
      "   Capital     0.0  0.0         0          0     1.0\n"
     ]
    }
   ],
   "source": [
    "print(extended_hiot)"
   ]
  },
  {
   "cell_type": "code",
   "execution_count": 9,
   "metadata": {},
   "outputs": [
    {
     "name": "stdout",
     "output_type": "stream",
     "text": [
      "                      DK                          \n",
      "                    act1 act2 Household Government\n",
      "co2_air              1.0  3.0       1.0        3.0\n",
      "ch4_air              1.0  2.0       0.0        0.0\n",
      "co2_accelerated_air    0  1.0       0.0        0.0\n"
     ]
    }
   ],
   "source": [
    "print(extended_B)"
   ]
  },
  {
   "cell_type": "code",
   "execution_count": 10,
   "metadata": {},
   "outputs": [],
   "source": [
    "path_to_intermediate = (Path.cwd()/'results')\n",
    "path_to_intermediate.mkdir(exist_ok=True)"
   ]
  },
  {
   "cell_type": "code",
   "execution_count": 11,
   "metadata": {},
   "outputs": [],
   "source": [
    "metadata_dict = {'prod1':{'unit':'kg','name':'product 1'},\n",
    "                 'prod2':{'unit':'kg','name':'product 2'},\n",
    "                 'Household':{'unit':'unit','name':'the household'},\n",
    "                 'Government':{'unit':'unit','name':'the government'},\n",
    "                 'Capital':{'unit':'unit','name':'capital investments'},\n",
    "\n",
    "                 'co2_air':{'unit':'ton', # not standard units\n",
    "                            'name':'carbon dioxide',\n",
    "                            'compartment':('air',)},\n",
    "                 'ch4_air':{'unit':'kg',\n",
    "                            'name':'methane',\n",
    "                            'compartment':('air',)},\n",
    "                 'co2_accelerated_air':{'unit':'kg', # additional biosphere flow\n",
    "                                        'name':'carbon dioxide accelerated',\n",
    "                                        'compartment':('air',)}\n",
    "                }\n",
    "\n",
    "with open(path_to_intermediate/'io_metadata.json', 'w') as fp:\n",
    "    json.dump(metadata_dict, fp,indent=4)"
   ]
  },
  {
   "cell_type": "code",
   "execution_count": 12,
   "metadata": {},
   "outputs": [],
   "source": [
    "tidy_tables(extended_hiot,extended_B,path_to_intermediate)"
   ]
  },
  {
   "cell_type": "code",
   "execution_count": 13,
   "metadata": {},
   "outputs": [],
   "source": [
    "bd.projects.set_current('test_io_importer')"
   ]
  },
  {
   "cell_type": "code",
   "execution_count": 14,
   "metadata": {},
   "outputs": [
    {
     "name": "stdout",
     "output_type": "stream",
     "text": [
      "Biosphere database already present!!! No setup is needed\n"
     ]
    }
   ],
   "source": [
    "bw2setup()"
   ]
  },
  {
   "cell_type": "code",
   "execution_count": 15,
   "metadata": {},
   "outputs": [
    {
     "name": "stderr",
     "output_type": "stream",
     "text": [
      "c:\\Users\\Astudillo\\repos20\\brightway2-io\\venv\\Lib\\site-packages\\bw2data\\backends\\base.py:625: UserWarning: \n",
      "            Please use `del databases['pet_io_db']` instead.\n",
      "            Otherwise, the metadata and database get out of sync.\n",
      "            Call `.delete(warn=False)` to skip this message in the future.\n",
      "            \n",
      "  warnings.warn(MESSAGE.format(self.name), UserWarning)\n",
      "c:\\Users\\Astudillo\\repos20\\brightway2-io\\venv\\Lib\\site-packages\\bw2data\\backends\\base.py:625: UserWarning: \n",
      "            Please use `del databases['pet_io_db biosphere']` instead.\n",
      "            Otherwise, the metadata and database get out of sync.\n",
      "            Call `.delete(warn=False)` to skip this message in the future.\n",
      "            \n",
      "  warnings.warn(MESSAGE.format(self.name), UserWarning)\n"
     ]
    }
   ],
   "source": [
    "try:\n",
    "    del bd.databases['pet_io_db biosphere']\n",
    "    del bd.databases['pet_io_db']\n",
    "    bd.Database('pet_io_db').delete()\n",
    "    bd.Database('pet_io_db biosphere').delete()\n",
    "except KeyError:\n",
    "    print('db not there')"
   ]
  },
  {
   "cell_type": "code",
   "execution_count": 16,
   "metadata": {},
   "outputs": [],
   "source": [
    "pet_example = IOImporter(path_to_intermediate,'pet_io_db')\n",
    "pet_example.apply_strategies()"
   ]
  },
  {
   "cell_type": "code",
   "execution_count": 17,
   "metadata": {},
   "outputs": [
    {
     "name": "stderr",
     "output_type": "stream",
     "text": [
      "100%|██████████| 1/1 [00:00<00:00, 1000.07it/s]\n"
     ]
    },
    {
     "name": "stdout",
     "output_type": "stream",
     "text": [
      "Vacuuming database \n"
     ]
    },
    {
     "name": "stderr",
     "output_type": "stream",
     "text": [
      "100%|██████████| 5/5 [00:00<00:00, 165.93it/s]\n"
     ]
    },
    {
     "name": "stdout",
     "output_type": "stream",
     "text": [
      "Vacuuming database \n",
      "Starting IO table write\n",
      "Adding technosphere matrix\n",
      "Adding biosphere matrix\n",
      "Finalizing serialization\n"
     ]
    }
   ],
   "source": [
    "pet_example.write_database()"
   ]
  },
  {
   "cell_type": "code",
   "execution_count": 27,
   "metadata": {},
   "outputs": [],
   "source": [
    "test_db = bd.Database('pet_io_db')"
   ]
  },
  {
   "cell_type": "code",
   "execution_count": 28,
   "metadata": {},
   "outputs": [],
   "source": [
    "act1 = test_db.get(code='act1|DK')\n",
    "act2 = test_db.get(code='act2|DK')"
   ]
  },
  {
   "cell_type": "code",
   "execution_count": 20,
   "metadata": {},
   "outputs": [],
   "source": [
    "ipcc_2021 = ('IPCC 2021', 'climate change', 'global warming potential (GWP100)')"
   ]
  },
  {
   "cell_type": "code",
   "execution_count": 21,
   "metadata": {},
   "outputs": [],
   "source": [
    "test_lca = bc.LCA({act2:1},ipcc_2021)"
   ]
  },
  {
   "cell_type": "code",
   "execution_count": 22,
   "metadata": {},
   "outputs": [
    {
     "data": {
      "text/plain": [
       "4655.12370300293"
      ]
     },
     "execution_count": 22,
     "metadata": {},
     "output_type": "execute_result"
    }
   ],
   "source": [
    "test_lca.lci()\n",
    "test_lca.lcia()\n",
    "test_lca.score"
   ]
  },
  {
   "cell_type": "code",
   "execution_count": 23,
   "metadata": {},
   "outputs": [
    {
     "data": {
      "text/html": [
       "<div>\n",
       "<style scoped>\n",
       "    .dataframe tbody tr th:only-of-type {\n",
       "        vertical-align: middle;\n",
       "    }\n",
       "\n",
       "    .dataframe tbody tr th {\n",
       "        vertical-align: top;\n",
       "    }\n",
       "\n",
       "    .dataframe thead tr th {\n",
       "        text-align: left;\n",
       "    }\n",
       "</style>\n",
       "<table border=\"1\" class=\"dataframe\">\n",
       "  <thead>\n",
       "    <tr>\n",
       "      <th></th>\n",
       "      <th></th>\n",
       "      <th colspan=\"5\" halign=\"left\">DK</th>\n",
       "    </tr>\n",
       "    <tr>\n",
       "      <th></th>\n",
       "      <th></th>\n",
       "      <th>act1</th>\n",
       "      <th>act2</th>\n",
       "      <th>Household</th>\n",
       "      <th>Government</th>\n",
       "      <th>Capital</th>\n",
       "    </tr>\n",
       "  </thead>\n",
       "  <tbody>\n",
       "    <tr>\n",
       "      <th rowspan=\"5\" valign=\"top\">DK</th>\n",
       "      <th>prod1</th>\n",
       "      <td>1.0</td>\n",
       "      <td>-2.0</td>\n",
       "      <td>-11.0</td>\n",
       "      <td>-8.0</td>\n",
       "      <td>-4.0</td>\n",
       "    </tr>\n",
       "    <tr>\n",
       "      <th>prod2</th>\n",
       "      <td>0</td>\n",
       "      <td>1.0</td>\n",
       "      <td>-3.0</td>\n",
       "      <td>-4.0</td>\n",
       "      <td>-2.0</td>\n",
       "    </tr>\n",
       "    <tr>\n",
       "      <th>Household</th>\n",
       "      <td>0.0</td>\n",
       "      <td>0.0</td>\n",
       "      <td>1.0</td>\n",
       "      <td>0</td>\n",
       "      <td>0</td>\n",
       "    </tr>\n",
       "    <tr>\n",
       "      <th>Government</th>\n",
       "      <td>0.0</td>\n",
       "      <td>0.0</td>\n",
       "      <td>0</td>\n",
       "      <td>1.0</td>\n",
       "      <td>0</td>\n",
       "    </tr>\n",
       "    <tr>\n",
       "      <th>Capital</th>\n",
       "      <td>0.0</td>\n",
       "      <td>0.0</td>\n",
       "      <td>0</td>\n",
       "      <td>0</td>\n",
       "      <td>1.0</td>\n",
       "    </tr>\n",
       "  </tbody>\n",
       "</table>\n",
       "</div>"
      ],
      "text/plain": [
       "                DK                                  \n",
       "              act1 act2 Household Government Capital\n",
       "DK prod1       1.0 -2.0     -11.0       -8.0    -4.0\n",
       "   prod2         0  1.0      -3.0       -4.0    -2.0\n",
       "   Household   0.0  0.0       1.0          0       0\n",
       "   Government  0.0  0.0         0        1.0       0\n",
       "   Capital     0.0  0.0         0          0     1.0"
      ]
     },
     "execution_count": 23,
     "metadata": {},
     "output_type": "execute_result"
    }
   ],
   "source": [
    "extended_hiot"
   ]
  },
  {
   "cell_type": "code",
   "execution_count": 24,
   "metadata": {},
   "outputs": [
    {
     "data": {
      "text/plain": [
       "matrix([[  1.,  -2., -11.,  -8.,  -4.],\n",
       "        [  0.,   1.,  -3.,  -4.,  -2.],\n",
       "        [  0.,   0.,   1.,   0.,   0.],\n",
       "        [  0.,   0.,   0.,   1.,   0.],\n",
       "        [  0.,   0.,   0.,   0.,   1.]])"
      ]
     },
     "execution_count": 24,
     "metadata": {},
     "output_type": "execute_result"
    }
   ],
   "source": [
    "test_lca.technosphere_matrix.todense()"
   ]
  },
  {
   "cell_type": "code",
   "execution_count": 36,
   "metadata": {},
   "outputs": [
    {
     "name": "stdout",
     "output_type": "stream",
     "text": [
      "Fraction of score | Absolute score | Amount | Activity\n",
      "0001 |  4655 |     1 | 'act2' (kilogram, DK, None)\n",
      "  0.403 |  1874 |     2 | 'act1' (kilogram, DK, None)\n"
     ]
    }
   ],
   "source": [
    "ba.print_recursive_calculation(act2,ipcc_2021,use_matrix_values=True)"
   ]
  },
  {
   "cell_type": "code",
   "execution_count": null,
   "metadata": {},
   "outputs": [],
   "source": []
  }
 ],
 "metadata": {
  "kernelspec": {
   "display_name": "venv",
   "language": "python",
   "name": "python3"
  },
  "language_info": {
   "codemirror_mode": {
    "name": "ipython",
    "version": 3
   },
   "file_extension": ".py",
   "mimetype": "text/x-python",
   "name": "python",
   "nbconvert_exporter": "python",
   "pygments_lexer": "ipython3",
   "version": "3.11.5"
  }
 },
 "nbformat": 4,
 "nbformat_minor": 2
}
