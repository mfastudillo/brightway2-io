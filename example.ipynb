{
 "cells": [
  {
   "cell_type": "code",
   "execution_count": 10,
   "metadata": {},
   "outputs": [],
   "source": [
    "import json\n",
    "from pathlib import Path\n",
    "\n",
    "import pandas as pd\n",
    "import numpy as np\n",
    "\n",
    "from bw2io.importers.io import IOImporter\n",
    "from bw2io.strategies.io import tidy_tables"
   ]
  },
  {
   "cell_type": "code",
   "execution_count": 2,
   "metadata": {},
   "outputs": [],
   "source": [
    "pet_hiot = pd.DataFrame([[1,-2],[0,1]], # experiment setting 1 prod to 0\n",
    "             index=pd.MultiIndex.from_tuples([('DK','prod1'),('DK','prod2')]),\n",
    "             columns = pd.MultiIndex.from_tuples([('DK','act1'),('DK','act2')]))\n",
    "\n",
    "pet_hiot = pet_hiot.astype(pd.SparseDtype(\"float\",0))\n",
    "\n",
    "\n",
    "B = pd.DataFrame([[1,3],[1,2],[0,1]],\n",
    "             index=pd.Index(['co2_air','ch4_air','co2_accelerated_air']),\n",
    "             columns = pd.MultiIndex.from_tuples([('DK','act1'),('DK','act2')]))\n",
    "\n",
    "B = B.astype(pd.SparseDtype(\"float\",0))\n",
    "\n",
    "fd = pd.DataFrame.from_dict(\n",
    "    {\n",
    "    ('DK','Household'):{('DK','prod1'):-11,('DK','prod2'):-3},\n",
    "    ('DK','Government'):{('DK','prod1'):-8,('DK','prod2'):-4},\n",
    "    ('DK','Capital'):{('DK','prod1'):-4,('DK','prod2'):-2}\n",
    "        }\n",
    "    )\n",
    "\n",
    "Bfd = pd.DataFrame([[1,3],],\n",
    "index=pd.Index(['co2_air',]),\n",
    "columns = pd.MultiIndex.from_tuples([('DK','Household'),\n",
    "('DK','Government')])).astype(pd.SparseDtype(\"float\",0))"
   ]
  },
  {
   "cell_type": "code",
   "execution_count": 3,
   "metadata": {},
   "outputs": [
    {
     "name": "stdout",
     "output_type": "stream",
     "text": [
      "           DK     \n",
      "         act1 act2\n",
      "DK prod1  1.0 -2.0\n",
      "   prod2    0  1.0\n",
      "                      DK     \n",
      "                    act1 act2\n",
      "co2_air              1.0  3.0\n",
      "ch4_air              1.0  2.0\n",
      "co2_accelerated_air    0  1.0\n",
      "                DK                   \n",
      "         Household Government Capital\n",
      "DK prod1       -11         -8      -4\n",
      "   prod2        -3         -4      -2\n",
      "               DK           \n",
      "        Household Government\n",
      "co2_air       1.0        3.0\n"
     ]
    }
   ],
   "source": [
    "print(pet_hiot)\n",
    "print(B)\n",
    "print(fd)\n",
    "print(Bfd)"
   ]
  },
  {
   "cell_type": "code",
   "execution_count": 4,
   "metadata": {},
   "outputs": [],
   "source": [
    "pfd = pd.DataFrame((np.eye(fd.shape[1])),index=fd.columns,columns=fd.columns)\n",
    "fd_total = pd.concat([fd,pfd])\n",
    "fd_total = fd_total.astype(pd.SparseDtype(\"float\",0))"
   ]
  },
  {
   "cell_type": "code",
   "execution_count": 5,
   "metadata": {},
   "outputs": [],
   "source": [
    "extended_hiot = pd.concat([pet_hiot,fd_total],axis=1).fillna(0)\n",
    "extended_B = pd.concat([B,Bfd],axis=1).fillna(0)"
   ]
  },
  {
   "cell_type": "code",
   "execution_count": 6,
   "metadata": {},
   "outputs": [
    {
     "name": "stdout",
     "output_type": "stream",
     "text": [
      "                DK                                  \n",
      "              act1 act2 Household Government Capital\n",
      "DK prod1       1.0 -2.0     -11.0       -8.0    -4.0\n",
      "   prod2         0  1.0      -3.0       -4.0    -2.0\n",
      "   Household   0.0  0.0       1.0          0       0\n",
      "   Government  0.0  0.0         0        1.0       0\n",
      "   Capital     0.0  0.0         0          0     1.0\n"
     ]
    }
   ],
   "source": [
    "print(extended_hiot)"
   ]
  },
  {
   "cell_type": "code",
   "execution_count": 7,
   "metadata": {},
   "outputs": [
    {
     "name": "stdout",
     "output_type": "stream",
     "text": [
      "                      DK                          \n",
      "                    act1 act2 Household Government\n",
      "co2_air              1.0  3.0       1.0        3.0\n",
      "ch4_air              1.0  2.0       0.0        0.0\n",
      "co2_accelerated_air    0  1.0       0.0        0.0\n"
     ]
    }
   ],
   "source": [
    "print(extended_B)"
   ]
  },
  {
   "cell_type": "code",
   "execution_count": null,
   "metadata": {},
   "outputs": [],
   "source": [
    "path_to_intermediate = (Path.cwd()/'results')\n",
    "path_to_intermediate.mkdir(exist_ok=True)"
   ]
  },
  {
   "cell_type": "code",
   "execution_count": 21,
   "metadata": {},
   "outputs": [],
   "source": [
    "metadata_dict = {'prod1':{'unit':'kg','name':'product 1'},\n",
    "                 'prod2':{'unit':'kg','name':'product 2'},\n",
    "                 'Household':{'unit':'unit','name':'the household'},\n",
    "                 'Government':{'unit':'unit','name':'the government'},\n",
    "                 'Capital':{'unit':'unit','name':'capital investments'},\n",
    "\n",
    "                 'co2_air':{'unit':'ton', # not standard units\n",
    "                            'name':'carbon dioxide',\n",
    "                            'compartment':('air',)},\n",
    "                 'ch4_air':{'unit':'kg',\n",
    "                            'name':'methane',\n",
    "                            'compartment':('air',)},\n",
    "                 'co2_accelerated_air':{'unit':'kg', # additional biosphere flow\n",
    "                                        'name':'carbon dioxide accelerated',\n",
    "                                        'compartment':('air',)}\n",
    "                }\n",
    "\n",
    "with open(path_to_intermediate/'io_metadata.json', 'w') as fp:\n",
    "    json.dump(metadata_dict, fp,indent=4)"
   ]
  },
  {
   "cell_type": "code",
   "execution_count": 20,
   "metadata": {},
   "outputs": [],
   "source": [
    "tidy_tables(extended_hiot,extended_B,path_to_intermediate)"
   ]
  }
 ],
 "metadata": {
  "kernelspec": {
   "display_name": "venv",
   "language": "python",
   "name": "python3"
  },
  "language_info": {
   "codemirror_mode": {
    "name": "ipython",
    "version": 3
   },
   "file_extension": ".py",
   "mimetype": "text/x-python",
   "name": "python",
   "nbconvert_exporter": "python",
   "pygments_lexer": "ipython3",
   "version": "3.11.5"
  }
 },
 "nbformat": 4,
 "nbformat_minor": 2
}
